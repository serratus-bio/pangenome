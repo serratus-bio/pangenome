{
 "cells": [
  {
   "cell_type": "markdown",
   "metadata": {},
   "source": [
    "# Pangenome dataset export"
   ]
  },
  {
   "cell_type": "markdown",
   "metadata": {},
   "source": [
    "## Setup"
   ]
  },
  {
   "cell_type": "code",
   "execution_count": 1,
   "metadata": {},
   "outputs": [],
   "source": [
    "## Notebook config\n",
    "\n",
    "import sys\n",
    "if '../' not in sys.path:\n",
    "    sys.path.append(\"../\")\n",
    "%load_ext dotenv\n",
    "%reload_ext dotenv\n",
    "%dotenv"
   ]
  },
  {
   "cell_type": "code",
   "execution_count": 2,
   "metadata": {},
   "outputs": [
    {
     "name": "stderr",
     "output_type": "stream",
     "text": [
      "/home/ec2-user/miniconda3/envs/rnalab/lib/python3.12/site-packages/tqdm/auto.py:21: TqdmWarning: IProgress not found. Please update jupyter and ipywidgets. See https://ipywidgets.readthedocs.io/en/stable/user_install.html\n",
      "  from .autonotebook import tqdm as notebook_tqdm\n"
     ]
    }
   ],
   "source": [
    "# Notebook imports\n",
    "\n",
    "import ast\n",
    "import os\n",
    "import pickle\n",
    "import collections \n",
    "\n",
    "\n",
    "from Bio import Entrez, SeqIO\n",
    "from graphdatascience import GraphDataScience\n",
    "import matplotlib.pyplot as plt\n",
    "import numpy as np\n",
    "import pandas as pd\n",
    "import seaborn as sns\n",
    "import torch\n",
    "import umap"
   ]
  },
  {
   "cell_type": "code",
   "execution_count": 3,
   "metadata": {},
   "outputs": [],
   "source": [
    "DATASET_DIR = './dataset/'\n",
    "PROJECTION_NAME_PREFIX = 'dataset_projection_'\n",
    "RANDOM_SEED = 42\n",
    "\n",
    "NEO4J_URI = os.environ.get('NEO4J_URI')\n",
    "NEO4J_USER = os.environ.get('NEO4J_USER')\n",
    "NEO4J_PASSWORD = os.environ.get('NEO4J_PASSWORD')\n"
   ]
  },
  {
   "cell_type": "markdown",
   "metadata": {},
   "source": [
    "## Create GDS projection"
   ]
  },
  {
   "cell_type": "code",
   "execution_count": 28,
   "metadata": {},
   "outputs": [],
   "source": [
    "# GDS utils\n",
    "def get_gds_client():\n",
    "    return GraphDataScience(NEO4J_URI, auth=(NEO4J_USER, NEO4J_PASSWORD))\n",
    "\n",
    "def get_projection_name(version=1):\n",
    "    return PROJECTION_NAME_PREFIX + str(version)\n",
    "\n",
    "def get_projection(gds, projection_name):\n",
    "    if gds.graph.exists(projection_name)['exists']:\n",
    "        return gds.graph.get(projection_name)\n",
    "    projection = gds.graph.project(\n",
    "        graph_name=projection_name,\n",
    "        node_spec=[\n",
    "            'Fasta',\n",
    "            'Hit',\n",
    "            'HitFamily',\n",
    "            'HitRegion',\n",
    "        ],\n",
    "        # 'properties': {'weight': {'defaultValue': 1}\n",
    "        relationship_spec={\n",
    "            'hasHit': {'orientation': 'UNDIRECTED'},\n",
    "            'hasRegion': {'orientation': 'UNDIRECTED', 'properties': {'regid': {'defaultValue': 1}}},\n",
    "            'hasAffiliate': {'orientation': 'UNDIRECTED', 'properties': {'coverage': {'defaultValue': 1}}},\n",
    "            'hasMember': {'orientation': 'UNDIRECTED', 'properties': {'probab': {'defaultValue': 1}}},\n",
    "            'hasDownstream': {'orientation': 'UNDIRECTED'},\n",
    "        },\n",
    "    )\n",
    "    return projection\n",
    "\n",
    "def delete_projection(gds, projection_name):\n",
    "    if gds.graph.exists(projection_name)['exists']:\n",
    "        gds.graph.drop(gds.graph.get(projection_name))\n"
   ]
  },
  {
   "cell_type": "code",
   "execution_count": 29,
   "metadata": {},
   "outputs": [
    {
     "name": "stdout",
     "output_type": "stream",
     "text": [
      "GraphCreateResult(graph=Graph({'graphName': 'dataset_projection_1', 'nodeCount': 148782, 'relationshipCount': 787238, 'database': 'neo4j', 'configuration': {'relationshipProjection': {'hasHit': {'aggregation': 'DEFAULT', 'orientation': 'UNDIRECTED', 'indexInverse': False, 'properties': {}, 'type': 'hasHit'}, 'hasMember': {'aggregation': 'DEFAULT', 'orientation': 'UNDIRECTED', 'indexInverse': False, 'properties': {'probab': {'aggregation': 'DEFAULT', 'property': 'probab', 'defaultValue': 1}}, 'type': 'hasMember'}, 'hasRegion': {'aggregation': 'DEFAULT', 'orientation': 'UNDIRECTED', 'indexInverse': False, 'properties': {'regid': {'aggregation': 'DEFAULT', 'property': 'regid', 'defaultValue': 1}}, 'type': 'hasRegion'}, 'hasDownstream': {'aggregation': 'DEFAULT', 'orientation': 'UNDIRECTED', 'indexInverse': False, 'properties': {}, 'type': 'hasDownstream'}, 'hasAffiliate': {'aggregation': 'DEFAULT', 'orientation': 'UNDIRECTED', 'indexInverse': False, 'properties': {'coverage': {'aggregation': 'DEFAULT', 'property': 'coverage', 'defaultValue': 1}}, 'type': 'hasAffiliate'}}, 'readConcurrency': 4, 'relationshipProperties': {}, 'nodeProperties': {}, 'jobId': 'be358a8a-8c93-45bb-9f2e-33166919b204', 'nodeProjection': {'HitRegion': {'label': 'HitRegion', 'properties': {}}, 'Hit': {'label': 'Hit', 'properties': {}}, 'HitFamily': {'label': 'HitFamily', 'properties': {}}, 'Fasta': {'label': 'Fasta', 'properties': {}}}, 'logProgress': True, 'creationTime': neo4j.time.DateTime(2024, 4, 23, 20, 18, 47, 111921113, tzinfo=<UTC>), 'validateRelationships': False, 'sudo': False}, 'schema': {'graphProperties': {}, 'nodes': {'HitRegion': {}, 'Hit': {}, 'HitFamily': {}, 'Fasta': {}}, 'relationships': {'hasHit': {}, 'hasMember': {'probab': 'Float (DefaultValue(1), PERSISTENT, Aggregation.NONE)'}, 'hasRegion': {'regid': 'Float (DefaultValue(1), PERSISTENT, Aggregation.NONE)'}, 'hasDownstream': {}, 'hasAffiliate': {'coverage': 'Float (DefaultValue(1), PERSISTENT, Aggregation.NONE)'}}}, 'memoryUsage': '152 MiB'}), result=nodeProjection            {'HitRegion': {'label': 'HitRegion', 'properti...\n",
      "relationshipProjection    {'hasHit': {'aggregation': 'DEFAULT', 'orienta...\n",
      "graphName                                              dataset_projection_1\n",
      "nodeCount                                                            148782\n",
      "relationshipCount                                                    787238\n",
      "projectMillis                                                          1374\n",
      "Name: 0, dtype: object)\n"
     ]
    }
   ],
   "source": [
    "# Create GDS projection\n",
    "\n",
    "version = 1\n",
    "projection_name = get_projection_name(version)\n",
    "gds = get_gds_client()\n",
    "delete_projection(gds, projection_name)\n",
    "projection = get_projection(gds, projection_name)\n",
    "print(projection)"
   ]
  },
  {
   "cell_type": "code",
   "execution_count": 13,
   "metadata": {},
   "outputs": [],
   "source": [
    "# Add node features (at least one common node property is needed to use the export function)\n",
    "\n",
    "df_degree = gds.degree.mutate(\n",
    "    G=gds.graph.get(projection_name),\n",
    "    mutateProperty='degree',\n",
    "    nodeLabels=[\n",
    "        'Fasta',\n",
    "        'Hit',\n",
    "        'HitFamily',\n",
    "        'HitRegion',\n",
    "    ],\n",
    "    relationshipTypes=[\n",
    "        'hasHit',\n",
    "        'hasRegion',\n",
    "        'hasAffiliate',\n",
    "        'hasDownstream',\n",
    "        'hasMember',\n",
    "    ],\n",
    ")"
   ]
  },
  {
   "cell_type": "markdown",
   "metadata": {},
   "source": [
    "## Export Datasets"
   ]
  },
  {
   "cell_type": "code",
   "execution_count": 15,
   "metadata": {},
   "outputs": [],
   "source": [
    "# Export nodes\n",
    "\n",
    "def export_nodes_from_projection(property):\n",
    "    exported_projection = gds.graph.nodeProperties.stream(\n",
    "        get_projection(gds, get_projection_name()),\n",
    "        node_properties=[property],\n",
    "        separate_property_columns=True,\n",
    "        db_node_properties=['accession', 'name', 'annotation', 'source', 'taxonomy'],\n",
    "        listNodeLabels=True,\n",
    "    )\n",
    "    exported_projection['nodeLabels'] = exported_projection['nodeLabels'].apply(lambda x: x[0])\n",
    "    return exported_projection\n",
    "\n",
    "\n",
    "exported_projection = export_nodes_from_projection('degree')\n",
    "\n",
    "assert len(exported_projection.loc[\n",
    "    exported_projection['nodeLabels'] == 'Fasta'\n",
    "])  == 6702"
   ]
  },
  {
   "cell_type": "code",
   "execution_count": 16,
   "metadata": {},
   "outputs": [],
   "source": [
    "# Enrich Genomes with taxonomic labels from ICTV string\n",
    "\n",
    "def get_taxonomy_by_idx(tax_str, idx):\n",
    "    try:\n",
    "        return tax_str.split(';')[idx].strip()\n",
    "    except:\n",
    "        return None\n",
    "\n",
    "def enrich_data_with_tax_labels(df):\n",
    "    rank_index = {\n",
    "        'clade': 0,\n",
    "        'kingdom': 2,\n",
    "        'phylum': 4,\n",
    "        'class': 6,\n",
    "        'order': 8,\n",
    "        'family': 10,\n",
    "        'genus': 12,\n",
    "        'species': 14,\n",
    "    }\n",
    "    for rank in ['species', 'genus', 'family', 'order', 'class', 'phylum']:\n",
    "        df[rank] = None\n",
    "        df.loc[df['nodeLabels'] == 'Genome', rank] = df.loc[\n",
    "            df['nodeLabels'] == 'Genome', 'taxonomy'].apply(get_taxonomy_by_idx, args=[rank_index[rank]])\n",
    "    return df\n",
    "\n",
    "exported_projection = enrich_data_with_tax_labels(exported_projection)"
   ]
  },
  {
   "cell_type": "code",
   "execution_count": 17,
   "metadata": {},
   "outputs": [],
   "source": [
    "# Enrich nodes\n",
    "\n",
    "# nodeId is not stable in neo4j, instead add a reference to a stable node attribute\n",
    "def set_app_id(df):\n",
    "    config = {\n",
    "        'Fasta': 'accession',\n",
    "        'Hit': 'name',\n",
    "        'HitFamily': 'accession',\n",
    "        'HitRegion': 'name',\n",
    "    }\n",
    "    df['appId'] = None\n",
    "    for node_label, id_column in config.items():\n",
    "        df.loc[df['nodeLabels'] == node_label, 'appId'] = df.loc[\n",
    "            df['nodeLabels'] == node_label, id_column]\n",
    "\n",
    "set_app_id(exported_projection)\n",
    "\n",
    "nodes = exported_projection[[\n",
    "    'nodeId',\n",
    "    'appId',\n",
    "    'nodeLabels',\n",
    "    'degree',\n",
    "    'accession',\n",
    "    'name',\n",
    "    'annotation',\n",
    "    'species',\n",
    "    'genus',\n",
    "    'family',\n",
    "    'order',\n",
    "    'phylum',\n",
    "    'class',\n",
    "]]\n",
    "\n",
    "nodes.to_csv(DATASET_DIR + 'pangenome_nodes.csv', index=False)"
   ]
  },
  {
   "cell_type": "code",
   "execution_count": 33,
   "metadata": {},
   "outputs": [
    {
     "name": "stdout",
     "output_type": "stream",
     "text": [
      "   sourceNodeId  targetNodeId relationshipType relationshipProperty  \\\n",
      "0         44736           191        hasMember               probab   \n",
      "1         44737           192        hasMember               probab   \n",
      "2         44738           193        hasMember               probab   \n",
      "3         44739           195        hasMember               probab   \n",
      "4         44740           196        hasMember               probab   \n",
      "\n",
      "   propertyValue  \n",
      "0         0.9935  \n",
      "1         0.9887  \n",
      "2         0.9914  \n",
      "3         0.9712  \n",
      "4         0.9339  \n"
     ]
    }
   ],
   "source": [
    "# Export dataset edges\n",
    "\n",
    "edges = gds.graph.relationshipProperties.stream(\n",
    "    get_projection(gds, get_projection_name()),\n",
    "    relationship_properties=['probab'],\n",
    ")\n",
    "\n",
    "def set_edge_weights(df):\n",
    "    config = {\n",
    "        'hasHit': 'identities',\n",
    "        'hasRegion': 'identities',\n",
    "        'hasAffiliate': 'identities',\n",
    "        'hasDownstream': 'identities',\n",
    "        'hasMember': 'identities',\n",
    "    }\n",
    "    df['weight'] = None\n",
    "    edges.dropna(subset=['weight'], inplace=True)\n",
    "\n",
    "# set_edge_weights(edges)\n",
    "\n",
    "print(edges.head())\n",
    "\n",
    "# edges.to_csv(DATASET_DIR + 'edges.csv', index=False)"
   ]
  },
  {
   "cell_type": "code",
   "execution_count": 34,
   "metadata": {},
   "outputs": [
    {
     "name": "stdout",
     "output_type": "stream",
     "text": [
      "['hasMember']\n"
     ]
    }
   ],
   "source": []
  },
  {
   "cell_type": "code",
   "execution_count": 51,
   "metadata": {},
   "outputs": [
    {
     "data": {
      "text/plain": [
       "graphName                                         exploration_projection_1\n",
       "database                                                             neo4j\n",
       "memoryUsage                                                               \n",
       "sizeInBytes                                                             -1\n",
       "nodeCount                                                            33453\n",
       "relationshipCount                                                  1345820\n",
       "configuration            {'relationshipProjection': {'HasReg': {'aggreg...\n",
       "density                                                           0.001203\n",
       "creationTime                           2024-04-22T15:16:18.864758401+00:00\n",
       "modificationTime                       2024-04-22T15:19:25.329273718+00:00\n",
       "schema                   {'graphProperties': {}, 'nodes': {'FuncDomainS...\n",
       "schemaWithOrientation    {'graphProperties': {}, 'nodes': {'FuncDomainS...\n",
       "Name: 0, dtype: object"
      ]
     },
     "execution_count": 51,
     "metadata": {},
     "output_type": "execute_result"
    }
   ],
   "source": [
    "# drop projection\n",
    "gds.graph.drop(get_projection_name())"
   ]
  },
  {
   "cell_type": "markdown",
   "metadata": {},
   "source": [
    "## Graphistry"
   ]
  },
  {
   "cell_type": "code",
   "execution_count": 186,
   "metadata": {},
   "outputs": [],
   "source": [
    "import graphistry\n",
    "graphistry.register(\n",
    "    api=3,\n",
    "    username=os.getenv('GRAPHISTRY_USERNAME'),\n",
    "    password=os.getenv('GRAPHISTRY_PASSWORD'),\n",
    ")"
   ]
  },
  {
   "cell_type": "markdown",
   "metadata": {},
   "source": []
  },
  {
   "cell_type": "code",
   "execution_count": 190,
   "metadata": {},
   "outputs": [
    {
     "data": {
      "text/html": [
       "\n",
       "            <iframe id=\"cb051377-f3db-4661-91d3-47957a733fcc\" src=\"https://hub.graphistry.com/graph/graph.html?dataset=3d9cefd2699f4ffd863056daeb35551a&type=arrow&viztoken=841d016d-55ac-4973-9617-c591cc42677d&usertag=b57ac981-pygraphistry-0.33.5&splashAfter=1712266557&info=true\"\n",
       "                    allowfullscreen=\"true\" webkitallowfullscreen=\"true\" mozallowfullscreen=\"true\"\n",
       "                    oallowfullscreen=\"true\" msallowfullscreen=\"true\"\n",
       "                    style=\"width:100%; height:500px; border: 1px solid #DDD; overflow: hidden\"\n",
       "                    \n",
       "            >\n",
       "            </iframe>\n",
       "        \n",
       "            <script>\n",
       "                try {\n",
       "                  $(\"#cb051377-f3db-4661-91d3-47957a733fcc\").bind('mousewheel', function(e) { e.preventDefault(); });\n",
       "                } catch (e) { console.error('exn catching scroll', e); }\n",
       "            </script>\n",
       "        "
      ],
      "text/plain": [
       "<IPython.core.display.HTML object>"
      ]
     },
     "execution_count": 190,
     "metadata": {},
     "output_type": "execute_result"
    }
   ],
   "source": [
    "g = graphistry.bind()\n",
    "\n",
    "nodes['type'] = nodes['nodeLabels']\n",
    "\n",
    "g = g.bind(\n",
    "    source='sourceNodeId',\n",
    "    destination='targetNodeId',\n",
    "    edge_weight='weight',\n",
    ").edges(edges)\n",
    "\n",
    "g = g.bind(\n",
    "    node='nodeId',\n",
    "    point_label='appId',\n",
    "    point_size=None,\n",
    ").nodes(nodes)\n",
    "\n",
    "\n",
    "\n",
    "params = {\n",
    "        'play': 2000,\n",
    "        'menu': True, \n",
    "        'info': True,\n",
    "        'showArrows': True,\n",
    "        'pointSize': 2.0, \n",
    "        'edgeOpacity': 0.25, \n",
    "        'pointOpacity': 1.0,\n",
    "        'linLog': True, \n",
    "        'compactLayout': True,\n",
    "        'strongGravity': True,\n",
    "        'dissuadeHubs': False,\n",
    "        'edgeInfluence': 5,\n",
    "        'showLabelPropertiesOnHover': True,\n",
    "        'pointsOfInterestMax': 10,\n",
    "      }\n",
    "\n",
    "\n",
    "g = g.addStyle(\n",
    "    bg={\n",
    "        'color': 'black',\n",
    "})\n",
    "\n",
    "g.plot()"
   ]
  }
 ],
 "metadata": {
  "kernelspec": {
   "display_name": "rnalab",
   "language": "python",
   "name": "rnalab"
  },
  "language_info": {
   "codemirror_mode": {
    "name": "ipython",
    "version": 3
   },
   "file_extension": ".py",
   "mimetype": "text/x-python",
   "name": "python",
   "nbconvert_exporter": "python",
   "pygments_lexer": "ipython3",
   "version": "3.12.2"
  }
 },
 "nbformat": 4,
 "nbformat_minor": 2
}
