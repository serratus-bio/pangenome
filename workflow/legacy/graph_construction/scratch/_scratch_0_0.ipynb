{
 "cells": [
  {
   "cell_type": "code",
   "execution_count": 2,
   "metadata": {},
   "outputs": [],
   "source": [
    "### if no overlap between segments\n",
    "from pydantic import BaseModel\n",
    "from typing import Tuple,Sequential,Set\n",
    "\n",
    "class Node(BaseModel):\n",
    "    '''\n",
    "    abstract node object\n",
    "    '''\n",
    "    id:str\n",
    "\n",
    "class Edge(BaseModel):\n",
    "    '''\n",
    "    directed only.\n",
    "    '''\n",
    "    i:Node\n",
    "    o:Node\n",
    "\n",
    "class Segment(Node):\n",
    "    '''\n",
    "    any nt sequence.\n",
    "    '''\n",
    "    sequence:str\n",
    "\n",
    "class FuncSeq(Segment):\n",
    "    '''\n",
    "    identified functional domains\n",
    "    annotations: function description\n",
    "    '''\n",
    "    annotations:str\n",
    "\n",
    "class LinkSeq(Segment):\n",
    "    '''seg with no function'''\n",
    "\n",
    "class Linkage(Edge):\n",
    "    '''\n",
    "    link between 2 Segments in real-world reads\n",
    "    '''\n",
    "    i:Segment\n",
    "    o:Segment\n",
    "\n",
    "class SegSet(Node):\n",
    "    '''\n",
    "    a set of Segment with no order.\n",
    "    e.g. a set of all RdRp segments\n",
    "    '''\n",
    "    \n",
    "class SegSequential(Node):\n",
    "    '''\n",
    "    a ordered list of Segment\n",
    "    e.g. a orginal accession in genbank, \n",
    "        who get partitioned into `Domain`s and `LinkSeq`s\n",
    "    '''\n",
    "    \n",
    "class Domain(SegSet):\n",
    "    pass\n",
    "    \n",
    "class Read(SegSequential):\n",
    "    pass\n",
    "\n",
    "\n",
    "\n",
    "\n",
    "\n"
   ]
  },
  {
   "cell_type": "markdown",
   "metadata": {},
   "source": [
    "mere scratch"
   ]
  },
  {
   "cell_type": "markdown",
   "metadata": {},
   "source": [
    "1. Management of OverlapDomains:\n",
    "    add attribute `begin_at` to edge `HasDownstream`,\n",
    "    0=[ABC][EFG]\n",
    "    -1=[AB[C]EFG]\n",
    "    \n",
    "2. Measurement of Domain connectivity；\n",
    "    add attribute `degree` to edge `HasDownstream`,\n",
    "\n",
    "Management of possible circular genome:\n",
    "    if     \n"
   ]
  },
  {
   "cell_type": "code",
   "execution_count": 11,
   "metadata": {},
   "outputs": [],
   "source": [
    "from neo4j import GraphDatabase, RoutingControl\n",
    "\n",
    "from py2neo import  Graph\n",
    "URI = \"http://44.206.130.87:7474\"\n",
    "AUTH = (\"neo4j\", \"WBrtpKCUW28e\")\n",
    "graph = Graph(URI, auth=AUTH,name='neo4j')"
   ]
  },
  {
   "cell_type": "code",
   "execution_count": 12,
   "metadata": {},
   "outputs": [],
   "source": [
    "q=\"\"\"\n",
    "MATCH (n:Genome)\n",
    "RETURN n.name\n",
    "\"\"\""
   ]
  },
  {
   "cell_type": "code",
   "execution_count": 13,
   "metadata": {},
   "outputs": [
    {
     "data": {
      "text/plain": [
       "'neo4j'"
      ]
     },
     "execution_count": 13,
     "metadata": {},
     "output_type": "execute_result"
    }
   ],
   "source": [
    "graph.name"
   ]
  },
  {
   "cell_type": "code",
   "execution_count": 18,
   "metadata": {},
   "outputs": [
    {
     "data": {
      "text/plain": [
       "<py2neo.database.Schema at 0x7f4b76c0b560>"
      ]
     },
     "execution_count": 18,
     "metadata": {},
     "output_type": "execute_result"
    }
   ],
   "source": [
    "graph.schema"
   ]
  },
  {
   "cell_type": "code",
   "execution_count": 20,
   "metadata": {},
   "outputs": [],
   "source": [
    "o=graph.query(q)"
   ]
  }
 ],
 "metadata": {
  "kernelspec": {
   "display_name": "n4j",
   "language": "python",
   "name": "python3"
  },
  "language_info": {
   "codemirror_mode": {
    "name": "ipython",
    "version": 3
   },
   "file_extension": ".py",
   "mimetype": "text/x-python",
   "name": "python",
   "nbconvert_exporter": "python",
   "pygments_lexer": "ipython3",
   "version": "3.12.1"
  }
 },
 "nbformat": 4,
 "nbformat_minor": 2
}
