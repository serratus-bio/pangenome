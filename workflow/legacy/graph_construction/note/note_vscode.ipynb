{
 "cells": [
  {
   "cell_type": "code",
   "execution_count": null,
   "metadata": {},
   "outputs": [],
   "source": []
  },
  {
   "cell_type": "markdown",
   "metadata": {},
   "source": [
    "https://github.com/microsoft/pylance-release/issues/4733\n",
    "similar issue: failed\n",
    "https://github.com/microsoft/pylance-release/issues/4685\n",
    "similar issue: failed \n",
    "\n",
    "https://github.com/microsoft/vscode/issues/206487\n",
    "current issue \n",
    "(under debugging right now, need to roll back vscode)\n"
   ]
  }
 ],
 "metadata": {
  "language_info": {
   "name": "python"
  }
 },
 "nbformat": 4,
 "nbformat_minor": 2
}
