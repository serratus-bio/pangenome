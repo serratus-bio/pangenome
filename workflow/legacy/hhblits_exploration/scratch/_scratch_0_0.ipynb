{
 "cells": [
  {
   "cell_type": "markdown",
   "metadata": {},
   "source": [
    "#batch submission of hh-suite scan on involved virus (3+vocid)"
   ]
  },
  {
   "cell_type": "code",
   "execution_count": 2,
   "metadata": {},
   "outputs": [],
   "source": [
    "import pandas as pd\n",
    "virus_list=pd.read_csv('_data/VMR_MSL38_v2.csv')"
   ]
  },
  {
   "cell_type": "code",
   "execution_count": 3,
   "metadata": {},
   "outputs": [],
   "source": [
    "ref_genome_dict={\n",
    "    'zika':'ZIKV||AY632535',\n",
    "    'ebola':'EBOV||AF086833',\n",
    "    'measles':'MeV||AB016162',\n",
    "    'covid':'SARS-CoV-2||MN908947'\n",
    "}"
   ]
  },
  {
   "cell_type": "code",
   "execution_count": 4,
   "metadata": {},
   "outputs": [],
   "source": [
    "virus_meta={'covid':('Order','Nidovirales'),\n",
    "            'zika':('Family','Flaviviridae'),\n",
    "            'ebola':('Family','Filoviridae'),\n",
    "            'measles':('Family','Paramyxoviridae'),\n",
    "            }\n",
    "if 0:\n",
    "    for k,v in virus_meta.items():\n",
    "        virus_list[virus_list[v[0]]==v[1]].to_csv(f'_data/{k}.csv',index=False)\n"
   ]
  },
  {
   "cell_type": "code",
   "execution_count": 5,
   "metadata": {},
   "outputs": [],
   "source": [
    "from typing import Dict,List\n",
    "from warnings import warn\n",
    "def is_multiple_access(access:Dict[str,str])->bool:\n",
    "    ''' \n",
    "    helper for `get_genbank_id`'s output \n",
    "    `False`: one seg; `True`:c segs \n",
    "    '''\n",
    "    if '_' in access:\n",
    "        return False\n",
    "    else:\n",
    "        return True\n",
    "    \n",
    "def get_file_stem(virus_series:pd.Series,\n",
    "    access_col='true_access',name_col='true_name')->List[str]:\n",
    "    '''\n",
    "    v_list['true_access']=nido_list['Virus GENBANK accession'].apply(get_genbank_id)\n",
    "    nido_list['true_name']=nido_list['Virus name abbreviation(s)'].apply(get_correct_name)\n",
    "    '''\n",
    "    _=virus_series\n",
    "    access:Dict[str,str]= _[access_col]\n",
    "    if not is_multiple_access(_[access_col]):\n",
    "        return [f\"{_[name_col]}||{access['_']}\"]\n",
    "    else:\n",
    "        return [f\"{_[name_col]}|{k}|{v}\" for k,v in access.items()]"
   ]
  },
  {
   "cell_type": "code",
   "execution_count": 6,
   "metadata": {},
   "outputs": [
    {
     "name": "stdout",
     "output_type": "stream",
     "text": [
      "_data/genome_fasta/BtCoV/020_16/M.dau/FIN/2016||MG923574:segs.fasta\n"
     ]
    },
    {
     "name": "stderr",
     "output_type": "stream",
     "text": [
      "/tmp/ipykernel_1001337/1774184244.py:43: UserWarning: multiple names: GBV-A; SPgV,use the first one\n",
      "  warn(f'multiple names: {name},use the first one')\n"
     ]
    }
   ],
   "source": [
    "from pathlib import Path\n",
    "from typing import List,Dict\n",
    "def robust_split(s:str,split:str)->List[str]:\n",
    "    '''\n",
    "    split and remove blankspace\n",
    "    '''\n",
    "    return [i.strip() for i in s.split(split)]\n",
    "\n",
    "def get_genbank_id(accession:str)->Dict[str,str]:\n",
    "    '''\n",
    "    accession: entry in VMR\n",
    "    '''\n",
    "    # TODO compatible with '/'\n",
    "    assert isinstance(accession,str),f'accession: {accession} is not a str!'\n",
    "    o={}\n",
    "    holder_token=0\n",
    "    if ';' in accession:\n",
    "        for sub_a in robust_split(accession,';'):\n",
    "            if ':' in sub_a:\n",
    "                subk,subv=robust_split(sub_a,':')\n",
    "                o[subk]=subv\n",
    "            else:\n",
    "                o[f'{holder_token}']=sub_a\n",
    "                holder_token+=1\n",
    "    else:\n",
    "        if \":\" in accession:\n",
    "            subk,subv=robust_split(accession,':')\n",
    "            o[subk]=subv\n",
    "        else:\n",
    "            o['_']=accession\n",
    "    return o\n",
    "    # else:\n",
    "    #     return {'nan':'nan'}\n",
    "\n",
    "def get_correct_name(name:str)->str:\n",
    "    \"\"\"\n",
    "    some names block contains multiple name sep by ';'\n",
    "    only use the first one\n",
    "    warning: this name is not unique!\n",
    "    \"\"\"\n",
    "    assert isinstance(name,str),f'valid input: {name}'\n",
    "    if ';' in name:\n",
    "        warn(f'multiple names: {name},use the first one')\n",
    "        return robust_split(name,';')[0]\n",
    "    else:\n",
    "        return name\n",
    "    \n",
    "    \n",
    "# if 0:\n",
    "used_genome=[]\n",
    "for k,v in virus_meta.items():\n",
    "    sub_v_list:pd.DataFrame=virus_list[virus_list[v[0]]==v[1]].copy(deep=True)\n",
    "    sub_v_list['true_access']=sub_v_list['Virus GENBANK accession'].apply(get_genbank_id)\n",
    "    sub_v_list['true_name']=sub_v_list['Virus name abbreviation(s)'].apply(get_correct_name)\n",
    "\n",
    "    for _,s in sub_v_list.iterrows():\n",
    "        for stem in get_file_stem(s):\n",
    "            p=Path(f'_data/genome_fasta/{stem}:segs.fasta')\n",
    "            if p.is_file():\n",
    "                # print(stem)\n",
    "                used_genome.append(p)\n",
    "            else:\n",
    "                print(p)\n",
    "    "
   ]
  },
  {
   "cell_type": "code",
   "execution_count": 50,
   "metadata": {},
   "outputs": [],
   "source": [
    "# from tempfile import TemporaryDirectory\n",
    "# dir=\n",
    "from multiprocessing import Pool\n",
    "from subprocess import run\n",
    "\n",
    "def parse_fasta_name(fa_na:str)->Dict[str,str]:\n",
    "    fa_na=fa_na[2:-1]\n",
    "    return {i.split('=')[0]:i.split('=')[1] for i in fa_na.split(',')}\n",
    "\n",
    "def hhblits(infile:Path,cpu:int=2):\n",
    "    # infile='tmp/AAbV||GBBW01007738#2s#11629#11886.fasta'\n",
    "    o=run(['hhblits','-i',infile,'-d','hhs-db/pfam','-cpu',str(cpu)],capture_output=True)#,'-o','hahaha.hhr'\n",
    "    skip_tag=1\n",
    "    output=[]\n",
    "    for i in o.stdout.decode().split('\\n'):\n",
    "        if skip_tag:\n",
    "            if i.startswith(' No Hit'):\n",
    "                skip_tag=0\n",
    "                # print(','.join([i[:4],i[4:34],i[34:40],i[40:48],i[48:56],i[56:63],i[63:69],i[69:74],i[74:85],i[85:94],i[94:]]))\n",
    "        else:\n",
    "            if len(i)>90 and float(i[34:40].strip())>50:\n",
    "                # print(','.join([i[:4],i[4:34],i[34:40],i[40:48],i[48:56],i[56:63],i[63:69],i[69:74],i[74:85],i[85:94],i[94:]]))\n",
    "                output.append([i[:4],i[4:34],i[34:40],i[40:48],i[48:56],i[56:63],i[63:69],i[69:74],i[74:85],i[85:94],i[94:]])\n",
    "    return (infile,output)\n",
    "    \n",
    "def mpi_scan_hhblits(infile:Path,dir:Path=Path('tmp'),processes=8,cpu:int=2):\n",
    "    pool1=Pool(processes=processes)\n",
    "    # c=0\n",
    "    f='placeholder'\n",
    "    res=[]\n",
    "    for i in open(infile,'r').readlines():\n",
    "        if i.startswith('>'):\n",
    "            if f!='placeholder':\n",
    "                f.close()\n",
    "                r=pool1.apply_async(hhblits,(dir/name_stem,))\n",
    "                res.append(r)\n",
    "            name_dict=parse_fasta_name(i)\n",
    "            name_stem='#'.join(name_dict.values())+'.fasta'\n",
    "            f=open(dir/name_stem,'w')\n",
    "        if f!='placeholder':\n",
    "            f.write(i)\n",
    "    if f!='placeholder':\n",
    "        f.close()\n",
    "        r=pool1.apply_async(hhblits,(dir/name_stem,cpu))\n",
    "        res.append(r)\n",
    "    pool1.close()\n",
    "    pool1.join()\n",
    "    return [i.get() for i in res]\n",
    "\n",
    "def scan_hhblits(infile:Path,dir:Path=Path('tmp'),cpu:int=2):\n",
    "    # c=0\n",
    "    f='placeholder'\n",
    "    res=[]\n",
    "    for i in open(infile,'r').readlines():\n",
    "        if i.startswith('>'):\n",
    "            if f!='placeholder':\n",
    "                f.close()\n",
    "                r=hhblits(dir/name_stem,cpu)\n",
    "                res.append(r)\n",
    "            name_dict=parse_fasta_name(i)\n",
    "            name_stem='#'.join(name_dict.values())+'.fasta'\n",
    "            f=open(dir/name_stem,'w')\n",
    "        if f!='placeholder':\n",
    "            f.write(i)\n",
    "    if f!='placeholder':\n",
    "        f.close()\n",
    "        r=hhblits(dir/name_stem,cpu)\n",
    "        res.append(r)\n",
    "    return res\n",
    "from tempfile import TemporaryDirectory\n",
    "def tmp(i):\n",
    "    '''\n",
    "    scan used genomes\n",
    "    '''\n",
    "    with TemporaryDirectory() as t:  \n",
    "        tmpdir=Path(t)\n",
    "        return (i,scan_hhblits(i,tmpdir,8))\n",
    "if 1:\n",
    "    res=[]\n",
    "    # infile=used_genome[0]\n",
    "    pool=Pool(processes=8)\n",
    "    for infile in used_genome:\n",
    "        r=pool.apply_async(tmp,(infile,))\n",
    "        res.append(r)\n",
    "    pool.close()\n",
    "    pool.join() \n",
    "\n",
    "# def split_fasta(infile:Path):\n",
    "# for infile in used_genome:\n",
    "    "
   ]
  },
  {
   "cell_type": "code",
   "execution_count": 52,
   "metadata": {},
   "outputs": [],
   "source": [
    "_=[i.get() for i in res]"
   ]
  },
  {
   "cell_type": "code",
   "execution_count": 1,
   "metadata": {},
   "outputs": [],
   "source": [
    "import pickle as pkl\n",
    "pkl.dump(_,open('blit_out.pkl','wb'))"
   ]
  },
  {
   "cell_type": "markdown",
   "metadata": {},
   "source": [
    "Hex translation corrected"
   ]
  },
  {
   "cell_type": "code",
   "execution_count": 22,
   "metadata": {},
   "outputs": [],
   "source": [
    "import pickle as pkl\n",
    "from typing import List,Tuple,Dict,Union\n",
    "routine_dict=Dict[str,Union[str,int,float]]\n",
    "from Bio.Seq import Seq\n",
    "# from Bio.Alphabet import IUPAC\n",
    "import warnings\n",
    "from Bio import BiopythonWarning\n",
    "warnings.simplefilter('ignore', BiopythonWarning)\n",
    "transannot=['0s','0a','1s','1a','2s','2a']\n",
    "transannot_indice={j:i for i,j in enumerate(transannot)}\n",
    "\n",
    "def fetch_seq(f:str)->str:\n",
    "    '''\n",
    "    f: efetch result entry\n",
    "    \n",
    "    output: nt seq in the entry\n",
    "    '''\n",
    "    gb:dict=pkl.load(open(f,'rb'))\n",
    "    seq:str=gb['GBSet']['GBSeq']['GBSeq_sequence']\n",
    "    return seq\n",
    "\n",
    "def hextranslate(g:Union[str,Seq])->List[str]:\n",
    "    '''\n",
    "    genome: input nt seq\n",
    "    output: list of sense trans*3 + antisense trans*3\n",
    "    '''\n",
    "    o=[]\n",
    "    if isinstance(g,str):\n",
    "        genome=Seq(g)\n",
    "    else:\n",
    "        genome=g\n",
    "    genome_r=genome.reverse_complement()\n",
    "    for i in [0,1,2]:\n",
    "        o.append(genome[i:].translate()._data.decode())\n",
    "        o.append(genome_r[i:].translate()._data.decode())\n",
    "    return o\n",
    "\n",
    "def get_hex(f:str)->str:\n",
    "    return hextranslate(fetch_seq(f))\n",
    "\n",
    "def get_valid_seg(translist:List[str],name:str='xx',thresh:int=100)->List[Tuple[routine_dict,str]]:\n",
    "    '''\n",
    "    split translist\n",
    "    get head dict as :\n",
    "    head={'name':name,\n",
    "        'transannot':annot,\n",
    "        'prob':b,\n",
    "        'proe':e}\n",
    "    and corresponding seqs\n",
    "    '''\n",
    "    output=[]\n",
    "    for i,annot in zip(translist,transannot):\n",
    "        b=e=0\n",
    "        for seg in i.split('*'):\n",
    "            e=b+len(seg)\n",
    "            if len(seg)>thresh:\n",
    "                head={'name':name,\n",
    "                      'transannot':annot,\n",
    "                      'prob':b,\n",
    "                      'proe':e}\n",
    "                output.append((head,seg))\n",
    "            b=e+1\n",
    "    return output\n",
    "\n",
    "def seg_to_fasta(seg:List[Tuple[routine_dict,str]])->str:\n",
    "    '''\n",
    "    seg: from `get_valid_seg`\n",
    "    '''\n",
    "    o=[]\n",
    "    for s in seg:\n",
    "       head='> ' + ','.join([f'{k}={v}' for k,v in s[0].items()])\n",
    "       o.extend([head,s[1]])\n",
    "    return '\\n'.join(o)\n",
    "from Bio import SeqIO\n",
    "from Bio.SeqRecord import SeqRecord\n",
    "# record:SeqRecord = SeqIO.read(\"_data/genome_fasta/6PavOLV7||MN532594:genome.fasta\", \"fasta\")\n",
    "def gen_seg_fasta(i:str):\n",
    "    assert i.endswith('genome.fasta'),'only accept *genome.fasta!'\n",
    "    record:SeqRecord = SeqIO.read(i, \"fasta\")\n",
    "    fasta_str=seg_to_fasta(get_valid_seg(hextranslate(record.seq)))\n",
    "    o_file=i.replace('genome.fasta','segs.fasta')\n",
    "    with open(o_file,'w') as f:\n",
    "        f.write(fasta_str)\n",
    "\n",
    "from glob import glob\n",
    "if 0:\n",
    "    pool=Pool(processes=16)\n",
    "    for i in glob('_data/genome_fasta/*genome.fasta'):\n",
    "        pool.apply_async(gen_seg_fasta,(i,))\n",
    "    pool.close()\n",
    "    pool.join()"
   ]
  },
  {
   "cell_type": "code",
   "execution_count": 28,
   "metadata": {},
   "outputs": [],
   "source": [
    "gen_seg_fasta(i)"
   ]
  },
  {
   "cell_type": "code",
   "execution_count": 8,
   "metadata": {},
   "outputs": [],
   "source": [
    "o=[]\n",
    "for k,v in virus_meta.items():\n",
    "    sub_v_list:pd.DataFrame=virus_list[virus_list[v[0]]==v[1]].copy(deep=True)\n",
    "    sub_v_list['true_access']=sub_v_list['Virus GENBANK accession'].apply(get_genbank_id)\n",
    "    sub_v_list['true_name']=sub_v_list['Virus name abbreviation(s)'].apply(get_correct_name)\n",
    "\n",
    "    for _,s in sub_v_list.iterrows():\n",
    "        for stem in get_file_stem(s):\n",
    "            p=Path(f'_data/genome_fasta/{stem}:segs.fasta')\n",
    "            if p.is_file():\n",
    "                break\n",
    "    break"
   ]
  },
  {
   "cell_type": "code",
   "execution_count": 9,
   "metadata": {},
   "outputs": [],
   "source": [
    "from Bio.SeqIO.FastaIO import SimpleFastaParser\n",
    "# for i in SimpleFastaParser(open('/home/hugheslab1/zfdeng/pangengraph_2/_data/genome_fasta/6PavOLV7||MN532594:genome.fasta')):\n",
    "#     break\n",
    "\n"
   ]
  },
  {
   "cell_type": "code",
   "execution_count": 19,
   "metadata": {},
   "outputs": [
    {
     "name": "stdout",
     "output_type": "stream",
     "text": [
      "> name=xx,transannot=1a,prob=171,proe=374\n",
      "ARRLKYWGPKLDAFPSCDHFHGLTVTHSPKMVLVAQLKLHDTQSQLRLFKYVTLFNWRRVPGMLTLPVDMKQVVLGGEQHVRIFGHRCQNRMALKGPQSHPPLKFRRKTRLQKTNGIACRDTQETRTPLEIPASLLSKEIPRGGILDNERRPILFSIIKGRFRPRPLYEQRRDLLPPRSNFLIQFFDTSKSPAFWDTVLAKYR\n",
      "> name=xx,transannot=2s,prob=0,proe=719\n",
      "NLLSSYSLKEVVYPGRHLLMTSIKKSLGAVGCPVMGRLKEFVGAIGEPYGLSLPLPDLQAVPFQDRLSLLKKFCGGFLEKPVCHLWHRPTMHLSRKSRMSIAMSLFLFRKVLPSEEHDVVEYAKKMSEESPDPSPHFLHFIREELPKLFRYGWDRGAYENSSLNSVLPISSCRGSARASGGCRMLGLSKGSDSWNDRESFVEHVLTATSCRKLKPSQLLQVETGGKYRIVSKSDLGMNSLRPLHSAIYNHLSRFSWLLRGDAKASRFSDFVRKPGEVFVSGDYESATDNLNGHVQREILRMILEQTDHVPQGIKDRALESMTSELDFDGVTYQQRRGQLMGNLLSFPLLCIVNYLAFRWVAGPSCPVKINGDDIVFRSSPGIADRWMESVSLAGLTLSRGKTMVDKSYFTLNSRMFISGFSKVHSVPCVRATAFFGLKEGPESLKGRSQSFCEGFSGHRRSLLRSRWLKVNRGAIEYSRRSVTRGLGINFSYGDLIRAGLWDREAWYLSFESEKALPPRLSVLCQNGIPEGWAFRSVEKLNKKVRSWGKKVAPLLVERAWSEASLNDREQDWSSLVVQDTPSWDFFRQQRRRDLKRRSRLLGISARNTVRFLKPRLTTELQRRMGLWSLQRHSVLAPVSEDSDMLFSSEDNLFHIYGQCQHPRHPPPVEEGDVFEKTELRLGIVELKLGDEYHLGRMSNGQTVKVIAGGKGVQFGPPIF\n",
      "> name=xx,transannot=2a,prob=274,proe=436\n",
      "SSVVRRGFKKRTVLRAEIPKRRERLLRSLRRCCLKKSHEGVSWTTRDDQSCSRSLRDASDHARSTSKGATFFPQDRTFLFNFSTLRKAQPSGIPFWQSTDKRGGNAFSLSNERYQASRSQRPARIKSPYEKLIPNPLVTERLEYSIAPRFTFNHLLLKRERR\n"
     ]
    }
   ],
   "source": [
    "print()\n"
   ]
  },
  {
   "cell_type": "code",
   "execution_count": 10,
   "metadata": {},
   "outputs": [
    {
     "data": {
      "text/plain": [
       "SeqRecord(seq=Seq('aaaaccttctgtcaagctactctctcaaggaagtagtttacccgggtcgtcact...cgc'), id='6PavOLV7||MN532594', name='6PavOLV7||MN532594', description=' 6PavOLV7||MN532594', dbxrefs=[])"
      ]
     },
     "execution_count": 10,
     "metadata": {},
     "output_type": "execute_result"
    }
   ],
   "source": [
    "record"
   ]
  },
  {
   "cell_type": "code",
   "execution_count": 16,
   "metadata": {},
   "outputs": [
    {
     "data": {
      "text/plain": [
       "['KTFCQATLSRK*FTRVVTY**LQLRSH*VPWDVLLWGA*RSLWVR*GNLTVCPYLFPISRPFHSRIVCRFSRNSAEDFLRSRFVICGIVRRCICLARAGCPSRCHSFFSVRCYLRRSMTWSNMQRR*VKSLRTLLLIFFTSFGKSYRSSSATGGIEVRTRIHL*IPYYRYPLAVALLVPPVVVECLGCQRALTRGMIVNRSSSMF*QRPRAANSSRLNFCRLRLAGSIE*YLSLTWV*ILYVLSILLSTTTCPVSLGYCVETQKLLDSQTSFGSLVRCLFQVTMNQPRIISMDMSRERFLG*SSNKQITSLRG*RIVRWSL*RRNLISTE*RTSREGDS*WGTYSLFLCFALSIT*LLGGWQGRVAPLR*TGTISYFGRVPE*LIVGWRVFPLRA*PFLVVRRWWISLTSL*TRACLSVAFQKSTRYHASEQLLSSV*RKAQRASRDDRSRSARASLVTVVLF*EAGG*R*IAELSSIRDAPSRGG*GSIFRTEI*SVPVSGTVRLGISHLRARRHCLLVYLYFAKTVSQKAGLFEVSKN*IRKFDLGGRRSRLCS*SGRGRKRPLMIENRIGRLSLSKIPPRGISLDSSDAGISRGVLVSWVSRHAIPFVF*SLVLRRNFRGGWDCGPFSAILFWHRCPKIRTCCSPPRTTCFISTGNVSIPGTLRQLKRVTYLKRRS*DWVSWSLSWATSTILGE*VTVKP*K*SQEGKASNLGPQYFNLLAHHRGGRLRTDVSTSDRVWFTHCL*RT*AVGFSASERCLRRL*LKESFGRYLTVGPRLVADSLWSGRTSEGR*GKEGTGCTP*CVFTVSQPIAV*RS*NKKVVRASLC*PTPRGVRNAMNSVRSWHRCKILRVNMAVVGTFRRLPERKTQP*RVSVGCCRGLQRTHSVSLHR',\n",
       " 'AV*ANTMGSLETTTAADTNPSRLRLPFGKTSKCTNYRHVHTQYFASVPRSHRVHGVAHAARCRLTQ*SPHHLFVSTTLDGDGLANGKHALRRATCSFLPSPTLRGPSRPKGIGN*SRPDCKIPPEGLFELQSP*TSFRCRKANRLGSL*TMGKPHPVRRRNIGPESTAPVMSEEIKILGAQIGRLSLLRSLSRFDRYSFSQDGTRRPA*APRYPISAPSFQIRHPLQLAEGAGDADIARRYETSCPRRRTTCPNLRTPVPEQNGAEGTTIPSSSEVPS*DEASKNERYCVPRYPRDENAS*DPCVAAV*RNPTRGYLGQRETTNPVLDH*GTLPTTPALRAKARPSSPKIELSYSIFRHFEKPSLLGYRFGKVQINEEAMPSRSQMRDTKPHGPRDRHGSNLRTKN*SLTPS*RSVSNTR*LRDSPSTTCFSKENDGDQRSPRRTTAIVP*GSLGLPSNRRKQLL*RMVPSGLLKSH**TCASSK*SKTYPPSSYHEKGLGPQGKHSPSNDQLFRDSTEIRYRPRLS*RGNSALPPT*KLGN*QCKAKEKRVSSPSAVPFSAGTSLRRNQVPTS*TPAHDPLSPEGRDLFVRGSS*ESLSGHVH*DYPWLIHSHLKQTPHQASERSLRIEKLLRLHAIAKRNGTGGCR*QNGEDVKNSYPSQT*ILFDTSRQSQPAKVETA*VCGTRSLSKHARRTIHDHSTSQSPLTTQAFYNHRRHEQSHGKRISVIRNSKMNSRTHLYPTRSGRASVTLPE*SEENEEKGPETLHSSSLHIRPRHAPPKVAPYGKERVTSRWTSGSCETDASSDDATNDKPASQEILRRIS*EATNDPGMERPGDREEVGTNRKVPLSHPQTPLSAP*QDIPRHLVTS*LKSLISDDPGKLLP*ESSLTEGF',\n",
       " 'KPSVKLLSQGSSLPGSSLINDFN*EVTRCRGMSCYGALKGVCGCDRGTLRFVPTSSRSPGRSIPGSFVASQEILRRIS*EAGLSFVASSDDASVSQEPDVHRDVTLSFP*GATFGGA*RGRICKEDE*RVSGPFSSFSSLHSGRVTEALPLRVG*RCVREFIFEFRITDILLPWLCSCLRWL*NAWVVKGL*LVE*S*IVRRACFDSDLVPQTQAVSTFAG*DWREVSNSI*V*LGYEFFTSSPFCYLQPPVPFLLAIAWRRKSFSILRLRSEAW*GVCFR*L*ISHG*SQWTCPERDS*DDPRTNRSRPSGDKGSCAGVYDVGT*FRRSDVPAEKGTADGELTLFSFALHCQLPSF*VGGRAELPR*DKRGRYRISVESRNS*SLDGECFPCGPNPFSW*DDGG*VLLHFELAHVYQWLFKSPLGTMRQSNCFLRFEGRPREPQGTIAVVLRGLLWSPSFSFEKQVVEGESRSYRVFETLRHEGVRDQFFVRRFDPCRSLGP*GLVSLI*EREGIASSFICTLPKRYPRRLGFSKCRKIE*ESSILGEEGRAFARRAGVVGSVP**SRTGLVVSRCPRYPLVGFL*TAATQGSQEAFSSLGYLGTQYRSFFEASSYDGTSEEDGIVVPSAPFCSGTGVRRFGHVVLLRGQLVSYLRAMSASPAPSAS*RG*RI*KDGAEIGYRGA*AGRRVPSWENE*RSNRESDRRRERRPIWAPNILISSLITGAVDSGPMFRRRTGCGLPIVYNEPRRLAFLHRKDVYGDCNSKSPSGGILQSGLD*LPIPFGLEGPLRVGEGRKEQVARRNACLPLANPSPSSVVETKRW*GLHCVSLHRAACATP*TLCDLGTDAKYCV*TWR*LVHFDVFPKGRRNLDGLVSAAVVVSKEPIVLAYT',\n",
       " 'RCRLTLWVLWRPRQQPTLTRQGCVFLSGRRRNVPTTAMFTRNILHLCQDRTEFMALRTPRGVG*HNEALTTFLFQLR*TAMGWLTVNTHYGVQPVPSFPHLPSEVLPDQRESATNLGPTVRYLPKDSLSYSLRKHLSDAEKPTA*VRYKQWVNHTRSDVETSVRSLPPR**ARRLKYWGPKLDAFPSCDHFHGLTVTHSPKMVLVAQLKLHDTQSQLRLFKYVTLFNWRRVPGMLTLPVDMKQVVLGGEQHVRIFGHRCQNRMALKGPQSHPPLKFRRKTRLQKTNGIACRDTQETRTPLEIPASLLSKEIPRGGILDNERRPILFSIIKGRFRPRPLYEQRRDLLPPRSNFLIQFFDTSKSPAFWDTVLAKYR*TRRQCLLALK*EIPSLTVPETGTDQISVRKIDP*PPRDGASRILDSSAIHLQPPASQKRTTVTREALAERLRSSLEALWAFLQTEESSCSDAWYRVDF*KATDKHARVQSEVRLIHHRLTTRKG*ARKGNTLHPTISYSGTRPKYDIVPVYLNGATRPCHPPKS*VIDNAKQRKRE*VPHQLSPSLLVRHSVEIKFRRHRLQRTILYPLRDVICLFEDHPKNLSLDMSIEIIRG*FIVT*NKHLTRLPNEV*ESRSFCVSTQ*PRETGQVVVDSRMERT*RIHTQVRLRYYSILPASLNLQKLRRLEFAARGRCQNMLDERFTIIPRVRAL*QPKHSTTTGGTSRATARGYR*YGIQR*ILVRTSIPPVAEELR*LFPNEVKKMRRRVRRLFTHLLCIFDHVMLLRR*HLTEKKE*HRDGHPALARQMHRRTMPQMTNRLLKKSSAEFLEKRQTILEWNGLEIGKR*GQTVRFPYRTHKLL*APHNRTSHGT**LLN*SH**VTTRVNYFLERVA*QKV',\n",
       " 'NLLSSYSLKEVVYPGRHLLMTSIKKSLGAVGCPVMGRLKEFVGAIGEPYGLSLPLPDLQAVPFQDRLSLLKKFCGGFLEKPVCHLWHRPTMHLSRKSRMSIAMSLFLFRKVLPSEEHDVVEYAKKMSEESPDPSPHFLHFIREELPKLFRYGWDRGAYENSSLNSVLPISSCRGSARASGGCRMLGLSKGSDSWNDRESFVEHVLTATSCRKLKPSQLLQVETGGKYRIVSKSDLGMNSLRPLHSAIYNHLSRFSWLLRGDAKASRFSDFVRKPGEVFVSGDYESATDNLNGHVQREILRMILEQTDHVPQGIKDRALESMTSELDFDGVTYQQRRGQLMGNLLSFPLLCIVNYLAFRWVAGPSCPVKINGDDIVFRSSPGIADRWMESVSLAGLTLSRGKTMVDKSYFTLNSRMFISGFSKVHSVPCVRATAFFGLKEGPESLKGRSQSFCEGFSGHRRSLLRSRWLKVNRGAIEYSRRSVTRGLGINFSYGDLIRAGLWDREAWYLSFESEKALPPRLSVLCQNGIPEGWAFRSVEKLNKKVRSWGKKVAPLLVERAWSEASLNDREQDWSSLVVQDTPSWDFFRQQRRRDLKRRSRLLGISARNTVRFLKPRLTTELQRRMGLWSLQRHSVLAPVSEDSDMLFSSEDNLFHIYGQCQHPRHPPPVEEGDVFEKTELRLGIVELKLGDEYHLGRMSNGQTVKVIAGGKGVQFGPPIF*SPRSSPGR*TPDRCFDVGPGVVYPLFITNLGGWLFCIGKMFTETVTQRVLREVSYSRA*ISCRFPLVWKDL*G*VREGRNRLHAVMRVYR*PTHRRLA*LKQKGGEGFIVLAYTARRAQRHELCAILAQMQNIACEHGGSWYISTSSRKEDATLTG*CRLLSWSPKNP*C*PTP',\n",
       " 'GVG*HYGFFGDHDSSRH*PVKVASSFREDVEMYQLPPCSHAIFCICAKIAQSSWRCARRAV*ANTMKPSPPFCFNYARRRWVG*R*TRITACNLFLPSLTYPQRSFQTKGNRQLI*ARL*DTSRRTL*VTVSVNIFPMQKSQPPRFVINNG*TTPGPTSKHRSGVYRPGDERGD*NIGGPNWTPFPPAITFTV*PLLILPRWYSSPSLSSTIPNLSSVFSNTSPSSTGGGCRGC*HCP*I*NKLSSEENNMSESSDTGARTEWR*RDHNPILL*SSVVRRGFKKRTVLRAEIPKRRERLLRSLRRCCLKKSHEGVSWTTRDDQSCSRSLRDASDHARSTSKGATFFPQDRTFLFNFSTLRKAQPSGIPFWQSTDKRGGNAFSLSNERYQASRSQRPARIKSPYEKLIPNPLVTERLEYSIAPRFTFNHLLLKRERR*PEKPSQNDCDRPLRLSGPSFKPKKAVALTHGTEWTFEKPLINMREFKVK*DLSTIVLPRERVRPARETLSIQRSAIPGLDRNTISSPFILTGQLGPATHLKAR*LTMQSKGKESKFPISCPLLCWYVTPSKSSSDVIDSSARSFIP*GT*SVCSRIILRISLWTCPLRLSVADS*SPETNTSPGFRTKSENREAFASPRNSQEKRDRWL*IAEWRGRKEFIPKSDLDTIRYFPPVSTCKS*DGLSLRHEVAVKTCSTNDSRSFHESEPFDNPSILQPPEARAEPRQEDIGNTEFKDEFSYAPLSHP*RKSFGNSSRMK*RK*GEGSGDSSLIFFAYSTTSCSSEGSTLRKRKSDIAMDIRLLRDRCIVGRCHK*QTGFSRNPPQNFLRSDKRSWNGTAWRSGRGRDKP*GSPIAPTNSFKRPITGHPTAPSDFLIEVINK*RPG*TTSLRE*LDRRF']"
      ]
     },
     "execution_count": 16,
     "metadata": {},
     "output_type": "execute_result"
    }
   ],
   "source": [
    "hextranslate('aaaaccttctgtcaagctactctctcaaggaagtagtttacccgggtcgtcacttattaatgacttcaattaagaagtcactaggtgccgtgggatgtcctgttatggggcgcttaaaggagtttgtgggtgcgataggggaaccttacggtttgtccctacctcttcccgatctccaggccgttccattccaggatcgtttgtcgcttctcaagaaattctgcggaggatttcttgagaagccggtttgtcatttgtggcatcgtccgacgatgcatctgtctcgcaagagccggatgtccatcgcgatgtcactctttcttttccgtaaggtgctaccttcggaggagcatgacgtggtcgaatatgcaaagaagatgagtgaagagtctccggacccttctcctcattttcttcacttcattcgggaagagttaccgaagctcttccgctacgggtgggatagaggtgcgtacgagaattcatctttgaattccgtattaccgatatcctcttgccgtggctctgctcgtgcctccggtggttgtagaatgcttgggttgtcaaagggctctgactcgtggaatgatcgtgaatcgttcgtcgagcatgttttgacagcgacctcgtgccgcaaactcaagccgtctcaacttttgcaggttgagactggcgggaagtatcgaatagtatctaagtctgacttgggtatgaattctttacgtcctctccattctgctatctacaaccacctgtcccgtttctcttggctattgcgtggagacgcaaaagcttctcgattctcagacttcgttcggaagcctggtgaggtgtttgtttcaggtgactatgaatcagccacggataatctcaatggacatgtccagagagagattcttaggatgatcctcgaacaaacagatcacgtccctcaggggataaaggatcgtgcgctggagtctatgacgtcggaacttgatttcgacggagtgacgtaccagcagagaaggggacagctgatggggaacttactctcttttcctttgctttgcattgtcaattacctagcttttaggtgggtggcagggccgagttgccccgttaagataaacggggacgatatcgtatttcggtcgagtcccggaatagctgatcgttggatggagagtgtttcccttgcgggcctaaccctttctcgtggtaagacgatggtggataagtcttacttcactttgaactcgcgcatgtttatcagtggcttttcaaaagtccactcggtaccatgcgtcagagcaactgctttcttcggtttgaaggaaggcccagagagcctcaagggacgatcgcagtcgttctgcgagggcttctctggtcaccgtcgttctcttttgagaagcaggtggttgaaggtgaatcgcggagctatcgagtattcgagacgctccgtcacgagggggttagggatcaatttttcgtacggagatttgatccgtgccggtctctgggaccgtgaggcttggtatctctcatttgagagcgagaaggcattgcctcctcgtttatctgtactttgccaaaacggtatcccagaaggctgggcttttcgaagtgtcgaaaaattgaataagaaagttcgatcttgggggaagaaggtcgcgcctttgctcgtagagcgggcgtggtcggaagcgtcccttaatgatcgagaacaggattggtcgtctctcgttgtccaagataccccctcgtgggatttctttagacagcagcgacgcagggatctcaagaggcgttctcgtctcttgggtatctcggcacgcaataccgttcgttttttgaagcctcgtcttacgacggaacttcagaggaggatgggattgtggtcccttcagcgccattctgttctggcaccggtgtccgaagattcggacatgttgttctcctccgaggacaacttgtttcatatctacgggcaatgtcagcatccccggcaccctccgccagttgaagagggtgacgtatttgaaaagacggagctgagattgggtatcgtggagcttaagctgggcgacgagtaccatcttgggagaatgagtaacggtcaaaccgtgaaagtgatcgcaggagggaaaggcgtccaatttgggcccccaatattttaatctcctcgctcatcaccggggcggtagactccggaccgatgtttcgacgtcggaccgggtgtggtttacccattgtttataacgaacctaggcggttggcttttctgcatcggaaagatgtttacggagactgtaactcaaagagtccttcgggaggtatcttacagtcgggcctagattagttgccgattccctttggtctggaaggacctctgagggtaggtgagggaaggaaggaacaggttgcacgccgtaatgcgtgtttaccgttagccaacccatcgccgtctagcgtagttgaaacaaaaaggtggtgagggcttcattgtgttagcctacaccgcgcggcgtgcgcaacgccatgaactctgtgcgatcttggcacagatgcaaaatattgcgtgtgaacatggcggtagttggtacatttcgacgtcttcccgaaaggaagacgcaaccttgacgggttagtgtcggctgctgtcgtggtctccaaagaacccatagtgttagcctacaccgc')"
   ]
  },
  {
   "cell_type": "code",
   "execution_count": 7,
   "metadata": {},
   "outputs": [
    {
     "data": {
      "text/plain": [
       "[]"
      ]
     },
     "execution_count": 7,
     "metadata": {},
     "output_type": "execute_result"
    }
   ],
   "source": [
    "[i for i in res if len(i[1])>0]"
   ]
  },
  {
   "cell_type": "code",
   "execution_count": 73,
   "metadata": {},
   "outputs": [
    {
     "name": "stdout",
     "output_type": "stream",
     "text": [
      "/home/hugheslab1/zfdeng/pangengraph_2\n"
     ]
    },
    {
     "data": {
      "text/plain": [
       "CompletedProcess(args=['pwd'], returncode=0)"
      ]
     },
     "execution_count": 73,
     "metadata": {},
     "output_type": "execute_result"
    }
   ],
   "source": [
    "from subprocess import run\n",
    "# run(['which','hhblits'])\n",
    "run(['pwd'])"
   ]
  },
  {
   "cell_type": "code",
   "execution_count": 74,
   "metadata": {},
   "outputs": [],
   "source": [
    "from subprocess import run\n",
    "infile='tmp/AAbV||GBBW01007738#2s#11629#11886.fasta'\n",
    "o=run(['hhblits','-i',infile,'-d','hhs-db/pfam'],capture_output=True)#,'-o','hahaha.hhr'\n"
   ]
  },
  {
   "cell_type": "code",
   "execution_count": 75,
   "metadata": {},
   "outputs": [
    {
     "name": "stdout",
     "output_type": "stream",
     "text": [
      " No ,Hit                           ,  Prob, E-value, P-value,  Score,    SS, Cols, Query HMM , Template, HMM\n",
      "  1 ,PF15200.9 ; KRTDAP ; Keratinoc,  23.9,     4.4, 0.00084,   26.1,   0.0,   16,   87-102  ,  55-70  ,(77)\n"
     ]
    }
   ],
   "source": [
    "skip_tag=1\n",
    "for i in o.stdout.decode().split('\\n'):\n",
    "    if skip_tag:\n",
    "        if i.startswith(' No Hit'):\n",
    "            skip_tag=0\n",
    "            print(','.join([i[:4],i[4:34],i[34:40],i[40:48],i[48:56],i[56:63],i[63:69],i[69:74],i[74:85],i[85:94],i[94:]]))\n",
    "    else:\n",
    "        if len(i)>90 and float(i[34:40].strip())>20:\n",
    "            print(','.join([i[:4],i[4:34],i[34:40],i[40:48],i[48:56],i[56:63],i[63:69],i[69:74],i[74:85],i[85:94],i[94:]]))"
   ]
  },
  {
   "cell_type": "code",
   "execution_count": 48,
   "metadata": {},
   "outputs": [
    {
     "data": {
      "text/plain": [
       "'- 23:13:23.140 INFO: Search results will be written to tmp/AAbV||GBBW01007738#2s#9112#9392.fasta.hhr\\n\\n- 23:13:23.156 INFO: Searching 19632 column state sequences.\\n\\n- 23:13:23.217 ERROR: Input file (tmp/AAbV||GBBW01007738#2s#9112#9392.fasta.fasta) could not be opened!\\n\\n'"
      ]
     },
     "execution_count": 48,
     "metadata": {},
     "output_type": "execute_result"
    }
   ],
   "source": [
    "o.stderr.decode()\n"
   ]
  },
  {
   "cell_type": "code",
   "execution_count": 25,
   "metadata": {},
   "outputs": [
    {
     "name": "stdout",
     "output_type": "stream",
     "text": [
      "Query         name=AAbV||GBBW01007738,transannot=0a,prob=188,proe=342\n",
      "Match_columns 154\n",
      "No_of_seqs    1 out of 1\n",
      "Neff          1\n",
      "Searched_HMMs 100\n",
      "Date          Sun Mar 10 22:44:09 2024\n",
      "Command       hhblits -i tmp/AAbV||GBBW01007738#0a#188#342.fasta -d hhs-db/pfam -o hahaha.hhr \n",
      "\n",
      " No Hit                             Prob E-value P-value  Score    SS Cols Query HMM  Template HMM\n",
      "  1 PF00424.21 ; REV ; REV protein   5.0      39   0.008   19.4   0.0   36   27-62     50-85  (91)\n",
      "  2 PF17800.4 ; NPL ; Nucleoplasmi   3.8      49   0.011   20.3   0.0   15   23-37     23-37  (212)\n",
      "  3 PF06390.15 ; NESP55 ; Neuroend   3.7      65   0.011   22.3   0.0   18   24-41     68-85  (257)\n",
      "  4 PF10270.12 ; MMgT ; Membrane m   2.7      68   0.017   16.9   0.0   28   40-67     35-62  (120)\n",
      "  5 PF14233.9 ; DUF4335 ; Domain o   2.6      75   0.018   18.2   0.0   15   42-56      4-18  (191)\n",
      "  6 PF10880.11 ; DUF2673 ; Protein   2.2 1.3E+02   0.022   17.6   0.0   15   26-40      9-23  (82)\n",
      "  7 PF19870.2 ; DUF6343 ; Family o   1.9 1.2E+02   0.026   16.2   0.0   20   14-33      7-26  (82)\n",
      "  8 PF09049.13 ; SNN_transmemb ; S   1.8 1.6E+02   0.027   14.6   0.0   14   19-32     13-26  (32)\n",
      "  9 PF11036.11 ; YqgB ; Virulence    1.6 1.6E+02   0.031   14.8   0.0   30   10-39     12-41  (43)\n",
      " 10 PF00584.23 ; SecE ; SecE/Sec61   1.5 1.3E+02   0.034   12.6   0.0   15    4-18     13-27  (55)\n",
      "\n",
      "\n"
     ]
    }
   ],
   "source": [
    "print(o.stdout.decode())"
   ]
  },
  {
   "cell_type": "code",
   "execution_count": 14,
   "metadata": {},
   "outputs": [
    {
     "data": {
      "text/plain": [
       "PosixPath('_data/genome_fasta/AAbV||GBBW01007738:segs.fasta')"
      ]
     },
     "execution_count": 14,
     "metadata": {},
     "output_type": "execute_result"
    }
   ],
   "source": [
    "infile"
   ]
  },
  {
   "cell_type": "code",
   "execution_count": 13,
   "metadata": {},
   "outputs": [
    {
     "data": {
      "text/plain": [
       "132"
      ]
     },
     "execution_count": 13,
     "metadata": {},
     "output_type": "execute_result"
    }
   ],
   "source": [
    "len(open(infile,'r').readlines())"
   ]
  },
  {
   "cell_type": "code",
   "execution_count": 17,
   "metadata": {},
   "outputs": [],
   "source": [
    "from Bio import Entrez\n",
    "import xmltodict\n",
    "Entrez.email='zfevan.deng@mail.utoronto.ca'\n",
    "\n",
    "def fetch_parse(i:str):\n",
    "    '''\n",
    "    i: genbank accession\n",
    "    '''\n",
    "    xml_file=Entrez.efetch(db='nuccore',id=i,rettype=\"gb\", retmode=\"xml\")\n",
    "    data_dict = xmltodict.parse(xml_file.read())\n",
    "    return data_dict\n",
    "\n",
    "import pickle as pkl\n",
    "pkl.dump(fetch_parse('MG923574'),open('BtCoV#020_16#M.dauFIN#2016||MG923574.pkl','wb'))"
   ]
  },
  {
   "cell_type": "code",
   "execution_count": null,
   "metadata": {},
   "outputs": [],
   "source": []
  }
 ],
 "metadata": {
  "kernelspec": {
   "display_name": "Python 3",
   "language": "python",
   "name": "python3"
  },
  "language_info": {
   "codemirror_mode": {
    "name": "ipython",
    "version": 3
   },
   "file_extension": ".py",
   "mimetype": "text/x-python",
   "name": "python",
   "nbconvert_exporter": "python",
   "pygments_lexer": "ipython3",
   "version": "3.12.1"
  }
 },
 "nbformat": 4,
 "nbformat_minor": 2
}
