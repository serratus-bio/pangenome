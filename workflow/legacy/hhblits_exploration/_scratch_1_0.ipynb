{
 "cells": [
  {
   "cell_type": "markdown",
   "metadata": {},
   "source": [
    "Inspct Pfam35"
   ]
  },
  {
   "cell_type": "code",
   "execution_count": 5,
   "metadata": {},
   "outputs": [],
   "source": [
    "%%bash\n",
    "ffindex_get hhs-db/pfam_hhm.ffdata hhs-db/pfam_hhm.ffindex PF00998.26 > PF00998.hhm\n",
    "ffindex_get hhs-db/pfam_hhm.ffdata hhs-db/pfam_hhm.ffindex PF20483.1 > PF20483.hhm\n"
   ]
  },
  {
   "cell_type": "code",
   "execution_count": 4,
   "metadata": {},
   "outputs": [
    {
     "name": "stderr",
     "output_type": "stream",
     "text": [
      "- 14:56:47.028 INFO: Search results will be written to PF20483.hhr\n",
      "\n",
      "- 14:56:47.109 INFO: Query file is in HHM format\n",
      "\n",
      "- 14:56:47.110 INFO: Extracting representative sequences from PF20483.hhm to merge later with matched database sequences\n",
      "\n",
      "- 14:56:47.110 WARNING: Input alignment PF20483.hhm looks like aligned FASTA instead of A2M/A3M format. Consider using '-M first' or '-M 50'\n",
      "\n",
      "- 14:56:47.293 INFO: Alternative alignment: 0\n",
      "\n",
      "- 14:56:47.298 INFO: 1 alignments done\n",
      "\n",
      "- 14:56:47.319 INFO: Realigning 1 HMM-HMM alignments using Maximum Accuracy algorithm\n",
      "\n",
      "- 14:56:47.343 INFO: Query file is in HHM format\n",
      "\n",
      "- 14:56:47.344 WARNING: Input alignment PF00998.hhm looks like aligned FASTA instead of A2M/A3M format. Consider using '-M first' or '-M 50'\n",
      "\n",
      "- 14:56:47.347 WARNING: Input alignment merged A3M file looks like aligned FASTA instead of A2M/A3M format. Consider using '-M first' or '-M 50'\n",
      "\n"
     ]
    },
    {
     "name": "stdout",
     "output_type": "stream",
     "text": [
      "Query         PF20483.1 ; Flavi_NS5_thumb ; Flavivirus RNA-directed RNA polymerase, thumb domain\n",
      "Match_columns 168\n",
      "No_of_seqs    12 out of 16\n",
      "Neff          4.14541\n",
      "Searched_HMMs 1\n",
      "Date          Mon Mar 11 14:56:47 2024\n",
      "Command       hhalign -i PF20483.hhm -t PF00998.hhm \n",
      "\n",
      " No Hit                             Prob E-value P-value  Score    SS Cols Query HMM  Template HMM\n",
      "  1 PF00998.26 ; RdRP_3 ; Viral RN  95.5 8.8E-07 8.8E-07   48.0   6.5   75    1-85    339-414 (479)\n",
      "\n"
     ]
    }
   ],
   "source": [
    "%%bash\n",
    "hhalign -i PF20483.hhm -t PF00998.hhm"
   ]
  },
  {
   "cell_type": "code",
   "execution_count": 6,
   "metadata": {},
   "outputs": [
    {
     "name": "stderr",
     "output_type": "stream",
     "text": [
      "- 14:57:00.939 INFO: Search results will be written to PF00998.hhr\n",
      "\n",
      "- 14:57:01.015 INFO: Query file is in HHM format\n",
      "\n",
      "- 14:57:01.015 INFO: Extracting representative sequences from PF00998.hhm to merge later with matched database sequences\n",
      "\n",
      "- 14:57:01.015 WARNING: Input alignment PF00998.hhm looks like aligned FASTA instead of A2M/A3M format. Consider using '-M first' or '-M 50'\n",
      "\n",
      "- 14:57:01.439 INFO: Alternative alignment: 0\n",
      "\n",
      "- 14:57:01.445 INFO: 1 alignments done\n",
      "\n",
      "- 14:57:01.464 INFO: Realigning 1 HMM-HMM alignments using Maximum Accuracy algorithm\n",
      "\n",
      "- 14:57:01.487 INFO: Query file is in HHM format\n",
      "\n",
      "- 14:57:01.488 WARNING: Input alignment PF20483.hhm looks like aligned FASTA instead of A2M/A3M format. Consider using '-M first' or '-M 50'\n",
      "\n",
      "- 14:57:01.490 WARNING: Input alignment merged A3M file looks like aligned FASTA instead of A2M/A3M format. Consider using '-M first' or '-M 50'\n",
      "\n"
     ]
    },
    {
     "name": "stdout",
     "output_type": "stream",
     "text": [
      "Query         PF00998.26 ; RdRP_3 ; Viral RNA dependent RNA polymerase\n",
      "Match_columns 479\n",
      "No_of_seqs    12 out of 16\n",
      "Neff          3.67217\n",
      "Searched_HMMs 1\n",
      "Date          Mon Mar 11 14:57:01 2024\n",
      "Command       hhalign -i PF00998.hhm -t PF20483.hhm \n",
      "\n",
      " No Hit                             Prob E-value P-value  Score    SS Cols Query HMM  Template HMM\n",
      "  1 PF20483.1 ; Flavi_NS5_thumb ;   96.3   3E-07   3E-07   48.7   6.7   75  339-414     1-85  (168)\n",
      "\n"
     ]
    }
   ],
   "source": [
    "%%bash\n",
    "hhalign -i PF00998.hhm -t PF20483.hhm"
   ]
  }
 ],
 "metadata": {
  "kernelspec": {
   "display_name": "Python 3",
   "language": "python",
   "name": "python3"
  },
  "language_info": {
   "codemirror_mode": {
    "name": "ipython",
    "version": 3
   },
   "file_extension": ".py",
   "mimetype": "text/x-python",
   "name": "python",
   "nbconvert_exporter": "python",
   "pygments_lexer": "ipython3",
   "version": "3.12.1"
  }
 },
 "nbformat": 4,
 "nbformat_minor": 2
}
