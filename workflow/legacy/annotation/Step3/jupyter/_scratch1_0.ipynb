{
 "cells": [
  {
   "cell_type": "markdown",
   "metadata": {},
   "source": [
    "## S4: \n",
    "Gene Synteny Plot\n",
    "\n",
    "Sort similarity (by RdRp)\n",
    "\n",
    "Gene_color_palette (new_codes_needed, curated with accession-annotation)\n",
    "\n",
    "Plot\n",
    "\n",
    "Check: Step1:plot_synteny.py"
   ]
  },
  {
   "cell_type": "code",
   "execution_count": 1,
   "metadata": {},
   "outputs": [],
   "source": [
    "import matplotlib.pyplot as plt\n",
    "import matplotlib.colors as clr\n",
    "import matplotlib.patches as patches\n",
    "from matplotlib import colormaps\n",
    "from typing import List,Tuple\n",
    "from matplotlib.axes import Axes\n",
    "import seaborn as sns\n",
    "import pandas as pd\n",
    "from dna_features_viewer import GraphicFeature, GraphicRecord\n",
    "from foreground import get_foreground "
   ]
  },
  {
   "cell_type": "code",
   "execution_count": 2,
   "metadata": {},
   "outputs": [],
   "source": [
    "family_dict={\n",
    "    'zika':'Flaviviridae',\n",
    "    'ebola':'Filoviridae',\n",
    "    'measles':'Paramyxoviridae'\n",
    "}\n",
    "ref_genome_dict={\n",
    "    'zika':'ZIKV||AY632535',\n",
    "    'ebola':'EBOV||AF086833',\n",
    "    'measles':'MeV||AB016162'\n",
    "}\n",
    "ref_accession_dict={\n",
    "    'zika':'PF00972',\n",
    "    'ebola':'PF00946',\n",
    "    'measles':'PF00946'\n",
    "}"
   ]
  },
  {
   "cell_type": "code",
   "execution_count": 3,
   "metadata": {},
   "outputs": [],
   "source": [
    "def hide_axes(ax:Axes,genome_start_pos:int,genome_end_pos:int,sequence_length=42000):\n",
    "    #hack: since I don't~~~~~ didn't know how to erase axes around coordinates, draw a white box over them.\n",
    "    # is that a ugly hack? yes. does it render well? also yes\n",
    "    ax.add_patch(\n",
    "     patches.Rectangle(\n",
    "        (-100, -0.25),\n",
    "        genome_start_pos,\n",
    "        0.5,\n",
    "        fill=True,      # remove background\n",
    "        facecolor='white'\n",
    "     ) ) \n",
    "    ax.add_patch(\n",
    "     patches.Rectangle(\n",
    "        (genome_end_pos, -0.25),\n",
    "        sequence_length+100,\n",
    "        0.5,\n",
    "        fill=True,      # remove background\n",
    "        facecolor='white'\n",
    "     ) ) \n",
    "    \n",
    "\n",
    "def parse_diamond(matchfile:str='diamond-matches.tsv')->pd.DataFrame:\n",
    "    '''\n",
    "    matchfile:\n",
    "        output of diamond blastp\n",
    "        with '--header', 'verbose', \n",
    "        and 'tsv' suffix\n",
    "    '''\n",
    "    head_lines=open(matchfile,'r').readlines()[2].strip().split(': ')[1]\n",
    "    diamond_aligns=pd.read_csv(matchfile,skiprows=3,names=head_lines.split(', '),delim_whitespace=True)\n",
    "    return diamond_aligns\n"
   ]
  },
  {
   "cell_type": "code",
   "execution_count": 4,
   "metadata": {},
   "outputs": [],
   "source": [
    "from pathlib import Path\n",
    "def get_identities(fasta_path:str):\n",
    "    '''\n",
    "    from diamond tsv\n",
    "    to df of ['domain','virus','identity']\n",
    "    '''\n",
    "    o_dict={}\n",
    "    _={}\n",
    "    _['domain'],_['virus'],_['identity']=[],[],[]\n",
    "    for i in Path(fasta_path).iterdir():\n",
    "        if i.suffix=='.tsv':\n",
    "            stem=i.stem.replace('-match','')\n",
    "            diamond=parse_diamond(i.absolute())\n",
    "            o_dict[stem]={i:j for i,j in zip(diamond['Subject ID'],diamond['Percentage of identical matches'])}\n",
    "            for idx,s in diamond.iterrows():\n",
    "                _['domain'].append(stem)\n",
    "                _['virus'].append(s['Subject ID'])\n",
    "                _['identity'].append(s['Percentage of identical matches'])\n",
    "    identities=pd.DataFrame(_)\n",
    "    # identities.columns\n",
    "    return o_dict,identities"
   ]
  },
  {
   "cell_type": "code",
   "execution_count": 5,
   "metadata": {},
   "outputs": [],
   "source": [
    "import numpy as np\n",
    "from sklearn.linear_model import LinearRegression\n",
    "from scipy.optimize import curve_fit\n",
    "from typing import Callable\n",
    "def cal_lr(x,y,refx=np.linspace(1,100,100)):\n",
    "    lr=LinearRegression()\n",
    "    x_=np.array(x).reshape(-1,1)\n",
    "    y_=np.array(y).reshape(-1,1)\n",
    "    reg=lr.fit(X=x_,y=y_)\n",
    "    r2=reg.score(x_,y_)\n",
    "    coef=reg.coef_[0][0]\n",
    "    intercept=reg.intercept_[0]\n",
    "    \n",
    "    predy=reg.predict(refx.reshape(-1,1))\n",
    "    sel=(predy>0) & (predy<100)\n",
    "    \n",
    "    reg_x=refx[sel.reshape(-1)].reshape(-1)\n",
    "    reg_y=predy[sel].reshape(-1)\n",
    "    \n",
    "    return (\n",
    "        coef,intercept,r2,\n",
    "        reg_x,reg_y,\n",
    "    )\n",
    "    \n",
    "def model_function(x:np.ndarray, a:float)->np.ndarray:\n",
    "    return 2 ** (x ** a)-1\n",
    "\n",
    "def cal_cur(x,y,model_function:Callable[[np.ndarray,float], np.ndarray]=model_function,p0=[2.0],refx=np.linspace(1,100,100)):\n",
    "    # lr=LinearRegression()\n",
    "    x_=np.array(x)/100\n",
    "    y_=np.array(y)/100\n",
    "    opt_paras, _ = curve_fit(model_function, x_, y_, p0=p0)\n",
    "    \n",
    "    rmsd=((y_-model_function(x_, *opt_paras))**2).mean()\n",
    "    # a_optimal = optimal_parameters\n",
    "    predy = model_function(refx/100, *opt_paras)\n",
    "    sel=(predy>=0) & (predy<=1)\n",
    "\n",
    "    reg_x=refx[sel]\n",
    "    reg_y=predy[sel]*100\n",
    "\n",
    "    return (\n",
    "        opt_paras,rmsd,\n",
    "        reg_x,reg_y,\n",
    "    )"
   ]
  },
  {
   "cell_type": "code",
   "execution_count": 6,
   "metadata": {},
   "outputs": [],
   "source": [
    "def get_lr_cohort(identities_dict:dict,\n",
    "                  ref_genome:str,\n",
    "                  ref_accession:str):\n",
    "    '''use `identity_dict` from `get_identities`'''\n",
    "    o_dict={}\n",
    "    for accession,d in identities_dict.items():\n",
    "            # if accession!=ref_accession:\n",
    "            x,y=[],[]\n",
    "            for k in d.keys():\n",
    "                if k !=ref_genome:\n",
    "                    r=identities_dict[ref_accession].get(k,None)\n",
    "                    if r is not None:\n",
    "                        x.append(r)\n",
    "                        y.append(d[k])\n",
    "            if len(x)>0:\n",
    "                o_dict[accession]=(x,y)\n",
    "    return o_dict"
   ]
  },
  {
   "cell_type": "code",
   "execution_count": 7,
   "metadata": {},
   "outputs": [],
   "source": [
    "from matplotlib.colors import LinearSegmentedColormap,Normalize\n",
    "from math import log2\n",
    "def get_ref_palette(accession:str,\n",
    "                    lr_metrics:dict,\n",
    "                    corr_color_map:LinearSegmentedColormap,\n",
    "                    fetch=lambda x: x[0],\n",
    "                    transform=lambda x: 1-log2(x)):\n",
    "    '''\n",
    "    `lr_metrics` comes from `{k:cal_lr(v[0],v[1]) for k,v in lr_cohort.items()}`,\n",
    "        where `lr_cohort` comes from get_lr_cohort\n",
    "    `fetch`: fetch metric values from lr_metrics' dict\n",
    "    `trasnform`: metric values mapping (usually to 0~1)\n",
    "    '''\n",
    "    if accession in lr_metrics:\n",
    "        # ref_c=corr_color_map(lr_metrics[accession][2]/100-1e-10)\n",
    "        m_val=transform(fetch(lr_metrics[accession]))\n",
    "        ref_c=corr_color_map(m_val)\n",
    "        return LinearSegmentedColormap.from_list(accession, [(1, 1, 1, 1), ref_c])\n",
    "    else:\n",
    "        return LinearSegmentedColormap.from_list(accession, [(1, 1, 1), (1, 0, 0)])"
   ]
  },
  {
   "cell_type": "code",
   "execution_count": 22,
   "metadata": {},
   "outputs": [],
   "source": [
    "#missing entry map\n",
    "def get_missing_palette(domains:pd.DataFrame,ref_genome:str,\n",
    "        missing_color_map:LinearSegmentedColormap)->Tuple[dict[str,Tuple[int]],int]:\n",
    "    o_dict={}\n",
    "    # total_genome=len(domains['genome_name'].unique())\n",
    "    cano_entry=domains[domains['domain_accession']==ref_genome]['genome_name'].unique()\n",
    "    uncano_entry=[i for i in domains['domain_accession'].unique() \n",
    "                    if i not in cano_entry]\n",
    "    max_missing=max([len(domains[domains['domain_accession']==i]) for i in uncano_entry])\n",
    "    for i in uncano_entry:\n",
    "        l=len(domains[domains['domain_accession']==i])\n",
    "        o_dict[i]=missing_color_map(l/max_missing)\n",
    "    return o_dict,max_missing"
   ]
  },
  {
   "cell_type": "code",
   "execution_count": 9,
   "metadata": {},
   "outputs": [],
   "source": [
    "import matplotlib.colors as mcolors\n",
    "\n",
    "def get_corr_color_map(lr_metrics:dict,fetch=lambda x: x[0],\n",
    "                       colors = [mcolors.to_rgba(i) for i in ['teal','gold','orangered']]):\n",
    "    _=[fetch(i) for i in lr_metrics.values()]\n",
    "    metric_min,metric_max=min(_),max(_)\n",
    "    # print(metric_min,metric_max)\n",
    "    position_ref=(1-metric_min)/(metric_max-metric_min)\n",
    "    if position_ref<=0:\n",
    "        positions = [0, 1]\n",
    "        situ='conserved'\n",
    "        corr_color_map = mcolors.LinearSegmentedColormap.from_list(\n",
    "            f'{situ}_color_map', [(i,j) for i,j in zip(positions,colors[:2])], N=512)\n",
    "        \n",
    "    elif 0<position_ref<1:\n",
    "        positions = [0, position_ref, 1]\n",
    "        situ='biased'\n",
    "        corr_color_map = mcolors.LinearSegmentedColormap.from_list(\n",
    "            f'{situ}_color_map', [(i,j) for i,j in zip(positions,colors)], N=512)\n",
    "    else :\n",
    "        positions = [0, 1]\n",
    "        situ='diverged'\n",
    "        corr_color_map = mcolors.LinearSegmentedColormap.from_list(\n",
    "            f'{situ}_color_map', [(i,j) for i,j in zip(positions,colors[1:])], N=512)\n",
    "    return corr_color_map,situ,position_ref,metric_min,metric_max"
   ]
  },
  {
   "cell_type": "code",
   "execution_count": 30,
   "metadata": {},
   "outputs": [],
   "source": [
    "# def get_palette\n",
    "from math import tanh,tan\n",
    "k='measles'\n",
    "corr_color_list = [mcolors.to_rgba(i) for i in ['darkblue','teal','orangered']] #colormaps['RdYlBu_r']#['plasma_r'] ['darkgreen','darkblue','maroon']\n",
    "missing_color_map = LinearSegmentedColormap.from_list('missing_color_map', [(1, 1, 1,1), mcolors.to_rgba('orangered')])\n",
    "ref_palette_trasnform=lambda x:x#lambda x:tanh(x-1)+0.5\n",
    "reversed_func=lambda y: tan(y-0.5)+1\n",
    "ref_palette_fetch=lambda x: x[0]\n",
    "\n",
    "domains=pd.read_csv(f'{k}-domains.csv')\n",
    "sequence_length=int(2*domains['genome_length'].max())\n",
    "ref=int(sequence_length/2)\n",
    "\n",
    "identities_dict=get_identities(f'{k}_fasta')[0]\n",
    "\n",
    "# canonical colormap\n",
    "lr_cohort=get_lr_cohort(identities_dict,ref_genome_dict[k],ref_accession=ref_accession_dict[k])\n",
    "lr_metrics={k:cal_lr(v[0],v[1]) for k,v in lr_cohort.items()}\n",
    "corr_color_map,situ,position_ref,metric_min,metric_max=get_corr_color_map(lr_metrics,ref_palette_fetch,corr_color_list)\n",
    "\n",
    "ref_palette={k:get_ref_palette(k,lr_metrics,corr_color_map,\n",
    "            transform=lambda x:(x-metric_min)/(metric_max-metric_min),fetch=ref_palette_fetch) for k in lr_metrics.keys()}\n",
    "\n",
    "missing_palette,max_missing=get_missing_palette(domains,ref_genome_dict[k],missing_color_map)\n",
    "\n",
    "# lr_metrics={k:cal_cur(v[0],v[1]) for k,v in lr_cohort.items()}\n",
    "# ref_palette={k:get_ref_palette(k,lr_metrics,corr_color_map,\n",
    "#     lambda x:x[0][0],lambda x:(1+log2(x)/2)) \n",
    "#     for k in lr_metrics.keys()}\n"
   ]
  },
  {
   "cell_type": "code",
   "execution_count": 57,
   "metadata": {},
   "outputs": [
    {
     "data": {
      "text/plain": [
       "(array([2., 0., 1., 2., 2., 1., 2., 5., 0., 2.]),\n",
       " array([0.93670722, 1.04341966, 1.1501321 , 1.25684453, 1.36355697,\n",
       "        1.47026941, 1.57698184, 1.68369428, 1.79040672, 1.89711916,\n",
       "        2.00383159]),\n",
       " <BarContainer object of 10 artists>)"
      ]
     },
     "execution_count": 57,
     "metadata": {},
     "output_type": "execute_result"
    },
    {
     "data": {
      "image/png": "[encoded data removed]",
      "text/plain": [
       "<Figure size 640x480 with 1 Axes>"
      ]
     },
     "metadata": {},
     "output_type": "display_data"
    }
   ],
   "source": [
    "trasnform=lambda x:tanh(x-1)+0.5\n",
    "plt.hist([x[0] for x in lr_metrics.values()])"
   ]
  },
  {
   "cell_type": "code",
   "execution_count": 58,
   "metadata": {},
   "outputs": [
    {
     "data": {
      "text/plain": [
       "(array([2., 0., 1., 0., 2., 2., 2., 6., 0., 2.]),\n",
       " array([-0.09432991,  0.01537921,  0.12508833,  0.23479745,  0.34450656,\n",
       "         0.45421568,  0.5639248 ,  0.67363391,  0.78334303,  0.89305215,\n",
       "         1.00276127]),\n",
       " <BarContainer object of 10 artists>)"
      ]
     },
     "execution_count": 58,
     "metadata": {},
     "output_type": "execute_result"
    },
    {
     "data": {
      "image/png": "[encoded data removed]",
      "text/plain": [
       "<Figure size 640x480 with 1 Axes>"
      ]
     },
     "metadata": {},
     "output_type": "display_data"
    }
   ],
   "source": [
    "trasnform=lambda x:log2(x)\n",
    "plt.hist([trasnform(x[0]) for x in lr_metrics.values()])"
   ]
  },
  {
   "cell_type": "code",
   "execution_count": 11,
   "metadata": {},
   "outputs": [],
   "source": [
    "from matplotlib import cm\n",
    "from matplotlib.colors import LinearSegmentedColormap,Normalize,FuncNorm\n",
    "from math import log\n",
    "from matplotlib import gridspec"
   ]
  },
  {
   "cell_type": "code",
   "execution_count": 12,
   "metadata": {},
   "outputs": [
    {
     "data": {
      "text/plain": [
       "100.0"
      ]
     },
     "execution_count": 12,
     "metadata": {},
     "output_type": "execute_result"
    }
   ],
   "source": [
    "sort_rdrps=parse_diamond(f'{k}_fasta/{ref_accession_dict[k]}-match.tsv')\n",
    "sort_rdrps.set_index('Subject ID',inplace=True)\n",
    "sort_rdrps.loc['ZIKV||AY632535']['Percentage of identical matches']"
   ]
  },
  {
   "cell_type": "code",
   "execution_count": 13,
   "metadata": {},
   "outputs": [],
   "source": [
    "def sort_genome(genome_names:List[str],sort_rdrps:pd.DataFrame):\n",
    "    o=[]\n",
    "    for i in genome_names:\n",
    "        if i in sort_rdrps.index:\n",
    "            o.append((i,sort_rdrps.loc[i]['Percentage of identical matches']))\n",
    "        else:\n",
    "            o.append((i,0))\n",
    "    o.sort(key=lambda x:x[1],reverse=True)\n",
    "    return o"
   ]
  },
  {
   "cell_type": "code",
   "execution_count": 31,
   "metadata": {},
   "outputs": [],
   "source": [
    "\n",
    "plt.close('all')\n",
    "sort_rdrps=parse_diamond(f'{k}_fasta/{ref_accession_dict[k]}-match.tsv')\n",
    "sort_rdrps.set_index('Subject ID',inplace=True)\n",
    "\n",
    "genomes=domains['genome_name'].unique()\n",
    "\n",
    "\n",
    "\n",
    "def norm(x_:float):\n",
    "    # return np.sqrt(x_)\n",
    "    _pseudo_index=2.4#log(log(1.5,2),0.8)\n",
    "    _pseudo_identity=2**(x_**_pseudo_index)-1\n",
    "    return _pseudo_identity\n",
    "    \n",
    "def rev_norm(y_:float):\n",
    "    # return y_**2\n",
    "    _pseudo_index=2.4#log(log(1.5,2),0.8)\n",
    "    identity=np.log2(y_+1)**(1/_pseudo_index)\n",
    "    return identity\n"
   ]
  },
  {
   "cell_type": "code",
   "execution_count": 32,
   "metadata": {},
   "outputs": [],
   "source": [
    "fig,ax=plt.subplots(len(genomes)+1,1,sharex=True,figsize=(60,len(genomes)*2))\n",
    "c=1\n",
    "# fig,ax=plt.subplots(2,1,sharex=True,figsize=(30,2*2))\n",
    "gs=gridspec.GridSpec(len(genomes)+1,3)\n",
    "ax:List[Axes]\n",
    "for (i,j) in sort_genome(genomes,sort_rdrps):\n",
    "    '''\n",
    "    i: genome id,\n",
    "    j: identity% to ref genome \n",
    "    '''\n",
    "    idf=domains[domains['genome_name']==i]\n",
    "    # for i,idf in domains.groupby('genome_name'):\n",
    "        # sequence_length=idf.iloc[0]['genome_length']\n",
    "    if (idf['domain_accession']==ref_accession_dict[k]).any():\n",
    "        #TODO better decision of genome length & del_start\n",
    "        rdrp_start=idf[idf['domain_accession']==ref_accession_dict[k]].iloc[0]['start']\n",
    "        rdrp_hmm_start=idf[idf['domain_accession']==ref_accession_dict[k]].iloc[0]['hmmStart']\n",
    "        del_start=ref-(rdrp_start-rdrp_hmm_start*3)\n",
    "    else:\n",
    "        del_start=ref-idf.iloc[0]['genome_length']/2\n",
    "        # print(f'no rdrp warning:{i}') #TODO unified log system\n",
    "    \n",
    "    features=[]\n",
    "    for _,d in idf.iterrows():\n",
    "        strand=+1 if d['strand']=='SENSE' else -1\n",
    "        a_=d['domain_annotation'].split(':')[0]\n",
    "        '''\n",
    "        a_: simplified description of domain\n",
    "        #TODO annotated them in a pseudo `GraphicRecord`\n",
    "        '''\n",
    "        if d['domain_accession'] in ref_palette:\n",
    "            identity=identities_dict[d['domain_accession']].get(i,0.2)/100\n",
    "            _pseudo_identity=norm(identity)\n",
    "            color=ref_palette[d['domain_accession']](_pseudo_identity)\n",
    "        else:\n",
    "            color=missing_palette[d['domain_accession']]\n",
    "            # print('!')\n",
    "        # try:\n",
    "        #     identity=identities_dict[d['domain_accession']][i]\n",
    "        # except:\n",
    "        #     identity=0.0\n",
    "        # try:\n",
    "        #     palette=ref_palette[]\n",
    "        # except:\n",
    "        #     palette=missing_color_map\n",
    "        # _=identity/100\n",
    "        # _pseudo_index=log(log(1.5,2),0.8)\n",
    "        # assert isinstance(2**(_**_pseudo_index)-1,float),f'{_**_pseudo_index}'\n",
    "        # color=palette(2**(_**_pseudo_index)-1) #\n",
    "        # if  a_ in dpalette:\n",
    "        #     color=dpalette[a_]\n",
    "        # elif a_ in nido_exclusives:\n",
    "        #     color=nidopalette[nido_exclusives.index(a_)]\n",
    "        # else:\n",
    "        #     color='red'\n",
    "        # color= 'green' if d['domain_accession']=='PF00680' else 'grey'\n",
    "        features.append(GraphicFeature(start=d['start']+del_start, end=d['end']+del_start, strand=strand, color=color,\n",
    "                    label=d['domain_accession']))\n",
    "    record = GraphicRecord(sequence_length=sequence_length, features=features)\n",
    "    record.plot(ax=ax[c],figure_width=20)\n",
    "    ax[c].set_facecolor(\"white\")\n",
    "    ax[c].tick_params(axis='x', which='both', bottom=False, top=False, labelbottom=False) # remove ticks\n",
    "    ax[c].annotate(i+f'|{j}' ,(-50,-0), xycoords='data', annotation_clip=False, ha='left',fontsize=25) \n",
    "    hide_axes(ax[c],0+del_start,idf.iloc[0]['genome_length']+del_start,sequence_length=sequence_length)\n",
    "    c+=1 # for test \n",
    "    # if c==3:\n",
    "    #     break\n",
    "    \n",
    "ax[0].set_axis_off()\n",
    "fig.tight_layout()\n",
    "\n",
    "cbar_ax =fig.add_subplot(gs[0,0])\n",
    "cbar=fig.colorbar(cm.ScalarMappable(norm=Normalize(vmin=metric_min,vmax=metric_max), cmap=corr_color_map),cax=cbar_ax,orientation='horizontal')\n",
    "cbar_tick_locations = [metric_min,1,metric_max]#np.linspace(0,1,4)\n",
    "cbar.set_ticks(cbar_tick_locations)\n",
    "cbar.set_ticklabels([f'{i:.1f}' for i in cbar_tick_locations],fontsize=25)\n",
    "cbar.set_label('Lr `k`',fontsize=30,loc='left')\n",
    "\n",
    "cbar_ax1 =fig.add_subplot(gs[0,1])\n",
    "cbar1=fig.colorbar(cm.ScalarMappable(norm=FuncNorm(functions=(norm,rev_norm),vmin=0.,vmax=1.), cmap=ref_palette[ref_accession_dict[k]]),cax=cbar_ax1,orientation='horizontal')\n",
    "cbar_tick_locations = np.array([0,0.5,0.8,1])\n",
    "cbar1.set_ticks(cbar_tick_locations)\n",
    "cbar1.set_ticklabels([f'{i:.1f}' for i in cbar_tick_locations],fontsize=25)\n",
    "cbar1.set_label('Identity to RefGenome',fontsize=30,loc='center')\n",
    "\n",
    "cbar_ax2 =fig.add_subplot(gs[0,2])\n",
    "cbar2=fig.colorbar(cm.ScalarMappable(norm=Normalize(vmin=0.,vmax=max_missing), cmap=missing_color_map),cax=cbar_ax2,orientation='horizontal')\n",
    "cbar_tick_locations = np.array(np.linspace(0,max_missing,5))\n",
    "cbar2.set_ticks(cbar_tick_locations)\n",
    "cbar2.set_ticklabels([f'{i:.0f}' for i in cbar_tick_locations],fontsize=25)\n",
    "cbar2.set_label('Missing Gene Freq',fontsize=30,loc='right')\n",
    "\n",
    "# fig.set_dpi(20)\n",
    "fig.savefig('xxxx-xxxx.pdf')\n",
    "# plt.show()\n",
    "plt.close('all')"
   ]
  },
  {
   "cell_type": "code",
   "execution_count": 170,
   "metadata": {},
   "outputs": [
    {
     "data": {
      "image/png": "[encoded data removed]",
      "text/html": [
       "<div style=\"vertical-align: middle;\"><strong>PF00972</strong> </div><div class=\"cmap\"><img alt=\"PF00972 colormap\" title=\"PF00972\" style=\"border: 1px solid #555;\" src=\"data:image/png;base64,iVBORw0KGgoAAAANSUhEUgAAAgAAAABACAYAAABsv8+/AAAAFnRFWHRUaXRsZQBQRjAwOTcyIGNvbG9ybWFw4wIGCgAAABx0RVh0RGVzY3JpcHRpb24AUEYwMDk3MiBjb2xvcm1hcEQst3MAAAAwdEVYdEF1dGhvcgBNYXRwbG90bGliIHYzLjcuMiwgaHR0cHM6Ly9tYXRwbG90bGliLm9yZx9CTh4AAAAydEVYdFNvZnR3YXJlAE1hdHBsb3RsaWIgdjMuNy4yLCBodHRwczovL21hdHBsb3RsaWIub3JnMeTROQAAAXNJREFUeJzt1rtuwkAQQNEh///Nu2kMBcJFnIeI7jmNNVrscWGhe9t775mZ4zLHZfaYvzOveRzYb/+/33/1eetpvvo+v77//v83r+d1/+HJ+dm8nuav3v9u+x9Pubj//P7j+sPf0To5/6vv+N33fwwAkCMAACBIAABAkAAAgCABAABBAgAAggQAAAQJAAAIEgAAECQAACBIAABAkAAAgCABAABBAgAAggQAAAQJAAAIEgAAECQAACBIAABAkAAAgCABAABBAgAAggQAAAQJAAAIEgAAECQAACBIAABAkAAAgCABAABBAgAAggQAAAQJAAAIEgAAECQAACBIAABAkAAAgCABAABBAgAAggQAAAQJAAAIEgAAECQAACBIAABAkAAAgCABAABBAgAAggQAAAQJAAAIEgAAECQAACBIAABAkAAAgCABAABBAgAAggQAAAQJAAAIEgAAECQAACBIAABAkAAAgCABAABBAgAAggQAAAR9AjpS64zYb75MAAAAAElFTkSuQmCC\"></div><div style=\"vertical-align: middle; max-width: 514px; display: flex; justify-content: space-between;\"><div style=\"float: left;\"><div title=\"#ffffffff\" style=\"display: inline-block; width: 1em; height: 1em; margin: 0; vertical-align: middle; border: 1px solid #555; background-color: #ffffffff;\"></div> under</div><div style=\"margin: 0 auto; display: inline-block;\">bad <div title=\"#00000000\" style=\"display: inline-block; width: 1em; height: 1em; margin: 0; vertical-align: middle; border: 1px solid #555; background-color: #00000000;\"></div></div><div style=\"float: right;\">over <div title=\"#007f80ff\" style=\"display: inline-block; width: 1em; height: 1em; margin: 0; vertical-align: middle; border: 1px solid #555; background-color: #007f80ff;\"></div></div>"
      ],
      "text/plain": [
       "<matplotlib.colors.LinearSegmentedColormap at 0x7f9de89ac790>"
      ]
     },
     "execution_count": 170,
     "metadata": {},
     "output_type": "execute_result"
    }
   ],
   "source": [
    "ref_palette[ref_accession_dict[k]]"
   ]
  },
  {
   "cell_type": "code",
   "execution_count": 151,
   "metadata": {},
   "outputs": [
    {
     "data": {
      "text/plain": [
       "<matplotlib.cm.ScalarMappable at 0x7f9de05093d0>"
      ]
     },
     "execution_count": 151,
     "metadata": {},
     "output_type": "execute_result"
    }
   ],
   "source": [
    "cm.ScalarMappable(norm=FuncNorm(functions=(norm,rev_norm),vmin=0,vmax=1), cmap=ref_palette[ref_accession_dict[k]])"
   ]
  },
  {
   "cell_type": "code",
   "execution_count": 138,
   "metadata": {},
   "outputs": [
    {
     "data": {
      "text/plain": [
       "array([0.00000000e+00, 2.19086364e-07, 1.15634531e-06, 3.05989819e-06,\n",
       "       6.10324221e-06, 1.04266687e-05, 1.61503452e-05, 2.33806012e-05,\n",
       "       3.22135260e-05, 4.27372530e-05, 5.50335148e-05, 6.91787590e-05,\n",
       "       8.52449777e-05, 1.03300346e-04, 1.23409725e-04, 1.45635062e-04,\n",
       "       1.70035726e-04, 1.96668776e-04, 2.25589195e-04, 2.56850084e-04,\n",
       "       2.90502828e-04, 3.26597246e-04, 3.65181712e-04, 4.06303272e-04,\n",
       "       4.50007737e-04, 4.96339773e-04, 5.45342982e-04, 5.97059967e-04,\n",
       "       6.51532398e-04, 7.08801070e-04, 7.68905955e-04, 8.31886248e-04,\n",
       "       8.97780413e-04, 9.66626222e-04, 1.03846079e-03, 1.11332061e-03,\n",
       "       1.19124159e-03, 1.27225908e-03, 1.35640789e-03, 1.44372232e-03,\n",
       "       1.53423619e-03, 1.62798286e-03, 1.72499526e-03, 1.82530588e-03,\n",
       "       1.92894682e-03, 2.03594977e-03, 2.14634610e-03, 2.26016678e-03,\n",
       "       2.37744246e-03, 2.49820347e-03, 2.62247981e-03, 2.75030121e-03,\n",
       "       2.88169709e-03, 3.01669660e-03, 3.15532862e-03, 3.29762178e-03,\n",
       "       3.44360448e-03, 3.59330486e-03, 3.74675085e-03, 3.90397016e-03,\n",
       "       4.06499028e-03, 4.22983852e-03, 4.39854198e-03, 4.57112757e-03,\n",
       "       4.74762204e-03, 4.92805197e-03, 5.11244374e-03, 5.30082360e-03,\n",
       "       5.49321765e-03, 5.68965184e-03, 5.89015196e-03, 6.09474368e-03,\n",
       "       6.30345255e-03, 6.51630398e-03, 6.73332326e-03, 6.95453558e-03,\n",
       "       7.17996600e-03, 7.40963949e-03, 7.64358092e-03, 7.88181505e-03,\n",
       "       8.12436657e-03, 8.37126005e-03, 8.62252000e-03, 8.87817086e-03,\n",
       "       9.13823697e-03, 9.40274260e-03, 9.67171197e-03, 9.94516922e-03,\n",
       "       1.02231384e-02, 1.05056436e-02, 1.07927088e-02, 1.10843578e-02,\n",
       "       1.13806146e-02, 1.16815029e-02, 1.19870467e-02, 1.22972695e-02,\n",
       "       1.26121951e-02, 1.29318472e-02, 1.32562494e-02, 1.35854254e-02,\n",
       "       1.39193987e-02, 1.42581929e-02, 1.46018316e-02, 1.49503383e-02,\n",
       "       1.53037366e-02, 1.56620498e-02, 1.60253016e-02, 1.63935155e-02,\n",
       "       1.67667148e-02, 1.71449232e-02, 1.75281640e-02, 1.79164608e-02,\n",
       "       1.83098372e-02, 1.87083165e-02, 1.91119223e-02, 1.95206781e-02,\n",
       "       1.99346075e-02, 2.03537340e-02, 2.07780812e-02, 2.12076727e-02,\n",
       "       2.16425321e-02, 2.20826830e-02, 2.25281491e-02, 2.29789541e-02,\n",
       "       2.34351217e-02, 2.38966757e-02, 2.43636399e-02, 2.48360380e-02,\n",
       "       2.53138940e-02, 2.57972318e-02, 2.62860752e-02, 2.67804484e-02,\n",
       "       2.72803753e-02, 2.77858799e-02, 2.82969865e-02, 2.88137193e-02,\n",
       "       2.93361023e-02, 2.98641600e-02, 3.03979167e-02, 3.09373967e-02,\n",
       "       3.14826246e-02, 3.20336249e-02, 3.25904221e-02, 3.31530409e-02,\n",
       "       3.37215060e-02, 3.42958422e-02, 3.48760743e-02, 3.54622273e-02,\n",
       "       3.60543262e-02, 3.66523960e-02, 3.72564619e-02, 3.78665491e-02,\n",
       "       3.84826830e-02, 3.91048888e-02, 3.97331921e-02, 4.03676185e-02,\n",
       "       4.10081935e-02, 4.16549430e-02, 4.23078926e-02, 4.29670684e-02,\n",
       "       4.36324963e-02, 4.43042024e-02, 4.49822129e-02, 4.56665542e-02,\n",
       "       4.63572525e-02, 4.70543343e-02, 4.77578264e-02, 4.84677553e-02,\n",
       "       4.91841478e-02, 4.99070309e-02, 5.06364315e-02, 5.13723768e-02,\n",
       "       5.21148940e-02, 5.28640105e-02, 5.36197537e-02, 5.43821512e-02,\n",
       "       5.51512307e-02, 5.59270200e-02, 5.67095470e-02, 5.74988398e-02,\n",
       "       5.82949266e-02, 5.90978357e-02, 5.99075954e-02, 6.07242344e-02,\n",
       "       6.15477814e-02, 6.23782651e-02, 6.32157146e-02, 6.40601589e-02,\n",
       "       6.49116272e-02, 6.57701489e-02, 6.66357536e-02, 6.75084708e-02,\n",
       "       6.83883303e-02, 6.92753622e-02, 7.01695963e-02, 7.10710631e-02,\n",
       "       7.19797928e-02, 7.28958160e-02, 7.38191634e-02, 7.47498657e-02,\n",
       "       7.56879540e-02, 7.66334594e-02, 7.75864133e-02, 7.85468470e-02,\n",
       "       7.95147922e-02, 8.04902808e-02, 8.14733446e-02, 8.24640157e-02,\n",
       "       8.34623265e-02, 8.44683095e-02, 8.54819972e-02, 8.65034224e-02,\n",
       "       8.75326182e-02, 8.85696177e-02, 8.96144542e-02, 9.06671613e-02,\n",
       "       9.17277726e-02, 9.27963221e-02, 9.38728437e-02, 9.49573718e-02,\n",
       "       9.60499409e-02, 9.71505854e-02, 9.82593403e-02, 9.93762407e-02,\n",
       "       1.00501322e-01, 1.01634619e-01, 1.02776167e-01, 1.03926003e-01,\n",
       "       1.05084163e-01, 1.06250682e-01, 1.07425597e-01, 1.08608945e-01,\n",
       "       1.09800763e-01, 1.11001087e-01, 1.12209956e-01, 1.13427406e-01,\n",
       "       1.14653475e-01, 1.15888201e-01, 1.17131622e-01, 1.18383777e-01,\n",
       "       1.19644704e-01, 1.20914443e-01, 1.22193031e-01, 1.23480509e-01,\n",
       "       1.24776915e-01, 1.26082291e-01, 1.27396675e-01, 1.28720108e-01,\n",
       "       1.30052630e-01, 1.31394282e-01, 1.32745106e-01, 1.34105141e-01,\n",
       "       1.35474431e-01, 1.36853016e-01, 1.38240938e-01, 1.39638240e-01,\n",
       "       1.41044964e-01, 1.42461153e-01, 1.43886849e-01, 1.45322097e-01,\n",
       "       1.46766939e-01, 1.48221420e-01, 1.49685583e-01, 1.51159473e-01,\n",
       "       1.52643134e-01, 1.54136611e-01, 1.55639951e-01, 1.57153196e-01,\n",
       "       1.58676395e-01, 1.60209592e-01, 1.61752834e-01, 1.63306168e-01,\n",
       "       1.64869640e-01, 1.66443298e-01, 1.68027189e-01, 1.69621361e-01,\n",
       "       1.71225862e-01, 1.72840740e-01, 1.74466044e-01, 1.76101823e-01,\n",
       "       1.77748127e-01, 1.79405004e-01, 1.81072506e-01, 1.82750681e-01,\n",
       "       1.84439582e-01, 1.86139258e-01, 1.87849761e-01, 1.89571143e-01,\n",
       "       1.91303455e-01, 1.93046749e-01, 1.94801079e-01, 1.96566497e-01,\n",
       "       1.98343056e-01, 2.00130810e-01, 2.01929813e-01, 2.03740119e-01,\n",
       "       2.05561783e-01, 2.07394860e-01, 2.09239405e-01, 2.11095474e-01,\n",
       "       2.12963123e-01, 2.14842409e-01, 2.16733387e-01, 2.18636116e-01,\n",
       "       2.20550653e-01, 2.22477057e-01, 2.24415384e-01, 2.26365694e-01,\n",
       "       2.28328047e-01, 2.30302501e-01, 2.32289117e-01, 2.34287955e-01,\n",
       "       2.36299075e-01, 2.38322538e-01, 2.40358407e-01, 2.42406742e-01,\n",
       "       2.44467607e-01, 2.46541064e-01, 2.48627176e-01, 2.50726006e-01,\n",
       "       2.52837620e-01, 2.54962080e-01, 2.57099452e-01, 2.59249802e-01,\n",
       "       2.61413194e-01, 2.63589696e-01, 2.65779373e-01, 2.67982293e-01,\n",
       "       2.70198524e-01, 2.72428133e-01, 2.74671188e-01, 2.76927759e-01,\n",
       "       2.79197915e-01, 2.81481725e-01, 2.83779261e-01, 2.86090592e-01,\n",
       "       2.88415791e-01, 2.90754928e-01, 2.93108076e-01, 2.95475308e-01,\n",
       "       2.97856697e-01, 3.00252317e-01, 3.02662241e-01, 3.05086545e-01,\n",
       "       3.07525304e-01, 3.09978593e-01, 3.12446489e-01, 3.14929069e-01,\n",
       "       3.17426409e-01, 3.19938589e-01, 3.22465685e-01, 3.25007777e-01,\n",
       "       3.27564945e-01, 3.30137269e-01, 3.32724828e-01, 3.35327705e-01,\n",
       "       3.37945981e-01, 3.40579737e-01, 3.43229058e-01, 3.45894026e-01,\n",
       "       3.48574725e-01, 3.51271240e-01, 3.53983656e-01, 3.56712059e-01,\n",
       "       3.59456535e-01, 3.62217170e-01, 3.64994053e-01, 3.67787272e-01,\n",
       "       3.70596915e-01, 3.73423071e-01, 3.76265832e-01, 3.79125286e-01,\n",
       "       3.82001526e-01, 3.84894644e-01, 3.87804732e-01, 3.90731883e-01,\n",
       "       3.93676191e-01, 3.96637751e-01, 3.99616657e-01, 4.02613007e-01,\n",
       "       4.05626895e-01, 4.08658419e-01, 4.11707678e-01, 4.14774770e-01,\n",
       "       4.17859794e-01, 4.20962849e-01, 4.24084038e-01, 4.27223461e-01,\n",
       "       4.30381220e-01, 4.33557418e-01, 4.36752159e-01, 4.39965546e-01,\n",
       "       4.43197686e-01, 4.46448684e-01, 4.49718646e-01, 4.53007679e-01,\n",
       "       4.56315893e-01, 4.59643395e-01, 4.62990296e-01, 4.66356705e-01,\n",
       "       4.69742734e-01, 4.73148495e-01, 4.76574100e-01, 4.80019664e-01,\n",
       "       4.83485301e-01, 4.86971125e-01, 4.90477254e-01, 4.94003804e-01,\n",
       "       4.97550892e-01, 5.01118638e-01, 5.04707160e-01, 5.08316580e-01,\n",
       "       5.11947018e-01, 5.15598596e-01, 5.19271438e-01, 5.22965667e-01,\n",
       "       5.26681408e-01, 5.30418786e-01, 5.34177929e-01, 5.37958963e-01,\n",
       "       5.41762017e-01, 5.45587220e-01, 5.49434703e-01, 5.53304597e-01,\n",
       "       5.57197034e-01, 5.61112147e-01, 5.65050071e-01, 5.69010940e-01,\n",
       "       5.72994890e-01, 5.77002059e-01, 5.81032585e-01, 5.85086606e-01,\n",
       "       5.89164264e-01, 5.93265698e-01, 5.97391052e-01, 6.01540468e-01,\n",
       "       6.05714091e-01, 6.09912066e-01, 6.14134540e-01, 6.18381659e-01,\n",
       "       6.22653573e-01, 6.26950432e-01, 6.31272386e-01, 6.35619587e-01,\n",
       "       6.39992188e-01, 6.44390343e-01, 6.48814207e-01, 6.53263938e-01,\n",
       "       6.57739692e-01, 6.62241629e-01, 6.66769909e-01, 6.71324691e-01,\n",
       "       6.75906140e-01, 6.80514419e-01, 6.85149692e-01, 6.89812125e-01,\n",
       "       6.94501886e-01, 6.99219143e-01, 7.03964066e-01, 7.08736826e-01,\n",
       "       7.13537596e-01, 7.18366548e-01, 7.23223859e-01, 7.28109704e-01,\n",
       "       7.33024261e-01, 7.37967708e-01, 7.42940226e-01, 7.47941997e-01,\n",
       "       7.52973204e-01, 7.58034030e-01, 7.63124663e-01, 7.68245288e-01,\n",
       "       7.73396094e-01, 7.78577272e-01, 7.83789013e-01, 7.89031510e-01,\n",
       "       7.94304958e-01, 7.99609551e-01, 8.04945487e-01, 8.10312966e-01,\n",
       "       8.15712188e-01, 8.21143354e-01, 8.26606667e-01, 8.32102334e-01,\n",
       "       8.37630560e-01, 8.43191553e-01, 8.48785524e-01, 8.54412683e-01,\n",
       "       8.60073244e-01, 8.65767420e-01, 8.71495429e-01, 8.77257487e-01,\n",
       "       8.83053816e-01, 8.88884635e-01, 8.94750168e-01, 9.00650639e-01,\n",
       "       9.06586275e-01, 9.12557304e-01, 9.18563956e-01, 9.24606462e-01,\n",
       "       9.30685056e-01, 9.36799973e-01, 9.42951450e-01, 9.49139727e-01,\n",
       "       9.55365044e-01, 9.61627643e-01, 9.67927769e-01, 9.74265669e-01,\n",
       "       9.80641591e-01, 9.87055785e-01, 9.93508503e-01, 1.00000000e+00])"
      ]
     },
     "execution_count": 138,
     "metadata": {},
     "output_type": "execute_result"
    }
   ],
   "source": []
  },
  {
   "cell_type": "code",
   "execution_count": 117,
   "metadata": {},
   "outputs": [
    {
     "data": {
      "text/plain": [
       "{'PF01538': (1.0, 0.7294117647058824, 0.7294117647058824, 1.0),\n",
       " 'PF07652': (1.0, 0.3058823529411765, 0.3058823529411765, 1.0),\n",
       " 'PF00998': (1.0, 0.5372549019607843, 0.5372549019607843, 1.0),\n",
       " 'PF08300': (1.0, 0.7019607843137254, 0.7019607843137254, 1.0),\n",
       " 'PF01001': (1.0, 0.6745098039215687, 0.6745098039215687, 1.0),\n",
       " 'PF02907': (1.0, 0.6745098039215687, 0.6745098039215687, 1.0),\n",
       " 'PF08301': (1.0, 0.7647058823529411, 0.7647058823529411, 1.0),\n",
       " 'PF12786': (1.0, 0.8784313725490196, 0.8784313725490196, 1.0),\n",
       " 'PF01506': (1.0, 0.8313725490196078, 0.8313725490196078, 1.0),\n",
       " 'PF01006': (1.0, 0.803921568627451, 0.803921568627451, 1.0),\n",
       " 'PF05578': (1.0, 0.8666666666666667, 0.8666666666666667, 1.0),\n",
       " 'PF11889': (1.0, 0.8784313725490196, 0.8784313725490196, 1.0),\n",
       " 'PF12387': (1.0, 0.8784313725490196, 0.8784313725490196, 1.0),\n",
       " 'PF16329': (1.0, 0.8666666666666667, 0.8666666666666667, 1.0),\n",
       " 'PF05550': (1.0, 0.8784313725490196, 0.8784313725490196, 1.0),\n",
       " 'PF20907': (1.0, 0.4901960784313726, 0.4901960784313726, 1.0),\n",
       " 'PF00271': (1.0, 0.8666666666666667, 0.8666666666666667, 1.0),\n",
       " 'PF20483': (1.0, 0.48235294117647065, 0.48235294117647065, 1.0),\n",
       " 'PF00972': (1.0, 0.48235294117647065, 0.48235294117647065, 1.0),\n",
       " 'PF00270': (1.0, 0.9607843137254902, 0.9607843137254902, 1.0),\n",
       " 'PF01542': (1.0, 0.8235294117647058, 0.8235294117647058, 1.0),\n",
       " 'PF01539': (1.0, 0.8117647058823529, 0.8117647058823529, 1.0),\n",
       " 'PF01543': (1.0, 0.8705882352941177, 0.8705882352941177, 1.0),\n",
       " 'PF12941': (1.0, 0.9137254901960784, 0.9137254901960784, 1.0),\n",
       " 'PF01560': (1.0, 0.8980392156862745, 0.8980392156862745, 1.0),\n",
       " 'PF21659': (1.0, 0.6274509803921569, 0.6274509803921569, 1.0),\n",
       " 'PF02832': (1.0, 0.592156862745098, 0.592156862745098, 1.0),\n",
       " 'PF01349': (1.0, 0.611764705882353, 0.611764705882353, 1.0),\n",
       " 'PF01728': (1.0, 0.611764705882353, 0.611764705882353, 1.0),\n",
       " 'PF01003': (1.0, 0.6588235294117647, 0.6588235294117647, 1.0),\n",
       " 'PF01005': (1.0, 0.6549019607843137, 0.6549019607843137, 1.0),\n",
       " 'PF00869': (1.0, 0.592156862745098, 0.592156862745098, 1.0),\n",
       " 'PF00948': (1.0, 0.603921568627451, 0.603921568627451, 1.0),\n",
       " 'PF01004': (1.0, 0.6470588235294118, 0.6470588235294118, 1.0),\n",
       " 'PF00949': (1.0, 0.611764705882353, 0.611764705882353, 1.0),\n",
       " 'PF01570': (1.0, 0.603921568627451, 0.603921568627451, 1.0),\n",
       " 'PF01350': (1.0, 0.611764705882353, 0.611764705882353, 1.0),\n",
       " 'PF01002': (1.0, 0.7294117647058824, 0.7294117647058824, 1.0),\n",
       " 'PF14901': (1.0, 0.9882352941176471, 0.9882352941176471, 1.0),\n",
       " 'PF12342': (1.0, 0.9803921568627451, 0.9803921568627451, 1.0)}"
      ]
     },
     "execution_count": 117,
     "metadata": {},
     "output_type": "execute_result"
    }
   ],
   "source": [
    "missing_palette"
   ]
  },
  {
   "cell_type": "code",
   "execution_count": 106,
   "metadata": {},
   "outputs": [
    {
     "data": {
      "text/plain": [
       "{'ZIKV||AY632535': 100.0,\n",
       " 'ZIKV||KY766069': 97.5,\n",
       " 'ZIKV||KJ776791': 97.5,\n",
       " 'ZIKV||KX377337': 97.5,\n",
       " 'ILHV||AY632539': 85.5,\n",
       " 'NTAV||JX236040': 84.3,\n",
       " 'BAGV||AY632545': 83.6,\n",
       " 'SLEV||DQ525916': 84.3,\n",
       " 'TMUV||JF895923': 83.0,\n",
       " 'JEV||M18370': 81.8,\n",
       " 'WNV||M12294': 81.8,\n",
       " 'KUNV||D00246': 79.1,\n",
       " 'AROAV||AY632536': 82.4,\n",
       " 'KOKV||AY632541': 82.5,\n",
       " 'CPCV||KF917536': 78.6,\n",
       " 'KEDV||AY632540': 78.5,\n",
       " 'MVEV||AF161266': 79.2,\n",
       " 'DENV-1||U88536': 77.9,\n",
       " 'USUV||AY453411': 77.4,\n",
       " 'DENV-2||U87411': 77.2,\n",
       " 'DENV-4||AF326573': 74.8,\n",
       " 'DENV-3||M93130': 77.4,\n",
       " 'WESSV||EU707555': 76.1,\n",
       " 'SEPV||DQ837642': 74.7,\n",
       " 'KADV||DQ235146': 73.4,\n",
       " 'JUGV||DQ859066': 71.6,\n",
       " 'UGSV||DQ859065': 71.5,\n",
       " 'POTV||DQ859067': 71.6,\n",
       " 'SABV||DQ859062': 71.0,\n",
       " 'BOUV||DQ859057': 69.3,\n",
       " 'POWV||L06436': 71.1,\n",
       " 'RFV||DQ235149': 71.7,\n",
       " 'MEAV||DQ235144': 73.2,\n",
       " 'SREV||DQ235150': 76.4,\n",
       " 'BANV||DQ859056': 70.3,\n",
       " 'YFV||X03700': 72.8,\n",
       " 'DTV||AF311056': 70.4,\n",
       " 'LGTV||AF253419': 71.7,\n",
       " 'TBEV-Sib||L40361': 71.1,\n",
       " 'ENTV||DQ837641': 70.2,\n",
       " 'YOKV||AB114858': 70.4,\n",
       " 'GGEV||DQ235153': 70.4,\n",
       " 'EHV||DQ859060': 69.1,\n",
       " 'TYUV||KF815939': 73.1,\n",
       " 'GGYV||DQ235145': 70.4,\n",
       " 'OHFV||AY193805': 69.8,\n",
       " 'TSEV||DQ235151': 69.8,\n",
       " 'AHFV||AF331718': 70.4,\n",
       " 'KFDV||AY323490': 70.4,\n",
       " 'TBEV-Eur||U27495': 68.6,\n",
       " 'LIV-Spain||DQ235152': 68.6,\n",
       " 'LIV||Y07863': 67.9,\n",
       " 'MMLV||AJ299445': 65.4,\n",
       " 'RBV||AF144692': 61.6,\n",
       " 'JUTV||KJ469371': 62.4,\n",
       " 'APOIV||AF160193': 58.8,\n",
       " 'MODV||AJ242984': 60.9,\n",
       " 'ROCV||AF013397': 86.6,\n",
       " 'NJLV||AF013390': 86.6,\n",
       " 'BSQV||AF013366': 85.6,\n",
       " 'IGUV||AF013375': 82.5,\n",
       " 'AROAV||AF013362': 82.5,\n",
       " 'YAOV||AF013413': 83.5,\n",
       " 'ITV||AF013377': 80.4,\n",
       " 'ALFV||AF013360': 81.4,\n",
       " 'KOUV||AF013384': 83.2,\n",
       " 'STRV||AF013407': 78.4,\n",
       " 'SOKV||AF013405': 77.9,\n",
       " 'CIV||AF013368': 66.0,\n",
       " 'BCV||AF013369': 66.7,\n",
       " 'BBV||AF013365': 66.0,\n",
       " 'DBV||AF013371': 67.7,\n",
       " 'PPBV||AF013394': 64.5,\n",
       " 'SPV||AF013402': 64.5,\n",
       " 'CRV||AF013370': 65.2,\n",
       " 'SVV||AF013401': 62.0}"
      ]
     },
     "execution_count": 106,
     "metadata": {},
     "output_type": "execute_result"
    }
   ],
   "source": [
    "identities_dict[d['domain_accession']]"
   ]
  },
  {
   "cell_type": "code",
   "execution_count": 13,
   "metadata": {},
   "outputs": [
    {
     "data": {
      "text/plain": [
       "[<matplotlib.lines.Line2D at 0x7f9dec36f910>]"
      ]
     },
     "execution_count": 13,
     "metadata": {},
     "output_type": "execute_result"
    },
    {
     "data": {
      "image/png": "[encoded data removed]",
      "text/plain": [
       "<Figure size 640x480 with 1 Axes>"
      ]
     },
     "metadata": {},
     "output_type": "display_data"
    }
   ],
   "source": [
    "# plt.scatter(*lr_cohort[ref_accession_dict[k]])\n",
    "x_=lr_metrics[ref_accession_dict[k]][-2]\n",
    "for i in np.linspace(0.5,1.5,10):\n",
    "    plt.plot(x_/100,model_function(x_/100,i),'--',label=f'{i:.1f}')\n",
    "    plt.legend()\n",
    "plt.plot(x_/100,x_/100,label='x=y',color='grey')"
   ]
  },
  {
   "cell_type": "code",
   "execution_count": 55,
   "metadata": {},
   "outputs": [
    {
     "data": {
      "text/plain": [
       "array([0.75797925])"
      ]
     },
     "execution_count": 55,
     "metadata": {},
     "output_type": "execute_result"
    }
   ],
   "source": [
    "lr_metrics[ref_accession_dict[k]][0]"
   ]
  },
  {
   "cell_type": "code",
   "execution_count": 33,
   "metadata": {},
   "outputs": [
    {
     "data": {
      "text/plain": [
       "[<matplotlib.lines.Line2D at 0x7f9dea510090>]"
      ]
     },
     "execution_count": 33,
     "metadata": {},
     "output_type": "execute_result"
    },
    {
     "data": {
      "image/png": "[encoded data removed]",
      "text/plain": [
       "<Figure size 640x480 with 1 Axes>"
      ]
     },
     "metadata": {},
     "output_type": "display_data"
    }
   ],
   "source": [
    "from math import e,log\n",
    "a=0.001\n",
    "f=lambda x:x**a/a+1-1/a\n",
    "x_=np.linspace(10,100,100)\n",
    "plt.plot(x_/100,f(x_/100),'--',label=f'{i:.1f}')\n",
    "plt.plot(x_/100,np.log(x_/100)+1,'--',label=f'{i:.1f}')\n"
   ]
  },
  {
   "cell_type": "code",
   "execution_count": 97,
   "metadata": {},
   "outputs": [
    {
     "data": {
      "image/png": "[encoded data removed]",
      "text/html": [
       "<div style=\"vertical-align: middle;\"><strong>PF00972</strong> </div><div class=\"cmap\"><img alt=\"PF00972 colormap\" title=\"PF00972\" style=\"border: 1px solid #555;\" src=\"data:image/png;base64,iVBORw0KGgoAAAANSUhEUgAAAgAAAABACAYAAABsv8+/AAAAFnRFWHRUaXRsZQBQRjAwOTcyIGNvbG9ybWFw4wIGCgAAABx0RVh0RGVzY3JpcHRpb24AUEYwMDk3MiBjb2xvcm1hcEQst3MAAAAwdEVYdEF1dGhvcgBNYXRwbG90bGliIHYzLjcuMiwgaHR0cHM6Ly9tYXRwbG90bGliLm9yZx9CTh4AAAAydEVYdFNvZnR3YXJlAE1hdHBsb3RsaWIgdjMuNy4yLCBodHRwczovL21hdHBsb3RsaWIub3JnMeTROQAAAdJJREFUeJzt1sFOwkAUQNHR///m1g1CmIY4BdTFPWdDsLYzfaXJ/dj3fR9jjMvHuHzcvo/p+18dHw/+/3r8v9ZdO77dFnjPvk/ua5sWfPq+7m9j+bzr/b9pnuvP93L/Y7r/X1/3/vhh/ov7fnXdw/zf9J5uY7re4u95m46vz+OHeZ58D/cX57E8zwfv4XX907+76f4X1533vd8Gd+r8+X06zPGnfT+47vPPcfH8yzbn+e+HOa7NY/k5jvvv875vp597D7fD+Sf3PV33+w+fAwDIEQAAECQAACBIAABAkAAAgCABAABBAgAAggQAAAQJAAAIEgAAECQAACBIAABAkAAAgCABAABBAgAAggQAAAQJAAAIEgAAECQAACBIAABAkAAAgCABAABBAgAAggQAAAQJAAAIEgAAECQAACBIAABAkAAAgCABAABBAgAAggQAAAQJAAAIEgAAECQAACBIAABAkAAAgCABAABBAgAAggQAAAQJAAAIEgAAECQAACBIAABAkAAAgCABAABBAgAAggQAAAQJAAAIEgAAECQAACBIAABAkAAAgCABAABBAgAAggQAAAQJAAAIEgAAECQAACBIAABAkAAAgCABAABBAgAAgr4AgEkhZWCiS/IAAAAASUVORK5CYII=\"></div><div style=\"vertical-align: middle; max-width: 514px; display: flex; justify-content: space-between;\"><div style=\"float: left;\"><div title=\"#ffffffff\" style=\"display: inline-block; width: 1em; height: 1em; margin: 0; vertical-align: middle; border: 1px solid #555; background-color: #ffffffff;\"></div> under</div><div style=\"margin: 0 auto; display: inline-block;\">bad <div title=\"#00000000\" style=\"display: inline-block; width: 1em; height: 1em; margin: 0; vertical-align: middle; border: 1px solid #555; background-color: #00000000;\"></div></div><div style=\"float: right;\">over <div title=\"#004485ff\" style=\"display: inline-block; width: 1em; height: 1em; margin: 0; vertical-align: middle; border: 1px solid #555; background-color: #004485ff;\"></div></div>"
      ],
      "text/plain": [
       "<matplotlib.colors.LinearSegmentedColormap at 0x7f9dea048dd0>"
      ]
     },
     "execution_count": 97,
     "metadata": {},
     "output_type": "execute_result"
    }
   ],
   "source": [
    "ref_palette[ref_accession_dict[k]]"
   ]
  },
  {
   "cell_type": "code",
   "execution_count": 66,
   "metadata": {},
   "outputs": [
    {
     "data": {
      "text/plain": [
       "'PF00972'"
      ]
     },
     "execution_count": 66,
     "metadata": {},
     "output_type": "execute_result"
    }
   ],
   "source": [
    "ref_accession_dict[k]"
   ]
  },
  {
   "cell_type": "code",
   "execution_count": null,
   "metadata": {},
   "outputs": [],
   "source": [
    "facet"
   ]
  },
  {
   "cell_type": "code",
   "execution_count": 14,
   "metadata": {},
   "outputs": [],
   "source": [
    "plt.close('all')"
   ]
  },
  {
   "cell_type": "code",
   "execution_count": 68,
   "metadata": {},
   "outputs": [
    {
     "data": {
      "text/plain": [
       "<Axes: >"
      ]
     },
     "execution_count": 68,
     "metadata": {},
     "output_type": "execute_result"
    }
   ],
   "source": [
    "ax[c]"
   ]
  },
  {
   "cell_type": "code",
   "execution_count": 61,
   "metadata": {},
   "outputs": [
    {
     "data": {
      "text/plain": [
       "6.174698332748655e-25j"
      ]
     },
     "execution_count": 61,
     "metadata": {},
     "output_type": "execute_result"
    }
   ],
   "source": [
    "2**(_**_pseudo_index)-1"
   ]
  },
  {
   "cell_type": "code",
   "execution_count": 56,
   "metadata": {},
   "outputs": [
    {
     "data": {
      "text/plain": [
       "2.4029712352349306"
      ]
     },
     "execution_count": 56,
     "metadata": {},
     "output_type": "execute_result"
    }
   ],
   "source": [
    "_pseudo_index"
   ]
  },
  {
   "cell_type": "code",
   "execution_count": 55,
   "metadata": {},
   "outputs": [
    {
     "data": {
      "text/plain": [
       "0.29095804573202555"
      ]
     },
     "execution_count": 55,
     "metadata": {},
     "output_type": "execute_result"
    }
   ],
   "source": [
    "2**(_**_pseudo_index)-1"
   ]
  },
  {
   "cell_type": "code",
   "execution_count": null,
   "metadata": {},
   "outputs": [],
   "source": [
    "plt.colorbar()"
   ]
  },
  {
   "cell_type": "code",
   "execution_count": 60,
   "metadata": {},
   "outputs": [
    {
     "data": {
      "text/plain": [
       "0.6599999999"
      ]
     },
     "execution_count": 60,
     "metadata": {},
     "output_type": "execute_result"
    }
   ],
   "source": [
    "identity/100-1e-10"
   ]
  },
  {
   "cell_type": "code",
   "execution_count": 61,
   "metadata": {},
   "outputs": [
    {
     "data": {
      "text/plain": [
       "(0.3411764705882353, 0.9948327566320646, 0.6731718569780853, 1.0)"
      ]
     },
     "execution_count": 61,
     "metadata": {},
     "output_type": "execute_result"
    }
   ],
   "source": [
    "palette(identity/100-1e-10)"
   ]
  },
  {
   "cell_type": "code",
   "execution_count": 57,
   "metadata": {},
   "outputs": [
    {
     "data": {
      "text/plain": [
       "'KUNV||D00246'"
      ]
     },
     "execution_count": 57,
     "metadata": {},
     "output_type": "execute_result"
    }
   ],
   "source": [
    "i"
   ]
  },
  {
   "cell_type": "code",
   "execution_count": null,
   "metadata": {},
   "outputs": [],
   "source": [
    "# tmp nido palette\n",
    "coloring = {\n",
    " 'orf1a': ['bCoV_NSP1', 'CoV_NSP2_N', 'CoV_NSP2_C',\n",
    "           'bCoV_NSP3_N', 'Macro', 'bCoV_SUD_M', 'bCoV_SUD_C', \n",
    "           'CoV_peptidase', 'bCoV_NAR',  'CoV_NSP3_C', \n",
    "           'CoV_NSP4_N', 'CoV_NSP4_C', 'Peptidase_C30', \n",
    "           'CoV_NSP6', 'CoV_NSP7', \n",
    "           'CoV_NSP8', 'CoV_NSP9', 'CoV_NSP10'],\n",
    " 'rdrp_helicase': [ 'CoV_RPol_N', 'RdRP_1', 'Viral_helicase1'  ],\n",
    " 'orf1b':         [ 'CoV_Methyltr_1',  'CoV_NSP15_N', 'CoV_NSP15_M',\n",
    "                    'CoV_NSP15_C', 'CoV_Methyltr_2'],\n",
    " '3p_orfs': [       'bCoV_S1_N', 'bCoV_S1_RBD', 'CoV_S1_C',\n",
    "                    'CoV_S2',  'bCoV_viroporin', 'CoV_E', 'CoV_M', \n",
    "                    'bCoV_NS6', 'bCoV_NS7A', 'bCoV_NS7B', 'bCoV_NS8', \n",
    "                    'bCoV_lipid_BD', 'CoV_nucleocap','bCoV_Orf14']\n",
    "}\n",
    "inv_coloring  = dict([(y,x) for x in coloring for y in coloring[x]])\n",
    "dpalette = dict()\n",
    "all_names = set([x for x in inv_coloring])\n",
    "for region in coloring:\n",
    "    #region_color = {'orf1a': 'BuPu', 'rdrp_helicase': 'Greens', 'orf1b': 'GnBu', '3p_orfs': 'Greys'}[region]\n",
    "    #palette = sns.color_palette(region_color, len(coloring[region]) + offset_color)\n",
    "    region_color, additional_length, offset_color = {'orf1a': ('cubehelix',20,10), 'rdrp_helicase': ('Greens',10,5), 'orf1b': ('BrBG',30,30), '3p_orfs': ('Greys',10,7)}[region]\n",
    "    palette = sns.color_palette(region_color, len(coloring[region]) + additional_length)\n",
    "    if region == 'orf1a': palette = palette[::-1]\n",
    "    for i,name in enumerate(coloring[region]):\n",
    "        dpalette[name] = palette[offset_color+i] \n",
    "\n",
    "# some manual palette fixes\n",
    "dpalette['Macro'] = \"#d42065\"\n",
    "dpalette['Peptidase_C30'] = \"#c2da29\"\n",
    "dpalette['RdRP_1'] = \"#23d32a\"\n",
    "\n",
    "nido_exclusives=[]\n",
    "for i in domains['domain_annotation'].apply(lambda x:x.split(':')[0]).unique():\n",
    "    if i not in dpalette:\n",
    "        nido_exclusives.append(i)\n",
    "nidopalette = sns.color_palette('YlGnBu', len(nido_exclusives))"
   ]
  }
 ],
 "metadata": {
  "kernelspec": {
   "display_name": "Python 3",
   "language": "python",
   "name": "python3"
  },
  "language_info": {
   "codemirror_mode": {
    "name": "ipython",
    "version": 3
   },
   "file_extension": ".py",
   "mimetype": "text/x-python",
   "name": "python",
   "nbconvert_exporter": "python",
   "pygments_lexer": "ipython3",
   "version": "3.11.6"
  }
 },
 "nbformat": 4,
 "nbformat_minor": 2
}
