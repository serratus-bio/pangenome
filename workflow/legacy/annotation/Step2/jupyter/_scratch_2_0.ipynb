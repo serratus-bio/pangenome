{
 "cells": [
  {
   "cell_type": "code",
   "execution_count": 1,
   "metadata": {},
   "outputs": [],
   "source": [
    "import pandas as pd\n",
    "def parse_diamond(matchfile:str)->pd.DataFrame:\n",
    "    '''\n",
    "    matchfile:\n",
    "        output of diamond blastp\n",
    "        with '--header', 'verbose', \n",
    "        and 'tsv' suffix\n",
    "    '''\n",
    "    head_lines=open(matchfile,'r').readlines()[2].strip().split(': ')[1]\n",
    "    diamond_aligns=pd.read_csv(matchfile,skiprows=3,names=head_lines.split(', '),delim_whitespace=True)\n",
    "    return diamond_aligns"
   ]
  },
  {
   "cell_type": "code",
   "execution_count": 2,
   "metadata": {},
   "outputs": [],
   "source": [
    "from pathlib import Path\n",
    "o_dict={}\n",
    "_={}\n",
    "_['domain'],_['virus'],_['identity']=[],[],[]\n",
    "for i in Path('cov19-hits').iterdir():\n",
    "    if i.suffix=='.tsv':\n",
    "        stem=i.stem.replace('-match','')\n",
    "        diamond=parse_diamond(i.absolute())\n",
    "        o_dict[stem]={i:j for i,j in zip(diamond['Subject ID'],diamond['Percentage of identical matches'])}\n",
    "        for idx,s in diamond.iterrows():\n",
    "            _['domain'].append(stem)\n",
    "            _['virus'].append(s['Subject ID'])\n",
    "            _['identity'].append(s['Percentage of identical matches'])\n",
    "        "
   ]
  },
  {
   "cell_type": "code",
   "execution_count": 3,
   "metadata": {},
   "outputs": [
    {
     "data": {
      "text/plain": [
       "Index(['domain', 'virus', 'identity'], dtype='object')"
      ]
     },
     "execution_count": 3,
     "metadata": {},
     "output_type": "execute_result"
    }
   ],
   "source": [
    "identities=pd.DataFrame(_)\n",
    "identities.columns"
   ]
  },
  {
   "cell_type": "code",
   "execution_count": 4,
   "metadata": {},
   "outputs": [],
   "source": [
    "annotations=pd.read_csv('accession-annotation.csv',index_col='accession')"
   ]
  },
  {
   "cell_type": "code",
   "execution_count": 42,
   "metadata": {},
   "outputs": [],
   "source": [
    "from sklearn.linear_model import LinearRegression\n",
    "import numpy as np\n",
    "def get_lr(x,y,refx=np.linspace(1,100,100)):\n",
    "    lr=LinearRegression()\n",
    "    x_=np.array(x).reshape(-1,1)\n",
    "    y_=np.array(y).reshape(-1,1)\n",
    "    reg=lr.fit(X=x_,y=y_)\n",
    "    r2=reg.score(x_,y_)\n",
    "    coef=reg.coef_[0][0]\n",
    "    intercept=reg.intercept_[0]\n",
    "    \n",
    "    predy=reg.predict(refx.reshape(-1,1))\n",
    "    sel=(predy>0) & (predy<100)\n",
    "    \n",
    "    reg_x=refx[sel.reshape(-1)].reshape(-1)\n",
    "    reg_y=predy[sel].reshape(-1)\n",
    "    \n",
    "    return (\n",
    "        coef,intercept,r2,\n",
    "        reg_x,reg_y,\n",
    "    )\n",
    "# plt.plot(refx[sel.reshape(-1)].reshape(-1),predy[sel].reshape(-1))"
   ]
  },
  {
   "cell_type": "code",
   "execution_count": 44,
   "metadata": {},
   "outputs": [],
   "source": [
    "d:dict\n",
    "import matplotlib.pyplot as plt\n",
    "from typing import List\n",
    "from matplotlib.backends.backend_pdf import PdfPages\n",
    "from matplotlib.axes import Axes\n",
    "import numpy as np\n",
    "refx=refy=np.linspace(1,100,100)\n",
    "\n",
    "per_page=2\n",
    "with PdfPages('tmp1.pdf') as pdf:\n",
    "    count=0\n",
    "    fig,axs=plt.subplots(per_page,1,figsize=(10,10.5*per_page))\n",
    "    axs:List[Axes]\n",
    "    \n",
    "    for accession,d in o_dict.items():\n",
    "        if accession!='PF00680':\n",
    "            x,y=[],[]\n",
    "            for k in d.keys():\n",
    "                if k !='SARS-CoV-2||MN908947':\n",
    "                    r=o_dict['PF00680'].get(k,None)\n",
    "                    if r is not None:\n",
    "                        x.append(r)\n",
    "                        y.append(d[k])\n",
    "            (coef,intercept,\n",
    "             r2,reg_x,reg_y)=get_lr(x+[100.],y+[100.])\n",
    "            #for better regression\n",
    "            axs[count].scatter(x,y)\n",
    "            axs[count].plot(refx,refy,'--',color='grey')\n",
    "            axs[count].plot(reg_x,reg_y,'--',color='red')\n",
    "            axs[count].set_xlim(0,100)\n",
    "            axs[count].set_ylim(0,100)\n",
    "            annot=annotations['annotation'].loc[accession]\n",
    "            axs[count].set_title(f'{accession}:{annot}')\n",
    "            s=(f'annot: {annot}\\n'\n",
    "               f'coef:{coef:.1f}\\n'\n",
    "               f'R^2:{r2:.2f}\\n'\n",
    "               f'freq:{len(x)}\\n'\n",
    "               f'intercept:{intercept:.1f}'\n",
    "               )\n",
    "            axs[count].text(x=5,y=80,s=s,fontsize=12)\n",
    "            axs[count].set_aspect(1,'box')\n",
    "            count+=1\n",
    "            if count==per_page:\n",
    "                count=0\n",
    "                plt.tight_layout()\n",
    "                pdf.savefig(fig)\n",
    "                plt.close(fig)\n",
    "                fig,axs=plt.subplots(per_page,1,figsize=(10,10.5*per_page))\n",
    "                axs:List[Axes]\n",
    "    if count!=0:\n",
    "        while count <per_page:\n",
    "            axs[count].set_axis_off()\n",
    "            count+=1\n",
    "        pdf.savefig(fig)\n",
    "    plt.close(fig)\n",
    "                # break"
   ]
  },
  {
   "cell_type": "code",
   "execution_count": 41,
   "metadata": {},
   "outputs": [
    {
     "data": {
      "text/plain": [
       "(array([ 51.,  52.,  53.,  54.,  55.,  56.,  57.,  58.,  59.,  60.,  61.,\n",
       "         62.,  63.,  64.,  65.,  66.,  67.,  68.,  69.,  70.,  71.,  72.,\n",
       "         73.,  74.,  75.,  76.,  77.,  78.,  79.,  80.,  81.,  82.,  83.,\n",
       "         84.,  85.,  86.,  87.,  88.,  89.,  90.,  91.,  92.,  93.,  94.,\n",
       "         95.,  96.,  97.,  98.,  99., 100.]),)"
      ]
     },
     "execution_count": 41,
     "metadata": {},
     "output_type": "execute_result"
    }
   ],
   "source": [
    "reg_x"
   ]
  },
  {
   "cell_type": "code",
   "execution_count": 30,
   "metadata": {},
   "outputs": [
    {
     "data": {
      "text/plain": [
       "0.9805329050584959"
      ]
     },
     "execution_count": 30,
     "metadata": {},
     "output_type": "execute_result"
    }
   ],
   "source": [
    "lr=LinearRegression()\n",
    "x_=np.array(x).reshape(-1,1)\n",
    "y_=np.array(y).reshape(-1,1)\n",
    "reg=lr.fit(X=x_,y=y_)\n",
    "reg.score(x_,y_)"
   ]
  },
  {
   "cell_type": "code",
   "execution_count": 33,
   "metadata": {},
   "outputs": [
    {
     "data": {
      "text/plain": [
       "10.312522297538342"
      ]
     },
     "execution_count": 33,
     "metadata": {},
     "output_type": "execute_result"
    }
   ],
   "source": [
    "\n",
    "\n",
    "reg.coef_[0][0]"
   ]
  },
  {
   "cell_type": "code",
   "execution_count": 35,
   "metadata": {},
   "outputs": [
    {
     "data": {
      "text/plain": [
       "-930.8412415269345"
      ]
     },
     "execution_count": 35,
     "metadata": {},
     "output_type": "execute_result"
    }
   ],
   "source": [
    "reg.intercept_[0]"
   ]
  },
  {
   "cell_type": "code",
   "execution_count": 17,
   "metadata": {},
   "outputs": [
    {
     "data": {
      "text/plain": [
       "([100.0, 97.1, 97.1, 96.7], [100.0, 72.2, 72.2, 63.4])"
      ]
     },
     "execution_count": 17,
     "metadata": {},
     "output_type": "execute_result"
    }
   ],
   "source": [
    "x,y"
   ]
  },
  {
   "cell_type": "code",
   "execution_count": null,
   "metadata": {},
   "outputs": [],
   "source": []
  }
 ],
 "metadata": {
  "kernelspec": {
   "display_name": "Python 3",
   "language": "python",
   "name": "python3"
  },
  "language_info": {
   "codemirror_mode": {
    "name": "ipython",
    "version": 3
   },
   "file_extension": ".py",
   "mimetype": "text/x-python",
   "name": "python",
   "nbconvert_exporter": "python",
   "pygments_lexer": "ipython3",
   "version": "3.11.6"
  }
 },
 "nbformat": 4,
 "nbformat_minor": 2
}
