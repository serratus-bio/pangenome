{
 "cells": [
  {
   "cell_type": "markdown",
   "metadata": {},
   "source": [
    "Every CoV2 domain summary fasta"
   ]
  },
  {
   "cell_type": "code",
   "execution_count": 1,
   "metadata": {},
   "outputs": [
    {
     "data": {
      "text/plain": [
       "Index(['genome_name', 'genome_length', 'domain_accession', 'strand', 'start',\n",
       "       'end', 'hmmStart', 'hmmEnd', 'evalue', 'domain_annotation'],\n",
       "      dtype='object')"
      ]
     },
     "execution_count": 1,
     "metadata": {},
     "output_type": "execute_result"
    }
   ],
   "source": [
    "import pandas as pd\n",
    "domains=pd.read_csv('nido-domains.csv')\n",
    "domains.columns"
   ]
  },
  {
   "cell_type": "markdown",
   "metadata": {},
   "source": [
    "(entry name for cov19:SARS-CoV-2||MN908947)\n",
    "\n",
    "(entry for rdrp: PF00680)"
   ]
  },
  {
   "cell_type": "code",
   "execution_count": 2,
   "metadata": {},
   "outputs": [],
   "source": [
    "used_domain=domains[domains['genome_name']=='SARS-CoV-2||MN908947']['domain_accession']"
   ]
  },
  {
   "cell_type": "code",
   "execution_count": 5,
   "metadata": {},
   "outputs": [],
   "source": [
    "from glob import glob\n",
    "from typing import Generator,Tuple\n",
    "import json\n",
    "\n",
    "def iter_match(genome_dict:dict)->Generator[Tuple[dict,dict],None,None]:\n",
    "    '''\n",
    "    same itermath as `extract_domains.py`\n",
    "    put here for convienience\n",
    "    '''\n",
    "    for orf in genome_dict['results'][0]['openReadingFrames']:\n",
    "        for match in orf['protein']['matches']:\n",
    "            yield (orf,match)\n",
    "\n",
    "\n",
    "def get_fasta(accession:str='PF00680',file_limit='nido_subset/*:genome.json'):\n",
    "    '''\n",
    "    cleansing needed\n",
    "    '''\n",
    "    o=[]\n",
    "    o_dict={}\n",
    "    b=0\n",
    "    for gfile in glob(file_limit):\n",
    "        # print('\\n\\n##'+gfile.split('/')[1].replace(':genome.json',''))\n",
    "        genome_name=gfile.split('/')[1].replace(':genome.json','')\n",
    "        genome_dict=json.load(open(gfile))\n",
    "        genome_length=len(genome_dict['results'][0]['sequence'])\n",
    "        for orf,match in iter_match(genome_dict):\n",
    "            if match['signature']['accession']== accession:\n",
    "                seq=orf['protein']['sequence']\n",
    "                if len(match['locations'])==1:\n",
    "                    _=match['locations'][0]\n",
    "                    b,e=_['start'],_['end']\n",
    "                    rdrp_seq=seq[b:e]\n",
    "                    rdrp_name=genome_name\n",
    "                    o.append(f'>{rdrp_name}\\n{rdrp_seq}')\n",
    "                    o_dict[rdrp_name]=rdrp_seq\n",
    "                else:\n",
    "                    for i,_ in enumerate(match['locations']):\n",
    "                        b,e=_['start'],_['end']\n",
    "                        rdrp_seq=seq[b:e]\n",
    "                        rdrp_name=genome_name+'#'+str(i)\n",
    "                        o.append(f'>{rdrp_name}\\n{rdrp_seq}')\n",
    "                        o_dict[rdrp_name]=rdrp_seq\n",
    "    return o_dict,o"
   ]
  },
  {
   "cell_type": "code",
   "execution_count": 8,
   "metadata": {},
   "outputs": [],
   "source": [
    "o={}\n",
    "for i in used_domain:\n",
    "    o[i]=get_fasta(i,'nido_subset/SARS-CoV-2||MN908947:genome.json')[0]\n",
    "for k,v in o.items():\n",
    "    with open(f'cov19-hits/{k}-cov2.fasta','w') as f:\n",
    "        fastas='\\n'.join([f'>{k1}\\n{v1}' for k1,v1 in v.items()])\n",
    "        f.write(fastas)"
   ]
  },
  {
   "cell_type": "code",
   "execution_count": 5,
   "metadata": {},
   "outputs": [],
   "source": [
    "o={}\n",
    "for i in used_domain:\n",
    "    o[i]=get_fasta(i)[0]\n",
    "for k,v in o.items():\n",
    "    with open(f'cov19-hits/{k}.fasta','w') as f:\n",
    "        fastas='\\n'.join([f'>{k1}\\n{v1}' for k1,v1 in v.items()])\n",
    "        f.write(fastas)"
   ]
  }
 ],
 "metadata": {
  "kernelspec": {
   "display_name": "Python 3",
   "language": "python",
   "name": "python3"
  },
  "language_info": {
   "codemirror_mode": {
    "name": "ipython",
    "version": 3
   },
   "file_extension": ".py",
   "mimetype": "text/x-python",
   "name": "python",
   "nbconvert_exporter": "python",
   "pygments_lexer": "ipython3",
   "version": "3.11.6"
  }
 },
 "nbformat": 4,
 "nbformat_minor": 2
}
