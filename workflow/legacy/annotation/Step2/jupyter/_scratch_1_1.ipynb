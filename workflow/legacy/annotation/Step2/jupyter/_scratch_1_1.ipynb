{
 "cells": [
  {
   "cell_type": "code",
   "execution_count": 1,
   "metadata": {},
   "outputs": [
    {
     "data": {
      "text/plain": [
       "Index(['genome_name', 'genome_length', 'domain_accession', 'strand', 'start',\n",
       "       'end', 'hmmStart', 'hmmEnd', 'evalue', 'domain_annotation'],\n",
       "      dtype='object')"
      ]
     },
     "execution_count": 1,
     "metadata": {},
     "output_type": "execute_result"
    }
   ],
   "source": [
    "import pandas as pd\n",
    "domains=pd.read_csv('nido-domains.csv')\n",
    "domains.columns"
   ]
  },
  {
   "cell_type": "code",
   "execution_count": 13,
   "metadata": {},
   "outputs": [],
   "source": [
    "# from glob import glob\n",
    "from subprocess import run,PIPE\n",
    "from pathlib import Path\n",
    "for i in Path('cov19-hits').iterdir():\n",
    "    stem=i.stem\n",
    "    if '-cov2' not in stem and i.suffix=='.fasta':\n",
    "        _=run(['./diamond',\n",
    "                'makedb',\n",
    "                '--in',\n",
    "                str(i),\n",
    "                '-d',\n",
    "                str(i.with_name(f'{stem}-reference'))],\n",
    "                stdout=PIPE,\n",
    "                stderr=PIPE)\n",
    "        _=run(['./diamond','blastp',\n",
    "               '-d',str(i.with_name(f'{stem}-reference')),\n",
    "                '-q',str(i.with_name(f'{stem}-cov2.fasta')),\n",
    "                '-o',str(i.with_name(f'{stem}-match.tsv')),\n",
    "                '--id', '0' ,\n",
    "                '--max-target-seqs', '300', \n",
    "                '--header', 'verbose', \n",
    "                '--min-score', '0', \n",
    "                '--query-cover', '0', \n",
    "                '--subject-cover', '0', \n",
    "                '--evalue','1'],\n",
    "                stdout=PIPE,\n",
    "                stderr=PIPE)\n",
    "        \n",
    "    "
   ]
  },
  {
   "cell_type": "code",
   "execution_count": 8,
   "metadata": {},
   "outputs": [],
   "source": [
    "# a code snipps to get output of `run` in variable\n",
    "\n",
    "_=run(['ls','Step1'], stdout=PIPE)\n",
    "output = _.stdout\n",
    "# print(output.decode())"
   ]
  },
  {
   "cell_type": "code",
   "execution_count": null,
   "metadata": {},
   "outputs": [],
   "source": []
  }
 ],
 "metadata": {
  "kernelspec": {
   "display_name": "Python 3",
   "language": "python",
   "name": "python3"
  },
  "language_info": {
   "codemirror_mode": {
    "name": "ipython",
    "version": 3
   },
   "file_extension": ".py",
   "mimetype": "text/x-python",
   "name": "python",
   "nbconvert_exporter": "python",
   "pygments_lexer": "ipython3",
   "version": "3.11.6"
  }
 },
 "nbformat": 4,
 "nbformat_minor": 2
}
