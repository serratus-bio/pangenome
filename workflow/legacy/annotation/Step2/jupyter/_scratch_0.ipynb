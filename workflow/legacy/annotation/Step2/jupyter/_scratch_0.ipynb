{
 "cells": [
  {
   "cell_type": "markdown",
   "metadata": {},
   "source": [
    "Useless tmp codes\n",
    "\n",
    "Most of the time deals with filetrees"
   ]
  },
  {
   "cell_type": "markdown",
   "metadata": {},
   "source": [
    "renew nido_subset from soft link to hard copy"
   ]
  },
  {
   "cell_type": "code",
   "execution_count": 1,
   "metadata": {},
   "outputs": [],
   "source": [
    "nidos=open('Step1/data/nido-fetch_names.list','r').readlines()"
   ]
  },
  {
   "cell_type": "code",
   "execution_count": 4,
   "metadata": {},
   "outputs": [],
   "source": [
    "from pathlib import Path\n",
    "import shutil\n",
    "pdir=Path('scan_result/')\n",
    "odir=Path('nido_subset')\n",
    "for i in nidos:\n",
    "    i=i.strip()\n",
    "    f=pdir/i\n",
    "    o=odir/i\n",
    "    shutil.copy(f.absolute(),o.absolute())"
   ]
  },
  {
   "cell_type": "markdown",
   "metadata": {},
   "source": [
    "access-des pairs"
   ]
  },
  {
   "cell_type": "code",
   "execution_count": 3,
   "metadata": {},
   "outputs": [],
   "source": [
    "import pandas as pd\n",
    "domains=pd.read_csv('nido-domains.csv')\n",
    "o_dict={}\n",
    "o_dict['accession'],o_dict['annotation']=[],[]\n",
    "for accession in domains['domain_accession'].unique():\n",
    "    annot=domains[domains['domain_accession']==accession].iloc[0]['domain_annotation']\n",
    "    o_dict['accession'].append(accession)\n",
    "    o_dict['annotation'].append(annot)\n",
    "    \n",
    "o_df=pd.DataFrame(o_dict)"
   ]
  },
  {
   "cell_type": "code",
   "execution_count": 5,
   "metadata": {},
   "outputs": [],
   "source": [
    "o_df.to_csv('accession-annotation.csv',index=False)"
   ]
  }
 ],
 "metadata": {
  "kernelspec": {
   "display_name": "Python 3",
   "language": "python",
   "name": "python3"
  },
  "language_info": {
   "codemirror_mode": {
    "name": "ipython",
    "version": 3
   },
   "file_extension": ".py",
   "mimetype": "text/x-python",
   "name": "python",
   "nbconvert_exporter": "python",
   "pygments_lexer": "ipython3",
   "version": "3.11.6"
  }
 },
 "nbformat": 4,
 "nbformat_minor": 2
}
