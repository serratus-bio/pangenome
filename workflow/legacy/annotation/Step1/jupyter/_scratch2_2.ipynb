{
 "cells": [
  {
   "cell_type": "markdown",
   "metadata": {},
   "source": [
    "generate sub.sh\n",
    "done"
   ]
  },
  {
   "cell_type": "markdown",
   "metadata": {},
   "source": [
    "conda activate interproscan\n",
    "$interproscan -appl Pfam -i \"AbV2||KY357507.fasta\" -f JSON -b test_out -t n"
   ]
  },
  {
   "cell_type": "code",
   "execution_count": 1,
   "metadata": {},
   "outputs": [],
   "source": [
    "head='''#!/usr/bin/env bash\n",
    "source \"/home/hugheslab1/zfdeng/miniconda3/etc/profile.d/conda.sh\"\n",
    "conda init\n",
    "conda activate interproscan\n",
    "\n",
    "workdir=`pwd`\n",
    "'''\n",
    "workdir='/home/hugheslab1/zfdeng/pangenome'\n",
    "single_line='''source $interproscan -appl Pfam,AntiFam,ProSiteProfiles  -i \"genome_fasta/{stem}.fasta\" -f JSON -b \"scan_result/{stem}\" -t {type} -cpu 4; cd $workdir'''"
   ]
  },
  {
   "cell_type": "code",
   "execution_count": 2,
   "metadata": {},
   "outputs": [],
   "source": [
    "from pathlib import Path"
   ]
  },
  {
   "cell_type": "code",
   "execution_count": 3,
   "metadata": {},
   "outputs": [],
   "source": [
    "tasknum=40\n",
    "files=[]\n",
    "for i in range(tasknum):\n",
    "    files.append([head])\n",
    "m=0\n",
    "for meta in Path('genome_fasta/').iterdir():\n",
    "    stem=meta.stem\n",
    "    o=Path('scan_result')/(stem+'.json')\n",
    "    if not o.is_file():\n",
    "        t='n' if stem.endswith('genome') else 'p'\n",
    "        line=single_line.format(stem=stem,type=t)\n",
    "        _=(m%tasknum)\n",
    "        files[_].append(line)\n",
    "        m+=1"
   ]
  },
  {
   "cell_type": "code",
   "execution_count": 4,
   "metadata": {},
   "outputs": [
    {
     "data": {
      "text/plain": [
       "326"
      ]
     },
     "execution_count": 4,
     "metadata": {},
     "output_type": "execute_result"
    }
   ],
   "source": [
    "len(files[0])"
   ]
  },
  {
   "cell_type": "code",
   "execution_count": 43,
   "metadata": {},
   "outputs": [],
   "source": [
    "for i in range(tasknum):\n",
    "    print('\\n'.join(files[i]),file=open(f'cluster_scripts/continue_run/subtask{i}.sh','w'))"
   ]
  },
  {
   "cell_type": "code",
   "execution_count": 40,
   "metadata": {},
   "outputs": [
    {
     "data": {
      "text/plain": [
       "26.666666666666668"
      ]
     },
     "execution_count": 40,
     "metadata": {},
     "output_type": "execute_result"
    }
   ],
   "source": [
    "16000*2/60/20"
   ]
  },
  {
   "cell_type": "code",
   "execution_count": 21,
   "metadata": {},
   "outputs": [
    {
     "name": "stdout",
     "output_type": "stream",
     "text": [
      "#!/usr/bin/env bash\n",
      "# source \"/home/hugheslab1/zfdeng/miniconda3/etc/profile.d/conda.sh\"\n",
      "# conda init\n",
      "# conda activate interproscan\n",
      "\n",
      "source $interproscan -appl Pfam,AntiFam,ProSiteProfiles  -i \"genome_fasta/CspRNAV2||AB639040:segs.fasta\" -f JSON -b \"scan_result/CspRNAV2||AB639040:segs\" -t p -cpu 8\n",
      "source $interproscan -appl Pfam,AntiFam,ProSiteProfiles  -i \"genome_fasta/MdRV-N|L1|JX478260:genome.fasta\" -f JSON -b \"scan_result/MdRV-N|L1|JX478260:genome\" -t n -cpu 8\n",
      "source $interproscan -appl Pfam,AntiFam,ProSiteProfiles  -i \"genome_fasta/PelRSV||AY038068:genome.fasta\" -f JSON -b \"scan_result/PelRSV||AY038068:genome\" -t n -cpu 8\n"
     ]
    }
   ],
   "source": [
    "print('\\n'.join(files[1]))"
   ]
  },
  {
   "cell_type": "code",
   "execution_count": 2,
   "metadata": {},
   "outputs": [
    {
     "data": {
      "text/plain": [
       "'source $interproscan -appl Pfam,AntiFam,ProSiteProfiles  -i \"genome_fasta/aaa.fasta\" -f JSON -b scan_result/aaa.json -cpu 8 &'"
      ]
     },
     "execution_count": 2,
     "metadata": {},
     "output_type": "execute_result"
    }
   ],
   "source": [
    "\n",
    "single_line.format(stem='aaa')"
   ]
  }
 ],
 "metadata": {
  "kernelspec": {
   "display_name": "rdrp",
   "language": "python",
   "name": "python3"
  },
  "language_info": {
   "codemirror_mode": {
    "name": "ipython",
    "version": 3
   },
   "file_extension": ".py",
   "mimetype": "text/x-python",
   "name": "python",
   "nbconvert_exporter": "python",
   "pygments_lexer": "ipython3",
   "version": "3.11.6"
  }
 },
 "nbformat": 4,
 "nbformat_minor": 2
}
