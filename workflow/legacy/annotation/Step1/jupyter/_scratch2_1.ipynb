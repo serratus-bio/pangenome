{
 "cells": [
  {
   "cell_type": "markdown",
   "metadata": {},
   "source": [
    "fetch sum_hex and genbank meta\n",
    "done"
   ]
  },
  {
   "cell_type": "code",
   "execution_count": 1,
   "metadata": {},
   "outputs": [],
   "source": [
    "import pickle as pkl"
   ]
  },
  {
   "cell_type": "code",
   "execution_count": 2,
   "metadata": {},
   "outputs": [],
   "source": [
    "def fetch_seq(f:str)->str:\n",
    "    gb:dict=pkl.load(open(f,'rb'))\n",
    "    seq:str=gb['GBSet']['GBSeq']['GBSeq_sequence']\n",
    "    return seq"
   ]
  },
  {
   "cell_type": "code",
   "execution_count": 3,
   "metadata": {},
   "outputs": [],
   "source": [
    "print(fetch_seq('genbank_meta/AbV2||KY357507.pkl'),file=open('AbV2||KY357507.fasta','a'))"
   ]
  },
  {
   "cell_type": "code",
   "execution_count": 3,
   "metadata": {},
   "outputs": [],
   "source": [
    "genome_seq=fetch_seq('genbank_meta/AbV2||KY357507.pkl')"
   ]
  },
  {
   "cell_type": "code",
   "execution_count": 4,
   "metadata": {},
   "outputs": [],
   "source": [
    "hexd=pkl.load(open('sum_hex.pkl','rb'))\n"
   ]
  },
  {
   "cell_type": "code",
   "execution_count": 5,
   "metadata": {},
   "outputs": [],
   "source": [
    "from typing import List,Tuple\n",
    "ilist:List[str]=hexd['AbV2||KY357507']"
   ]
  },
  {
   "cell_type": "code",
   "execution_count": 42,
   "metadata": {},
   "outputs": [],
   "source": [
    "transannot=['0s','0a','1s','1a','2s','2a']\n",
    "transannot_indice={j:i for i,j in enumerate(transannot)}\n",
    "from typing import Tuple,Dict,Union\n",
    "routine_dict=Dict[str,Union[str,int,float]]\n",
    "def get_genome_length(translist:List[str])->int:\n",
    "    return len(translist[0])\n",
    "\n",
    "def get_valid_seg(translist:List[str],name:str='xx',thresh:int=100)->List[Tuple[routine_dict,str]]:\n",
    "    output=[]\n",
    "    for i,annot in zip(translist,transannot):\n",
    "        b=e=0\n",
    "        for seg in i.split('*'):\n",
    "            e=b+len(seg)\n",
    "            if len(seg)>thresh:\n",
    "                head={'name':name,\n",
    "                      'transannot':annot,\n",
    "                      'prob':b,\n",
    "                      'proe':e}\n",
    "                output.append((head,seg))\n",
    "            b=e+1\n",
    "    return output\n",
    "\n",
    "\n",
    "def scanindice_to_proindice(prob:int,scanb:int,scane:int):\n",
    "    # TODO\n",
    "    delta=0 \n",
    "    return prob+delta+scanb,prob+delta+scane\n",
    "\n",
    "def seg_to_fasta(seg:List[Tuple[routine_dict,str]])->str:\n",
    "    o=[]\n",
    "    for s in seg:\n",
    "       head='> ' + ','.join([f'{k}={v}' for k,v in s[0].items()])\n",
    "       o.extend([head,s[1]])\n",
    "    return '\\n'.join(o)\n",
    "    "
   ]
  },
  {
   "cell_type": "code",
   "execution_count": 35,
   "metadata": {},
   "outputs": [],
   "source": [
    "from typing import Tuple\n",
    "def proindice_to_genindice(genome:str,prob:int,proe:int,transannot:str)->Tuple[int,int]:\n",
    "    frame,direction=transannot\n",
    "    frame=int(frame)\n",
    "    b_,e_=frame+prob*3,frame+proe*3\n",
    "    if direction=='s':\n",
    "        return b_,e_\n",
    "    else:\n",
    "        return len(genome)-e_, len(genome)-b_\n",
    "\n",
    "def genindice_to_proindice(genome:str,genb:int,gene:int,transannot:str)->Tuple[int,int]:\n",
    "    frame,direction=transannot\n",
    "    frame=int(frame)\n",
    "    \n",
    "    if direction=='s':\n",
    "        b_,e_=(genb-frame)//3,(gene-frame)//3\n",
    "        return b_,e_\n",
    "    else:\n",
    "        return (len(genome)-frame-gene)//3,(len(genome)-frame-genb)//3\n",
    "        \n",
    "\n",
    "def genome_annot_indice(genome:str,genb:int,gene:int,transannot:str)->Tuple[int,int]:\n",
    "    'return: genseq segments '\n",
    "    frame,direction=transannot\n",
    "    # frame=int(frame)\n",
    "    o=genome[genb:gene]\n",
    "    o=o if direction=='s' else o[::-1]\n",
    "    return o\n",
    "\n"
   ]
  },
  {
   "cell_type": "code",
   "execution_count": 8,
   "metadata": {},
   "outputs": [],
   "source": [
    "from Bio.Seq import Seq\n",
    "translate= lambda x:Seq(x).translate()._data.decode()\n",
    "import warnings\n",
    "from Bio import BiopythonWarning\n",
    "warnings.simplefilter('ignore', BiopythonWarning)\n",
    "def hextranslate(genome:str)->List[str]:\n",
    "    o=[]\n",
    "    genome_r=genome[::-1]\n",
    "    for i in [0,1,2]:\n",
    "        o.append(translate(genome[i:]))\n",
    "        o.append(translate(genome_r[i:]))\n",
    "    return o"
   ]
  },
  {
   "cell_type": "code",
   "execution_count": 37,
   "metadata": {},
   "outputs": [],
   "source": [
    "def test_seg():\n",
    "    genome=fetch_seq('genbank_meta/AbV2||KY357507.pkl')\n",
    "    t=hextranslate(genome)\n",
    "    segs=get_valid_seg(t,thresh=100)\n",
    "    for o,(head,seq) in enumerate(segs):\n",
    "        prob,proe,annot=head['prob'],head['proe'],head['transannot']\n",
    "        genb,gene=proindice_to_genindice(genome,prob,proe,annot)\n",
    "        assert genindice_to_proindice(genome,genb,gene,annot)==(prob,proe),f'{o},{prob},{proe},{annot}'\n",
    "        assert translate(genome_annot_indice(genome,genb,gene,annot))==seq,f'{o},{prob},{proe},{annot}'\n",
    "    \n",
    "test_seg()"
   ]
  },
  {
   "cell_type": "code",
   "execution_count": null,
   "metadata": {},
   "outputs": [],
   "source": []
  },
  {
   "cell_type": "code",
   "execution_count": 68,
   "metadata": {},
   "outputs": [],
   "source": [
    "from pathlib import Path\n",
    "def gen_fasta():\n",
    "    od=Path('genome_fasta')\n",
    "    for meta in Path('genbank_meta/').iterdir():\n",
    "        s=meta.stem\n",
    "        genseq=fetch_seq(meta)\n",
    "        print(f'> {s}\\n{genseq}',file=open(str(od/(s+':genome.fasta')),'w'))\n",
    "        segs=get_valid_seg(hextranslate(genseq),name=s,thresh=100)\n",
    "        print(len(segs))\n",
    "        print(seg_to_fasta(segs),file=open(str(od/(s+':segs.fasta')),'w'))\n",
    "        break\n",
    "    \n",
    "def tmp_write_meta(meta:Path,od=Path('genome_fasta/')):\n",
    "    s=meta.stem\n",
    "    try:\n",
    "        genseq=fetch_seq(meta)\n",
    "        print(f'> {s}\\n{genseq}',file=open(str(od/(s+':genome.fasta')),'w'))\n",
    "        segs=get_valid_seg(hextranslate(genseq),name=s,thresh=100)\n",
    "        # print(len(segs))\n",
    "        print(seg_to_fasta(segs),file=open(str(od/(s+':segs.fasta')),'w'))\n",
    "    except:\n",
    "        print(s)\n",
    "# gen_fasta()\n",
    "# tmp_write_meta(Path('genbank_meta/AaCV1|dsRNA2|LC350278.pkl'))"
   ]
  },
  {
   "cell_type": "code",
   "execution_count": 69,
   "metadata": {},
   "outputs": [
    {
     "name": "stdout",
     "output_type": "stream",
     "text": [
      "ok\n"
     ]
    }
   ],
   "source": [
    "from multiprocessing import Pool\n",
    "pool=Pool(processes=8)\n",
    "pool.map(tmp_write_meta,Path('genbank_meta/').iterdir())\n",
    "print('ok')"
   ]
  },
  {
   "cell_type": "code",
   "execution_count": 60,
   "metadata": {},
   "outputs": [
    {
     "name": "stdout",
     "output_type": "stream",
     "text": [
      "1\n"
     ]
    }
   ],
   "source": [
    "od=Path('genome_fasta')\n",
    "for meta in Path('genbank_meta/').iterdir():\n",
    "    s=meta.stem\n",
    "    genseq=fetch_seq(meta)\n",
    "    print(f'> {s}\\n{genseq}',file=open(str(od/(s+':genome.fasta')),'w'))\n",
    "    segs=get_valid_seg(hextranslate(genseq),name=s,thresh=100)\n",
    "    print(len(segs))\n",
    "    print(seg_to_fasta(segs),file=open(str(od/(s+':segs.fasta')),'w'))\n",
    "    break"
   ]
  },
  {
   "cell_type": "code",
   "execution_count": 45,
   "metadata": {},
   "outputs": [
    {
     "data": {
      "text/plain": [
       "[({'name': 'AbV2||KY357507', 'transannot': '0s', 'prob': 637, 'proe': 4363},\n",
       "  'ITRIQNLQNYLKGLASGKAKNVDFEALERRVGNSVIYFSTPVVEVGVTLANLKNVISLNEYIVASDDACYHGNPFGRFKKASCGCVKGKDDTFMKILPANWASVVQRAGRVSRTSDGTVIVCGEPEGKRFFRYSPSARGLIEEEIRSLSPMLAQLDCDDGPIHPREEVPIATPSRALVHIPGLGRQTRGHVCKGFQWRVRFLNMKAALERKLDSDDVLVSVAWDEVPIDEEGRVEELEPIGREHGPKDLSPTDITPGFIDDETAEESKPLESTDSLTSIESEEENRGALSRDEDVILNPRRDGTGARVSQAMHKAYCSCDPIYHIFGRMCRSRHSWPGEWIATQMTKSVSAINKTLREMRKGNPLSMRQLKKGEGITNDKCQRSWYDPREKPALASIAATETLGDDWYQPRPRDDSESEVIVTRPVVRELKQAVKDMAQLCKKWATGNKSYFYSVFKSGSLRLDGVKGKGCDMPMAVFWNVALGLLQGETKVLERTMFPKFGSNHRPCGVRSWYEFPVDQELRLYAKAIVYLIERMDDDFLWDAGMIEEDGDDLPEYDPDAILSWFEICEEIFMQLFLENAPLESVIAREDQRRWQSFVGAQFHTRDRKSGRVALTTMVEVNIEKIKSMSGFCYLSFFKRTDRELAKLAVKLGIWPRAEAVIREMPETMLQVDSRKRFTHAVETPVVRLPRNAQRVGGSLKPQGTAVKTFKGTKMEWRAEWSHRLQSLGIPEHVWNKHGIWVQLDCCGQEITEQDLVLAENDEVYIVYNKKSKFNNLNWISKKHSISQPPLPFLQTRGYPLNATLPYHAHGAVICRPLDNKPLGLVSFPNQVLNFNESLYLTLAAKNRRAAHLSSKTQPKDIRCKYCRSWGWPSEDVGVCESCAGLKKFPMSIQRNERALAAYRLIQTQLNKIRTLDNYFLDGTVGFPSLPVVWIPEDMGKTCLWKAYPNTFAVQTHAREAPWDAPFRELEVILTGRVLLASTSRQIPLRSAVSLGATGWIGPQVVSHHGNDWFQQRVALERYGVAIKMFTNPADFVAYALSLAANCVKVPKMQIGYACVKCGSELAVPSVVPIAAFVPPCPCGNGRIEFTRGSSNSADAKNTMVSLVPLRKMREIEVATIEKVWGPFERLTNNKEMPDRTNPVAWDGLIDVSPVWWEENGVGGEGKTFDVGVSMKAAIRTLIISSSILITVIIMRVGFKRSVTFLLFGLALLISFCILVRRILQDFNPFPSKINDSELLSSSEQPEPVGNQVALIPVSQRFLISTYGTRGDHTPMMYYARLAASLGVPTHVWRIHSATHHELEDLKKGKFWGFLPDYVDLAFSRWRGYKYVFQPHVPITTSGESYSLSPSWRWIRSIKYGGNRTLLAQFVSALAYTFLPHWRIGCLPDSDLPRSADGQSLIEKRENTGEFEMGWCCGSASESVIPDWIKENYPRITSEDHQNEFPKYKRIACHGGAGTEDMKGMCGVARLREDVMDKELDRDYIAPSIPQSLHSNKSPLPFVGMLVNAGFTVNLPLRVRLLALVAYWCHHITSSTFTTLVNLLRAYLLITFAINHYGVLILLALSFPYLLMMAGTKPVRSKLWPLLDLLFKWPMLIIFPSMWTMILLAALVGEVIPKTLLEIQNWFKKRTSIVIERTQGMPLPFGHMTLKDNVTGRTFEGSFRRNDGFGEQFGWLQHTALSGRKRKIGPTDPVLATGLAGLGYVGASLSYAVAVATLSPLHFLTGTSLALIATGVLFEPLLTGGEDDQAVTRLEIPVPFMPDALEEAIKKVNAEHPEGFAYSPWFNCHTLVIRQLLDTSFFMTLPLIVIYILSLLVLIPGHWASIIARKTGLVICGVDVNELMARAQIRAAFAATTYGDEEEEEEAIGNDTTDTSDGTEGDTEECYALENDLEEVVEVMAKIALLSESGDDEEAEYNLSRAESRHASLIALHNWVAEAEWPPPAVKARIVELTPNPESPYKKGSSTATAIVSIQRALAHIAEVLGSKTGVGAALRTAKMFADVLSTRLAKLWNYECQLFGALLQLGEILVEVSYALFKILSEAVFMFLETILDPEDAKRLKAVWAFAGIGKTPLVSVRRRIENNTVWAKHGVRPDFIQAFTTLLEELNEKEKLRGLDPTPMVPQFRPVRIGKPVLTREQAELLGFAEHDYIKDEPLETRVGKFRDAGVPPSADTVYKTYDPSYLSSSGSRYSPQYEPITQEDRLLAQQIADEFVSRFPSTFTNMEVSTFGEVAAYYKTAYAAGSPWISIYRRRQEVADSGKLEALFDLALDKLEHGNYPTMFHKAFIKSAVVDIQKVINENKNVRTVVAEELLTYFMNQALELERNKRHDWLNTGVGIGMVMNQTMVQLFNNLNKTRAEGAILAGLDAHEYDSTTRPFTYEVLGRLAERGYENHPNGANLASVLKAKYDSLQHSFIFLETMPNYMSSLSLIIPDGNTREEVLRSTLGKTISAAELNHYAQEVRYGHESKFDLKHEIHELYKSKIIIAANEEELVYRGLGGREHTIYLSPLWAQFERQKVTSWDERKHIESGMTIEQMVARVHALFEHKDVAYNVVHKNRGGGTGENATSFDNTWGFKAAFVAAWCRYHDYKYSPKDFFDQGNQIYNTGDDTATALKAKKNEFDREKFIECMKYYGPEVDFDFFQDIREVEYLGKGVKRPSIRDRKELEGWQKITVRTQLQRAQRAQPPRIPEWIVYQRTRQSWIRQSSNRYYQNTAVGRRWLHANLQKQAGTAPIAVFNRQLWYGLANNYIEDSTRLAEFYGVKDFKAFIDKDQDDLPYIHFQYRKPEEINALSRRYQFHVWLTQSAKFPSYARSLKQALQVDTHDTKKEHEAFLVRIRMKGNSKRARLAIITDDFTDWFYSIPREFYKMSPNLLSTYPDEPWYTENKILEKFVYSCNPEAAATKEGLTTLLQRSPYGSVAAADGFYEELTSSPEFTEEILNPTKAKDINYFNSPARIWGNLVGMITFMYGLTWYFEKKISAVPVLGLMYSLFMFTLFDLPRFYSLANNIYWHAKGDSSPTISAMMPKDPYIWPKKLATTFLDIIYSFLNSTKHGYLLGLMPGAYDIATLLARGTESVSAWLTTNKKLSKLSGNQPYPNVFEPLVETKRGRFQNALDSGLPIVLTAETGLGKSSIFPYALFSRSVTHERLRKTVGSGGRIIISFPRIVLREKWNSDFDSSKYPVQRLKRDVKLDANTKIILGTDGHILRRLEAGAFTEKDVFLLDEFHELGAAKLALAGELIKLKYLTVLLSATPRSLPFEASFVDLGLPARFRRTIHVREDSPLNNYLWAREIYPEQAKSAIIKLTTLRELDEVADALSYLNIKCHKLSRATADDEIPEDALIISTDIISAGVSIPGRHMLISNGKHITNHQNNLTYEPTDANTEHQIASRVGRYSKGDIVVRPKCAGTGRVVEQYPDLGYLAYDIIAKHHKLPKLVVGPIRSGYFRVDGFNYIQVKKSVQPQLCNAWALLACLATLGISKNDLARNYSDCLKGRFAEELVPLKAILRKYPTTVPFHFAYPSFLNPGCVAYTFEGDRELIKAPIADMAGHLYVEAPILKAVGGTITTQTSDFVITEEKAANSLAQAVESYEKKSRENFNNALHATLEKLERHHVKPQILKKIRKTLEEEFYRRQCTVQNDLREGLDHVTGTPLPKHLLITTVAGTFELLHDTKKGAGRHTGCDFCEKTLTHIHTSAELTRSGAVLPPWCKEFPEQFVYRFLSSL'),\n",
       " ({'name': 'AbV2||KY357507', 'transannot': '1a', 'prob': 2677, 'proe': 2893},\n",
       "  'KGKTLEGRALHIVSHRRYVPSLGALCDGRIASCSIHTLGGITVYNFTPLRHSDPTHAGPRAAQDQQASYSHQASVTRSSLYLTSGLPTLPDSMSSFNSLDLVYLPYTDSRTSAARTTNVTNLSCSFINFTLIDESTYEVVAYRTEAAGAVREGWCGLCVVNSVGSADLITPARREIISNRRVFPGCERVSNAEARVRRRIPLGSFGSTRTVDDLTN'),\n",
       " ({'name': 'AbV2||KY357507', 'transannot': '1a', 'prob': 2926, 'proe': 3098},\n",
       "  'TVFASDKRKNLETASTVGLTPVFDASVDLTTCKTTAEAWRGFAEQRPWLATALRSAELPARLVSAALNVVSRFPRRNFTCDPRVLVNFSGARETSHAGCPEARARRPGVYTNLYERYLFRKGTEVLRSGGRYYPLDGRAAPSLTGCRPRTTRRRLTPLSDDLAQARKHNCSP'),\n",
       " ({'name': 'AbV2||KY357507', 'transannot': '2s', 'prob': 4238, 'proe': 4397},\n",
       "  'CTTCYVGKVGTSSCEAPDSQENKKNTRRRILQETMHCTERSTRRLGPRHRDSLTKAPLDYDGGRNIRTAARHKERRWEAHRLRLLRENSHAHPHFGGTYSLGSSSTPVVQRVSGAVCVPVPFLSLTVSRKYNKRPNKDEMACLFRMGHQDGVARNSSLN')]"
      ]
     },
     "execution_count": 45,
     "metadata": {},
     "output_type": "execute_result"
    }
   ],
   "source": [
    "genome=fetch_seq('genbank_meta/AbV2||KY357507.pkl')\n",
    "t=hextranslate(genome)\n",
    "segs=get_valid_seg(t,thresh=150,name='AbV2||KY357507')\n",
    "segs"
   ]
  },
  {
   "cell_type": "code",
   "execution_count": 47,
   "metadata": {},
   "outputs": [],
   "source": [
    "print(seg_to_fasta(segs),file=open('AbV2||KY357507:segs.fasta','a'))"
   ]
  },
  {
   "cell_type": "code",
   "execution_count": 12,
   "metadata": {},
   "outputs": [],
   "source": [
    "import matplotlib.pyplot as plt\n",
    "lenlist=[]\n",
    "for i in ilist:\n",
    "    lenlist.extend([len(seg) for seg in i.split('*')])"
   ]
  },
  {
   "cell_type": "code",
   "execution_count": 16,
   "metadata": {},
   "outputs": [
    {
     "data": {
      "text/plain": [
       "(array([493., 322., 150., 100.,  54.,  40.,  23.,  12.,   8.,   7.]),\n",
       " array([  0.,  10.,  20.,  30.,  40.,  50.,  60.,  70.,  80.,  90., 100.]),\n",
       " <BarContainer object of 10 artists>)"
      ]
     },
     "execution_count": 16,
     "metadata": {},
     "output_type": "execute_result"
    },
    {
     "data": {
      "image/png": "[encoded data removed]",
      "text/plain": [
       "<Figure size 640x480 with 1 Axes>"
      ]
     },
     "metadata": {},
     "output_type": "display_data"
    }
   ],
   "source": [
    "plt.hist(lenlist,range=[0,100])"
   ]
  },
  {
   "cell_type": "code",
   "execution_count": 18,
   "metadata": {},
   "outputs": [],
   "source": [
    "lenlist.sort()\n"
   ]
  },
  {
   "cell_type": "code",
   "execution_count": 21,
   "metadata": {},
   "outputs": [
    {
     "data": {
      "text/plain": [
       "[106, 106, 111, 111, 117, 121, 159, 172, 216, 3726]"
      ]
     },
     "execution_count": 21,
     "metadata": {},
     "output_type": "execute_result"
    }
   ],
   "source": [
    "lenlist[-10:]"
   ]
  },
  {
   "cell_type": "code",
   "execution_count": null,
   "metadata": {},
   "outputs": [],
   "source": [
    "from typing import List\n",
    "def hex_fasta(ilist:List[str])->str:\n",
    "    return"
   ]
  }
 ],
 "metadata": {
  "kernelspec": {
   "display_name": "rdrp",
   "language": "python",
   "name": "python3"
  },
  "language_info": {
   "codemirror_mode": {
    "name": "ipython",
    "version": 3
   },
   "file_extension": ".py",
   "mimetype": "text/x-python",
   "name": "python",
   "nbconvert_exporter": "python",
   "pygments_lexer": "ipython3",
   "version": "3.11.6"
  }
 },
 "nbformat": 4,
 "nbformat_minor": 2
}
