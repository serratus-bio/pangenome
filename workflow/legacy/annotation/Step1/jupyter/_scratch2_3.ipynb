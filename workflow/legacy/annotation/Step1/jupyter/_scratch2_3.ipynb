{
 "cells": [
  {
   "cell_type": "markdown",
   "metadata": {},
   "source": [
    "get the NIDOVIRALES subset list\n",
    "\n",
    "done"
   ]
  },
  {
   "cell_type": "code",
   "execution_count": 46,
   "metadata": {},
   "outputs": [],
   "source": [
    "import pandas as pd\n",
    "virus_list=pd.read_csv('VMR_MSL38_v2.csv')"
   ]
  },
  {
   "cell_type": "code",
   "execution_count": 47,
   "metadata": {},
   "outputs": [],
   "source": [
    "nido_list=virus_list[virus_list['Order']=='Nidovirales'].copy(deep=True)"
   ]
  },
  {
   "cell_type": "code",
   "execution_count": 48,
   "metadata": {},
   "outputs": [],
   "source": [
    "from typing import List,Dict\n",
    "def robust_split(s:str,split:str)->List[str]:\n",
    "    return [i.strip() for i in s.split(split)]\n",
    "\n",
    "def get_genbank_id(accession:str)->Dict[str,str]:\n",
    "    assert isinstance(accession,str),f'accession: {accession} is not a str!'\n",
    "    o={}\n",
    "    holder_token=0\n",
    "    if ';' in accession:\n",
    "        for sub_a in robust_split(accession,';'):\n",
    "            if ':' in sub_a:\n",
    "                subk,subv=robust_split(sub_a,':')\n",
    "                o[subk]=subv\n",
    "            else:\n",
    "                o[f'{holder_token}']=sub_a\n",
    "                holder_token+=1\n",
    "    else:\n",
    "        if \":\" in accession:\n",
    "            subk,subv=robust_split(accession,':')\n",
    "            o[subk]=subv\n",
    "        else:\n",
    "            o['_']=accession\n",
    "    return o"
   ]
  },
  {
   "cell_type": "code",
   "execution_count": 49,
   "metadata": {},
   "outputs": [],
   "source": [
    "from warnings import warn\n",
    "def get_correct_name(name:str)->str:\n",
    "    \"some names block contains multiple name sep by ';'\"\n",
    "    assert isinstance(name,str),f'valid input: {name}'\n",
    "    if ';' in name:\n",
    "        warn(f'multiple names: {name},use the first one')\n",
    "        return robust_split(name,';')[0]\n",
    "    else:\n",
    "        return name"
   ]
  },
  {
   "cell_type": "code",
   "execution_count": 50,
   "metadata": {},
   "outputs": [],
   "source": [
    "nido_list['true_access']=nido_list['Virus GENBANK accession'].apply(get_genbank_id)\n",
    "nido_list['true_name']=nido_list['Virus name abbreviation(s)'].apply(get_correct_name)\n",
    "\n",
    "# nido_list[]"
   ]
  },
  {
   "cell_type": "code",
   "execution_count": 51,
   "metadata": {},
   "outputs": [],
   "source": [
    "def is_multiple_access(access:Dict[str,str])->bool:\n",
    "    ''' `False`: one seg; `True`:c segs '''\n",
    "    if '_' in access:\n",
    "        return False\n",
    "    else:\n",
    "        return True"
   ]
  },
  {
   "cell_type": "code",
   "execution_count": 52,
   "metadata": {},
   "outputs": [],
   "source": [
    "def get_file_stem(virus_series:pd.Series,\n",
    "    access_col='true_access',name_col='true_name')->List[str]:\n",
    "    _=virus_series\n",
    "    access:Dict[str,str]= _[access_col]\n",
    "    if not is_multiple_access(_[access_col]):\n",
    "        return [f\"{_[name_col]}||{access['_']}\"]\n",
    "    else:\n",
    "        return [f\"{_[name_col]}|{k}|{v}\" for k,v in access.items()]"
   ]
  },
  {
   "cell_type": "code",
   "execution_count": 53,
   "metadata": {},
   "outputs": [],
   "source": [
    "file_stems=[]\n",
    "for _,s in nido_list.iterrows():\n",
    "    file_stems.extend(get_file_stem(s))"
   ]
  },
  {
   "cell_type": "code",
   "execution_count": 55,
   "metadata": {},
   "outputs": [],
   "source": [
    "from pathlib import Path\n",
    "from subprocess import run\n",
    "odir=Path('nido_subset')\n",
    "for i in file_stems:\n",
    "    gf=Path(f'scan_result/{i}:genome.json')\n",
    "    sf=Path(f'scan_result/{i}:segs.json')\n",
    "    if not gf.is_file():\n",
    "        print(f'not found: {gf}')\n",
    "    else:\n",
    "        run(['ln','-s',gf.absolute(),(odir/gf.name).absolute()])\n",
    "    if not sf.is_file():\n",
    "        print(f'not found: {sf}')\n",
    "    else:\n",
    "        run(['ln','-s',sf.absolute(),(odir/sf.name).absolute()])\n"
   ]
  },
  {
   "cell_type": "code",
   "execution_count": 27,
   "metadata": {},
   "outputs": [],
   "source": [
    "nido_list.to_csv('tmp-nido.csv',index=False)"
   ]
  },
  {
   "cell_type": "code",
   "execution_count": 8,
   "metadata": {},
   "outputs": [
    {
     "data": {
      "text/plain": [
       "135"
      ]
     },
     "execution_count": 8,
     "metadata": {},
     "output_type": "execute_result"
    }
   ],
   "source": [
    "len(nido_list)"
   ]
  },
  {
   "cell_type": "code",
   "execution_count": null,
   "metadata": {},
   "outputs": [],
   "source": []
  }
 ],
 "metadata": {
  "kernelspec": {
   "display_name": "Python 3",
   "language": "python",
   "name": "python3"
  },
  "language_info": {
   "codemirror_mode": {
    "name": "ipython",
    "version": 3
   },
   "file_extension": ".py",
   "mimetype": "text/x-python",
   "name": "python",
   "nbconvert_exporter": "python",
   "pygments_lexer": "ipython3",
   "version": "3.11.6"
  }
 },
 "nbformat": 4,
 "nbformat_minor": 2
}
