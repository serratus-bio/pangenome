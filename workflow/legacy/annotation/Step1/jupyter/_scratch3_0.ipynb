{
 "cells": [
  {
   "cell_type": "markdown",
   "metadata": {},
   "source": [
    "parse InterProScan output:toy test; abandoned"
   ]
  },
  {
   "cell_type": "code",
   "execution_count": 1,
   "metadata": {},
   "outputs": [],
   "source": [
    "import json\n",
    "example=json.load(open('example-interproscan-output.json'))"
   ]
  },
  {
   "cell_type": "code",
   "execution_count": 2,
   "metadata": {},
   "outputs": [],
   "source": [
    "o={}\n",
    "for m in example['results'][0]['matches']:\n",
    "    o[m['signature']['accession']]={\n",
    "        i:m['locations'][0][i] for i in [\"start\",\"end\"]\n",
    "    }"
   ]
  },
  {
   "cell_type": "code",
   "execution_count": 54,
   "metadata": {},
   "outputs": [
    {
     "name": "stdout",
     "output_type": "stream",
     "text": [
      "HOMOLOGOUS_SUPERFAMILY\tGENE3D\n",
      "DOMAIN\tPROSITE_PROFILES\n",
      "DOMAIN\tPROSITE_PROFILES\n",
      "##\tCDD\n",
      "DOMAIN\tPFAM\n",
      "##\tMOBIDB_LITE\n",
      "DOMAIN\tPROSITE_PROFILES\n",
      "HOMOLOGOUS_SUPERFAMILY\tGENE3D\n",
      "##\tSUPERFAMILY\n",
      "DOMAIN\tPFAM\n",
      "##\tMOBIDB_LITE\n",
      "DOMAIN\tPFAM\n",
      "HOMOLOGOUS_SUPERFAMILY\tSUPERFAMILY\n",
      "DOMAIN\tPFAM\n",
      "HOMOLOGOUS_SUPERFAMILY\tSUPERFAMILY\n",
      "DOMAIN\tPROSITE_PROFILES\n"
     ]
    }
   ],
   "source": [
    "for m in example['results'][0]['matches']:\n",
    "    try:\n",
    "        print(m['signature']['entry']['type'],end='\\t')\n",
    "        print(m['signature']['signatureLibraryRelease']['library'])\n",
    "    except:\n",
    "        # break\n",
    "        print('##',end='\\t')\n",
    "        print(m['signature']['signatureLibraryRelease']['library'])"
   ]
  },
  {
   "cell_type": "code",
   "execution_count": 49,
   "metadata": {},
   "outputs": [
    {
     "data": {
      "text/plain": [
       "dict_keys(['signature', 'locations', 'evalue', 'score', 'model-ac'])"
      ]
     },
     "execution_count": 49,
     "metadata": {},
     "output_type": "execute_result"
    }
   ],
   "source": [
    "example['results'][0]['matches'][0].keys()"
   ]
  },
  {
   "cell_type": "code",
   "execution_count": 48,
   "metadata": {},
   "outputs": [
    {
     "data": {
      "text/plain": [
       "dict_keys(['signature', 'locations', 'model-ac'])"
      ]
     },
     "execution_count": 48,
     "metadata": {},
     "output_type": "execute_result"
    }
   ],
   "source": [
    "m.keys()"
   ]
  },
  {
   "cell_type": "code",
   "execution_count": 50,
   "metadata": {},
   "outputs": [
    {
     "data": {
      "text/plain": [
       "{'accession': 'cd23245',\n",
       " 'name': 'Betaflexiviridae_RdRp',\n",
       " 'description': 'Betaflexiviridae_RdRp',\n",
       " 'signatureLibraryRelease': {'library': 'CDD', 'version': '3.20'},\n",
       " 'entry': None}"
      ]
     },
     "execution_count": 50,
     "metadata": {},
     "output_type": "execute_result"
    }
   ],
   "source": [
    "m['signature']"
   ]
  },
  {
   "cell_type": "code",
   "execution_count": 32,
   "metadata": {},
   "outputs": [
    {
     "data": {
      "text/plain": [
       "[dict_keys(['start', 'end', 'hmmStart', 'hmmEnd', 'hmmLength', 'hmmBounds', 'evalue', 'score', 'envelopeStart', 'envelopeEnd', 'postProcessed', 'location-fragments']),\n",
       " dict_keys(['start', 'end', 'score', 'alignment', 'location-fragments']),\n",
       " dict_keys(['start', 'end', 'score', 'alignment', 'location-fragments']),\n",
       " dict_keys(['start', 'end', 'sites', 'evalue', 'score', 'location-fragments']),\n",
       " dict_keys(['start', 'end', 'hmmStart', 'hmmEnd', 'hmmLength', 'hmmBounds', 'evalue', 'score', 'envelopeStart', 'envelopeEnd', 'postProcessed', 'location-fragments']),\n",
       " dict_keys(['start', 'end', 'location-fragments', 'sequence-feature']),\n",
       " dict_keys(['start', 'end', 'score', 'alignment', 'location-fragments']),\n",
       " dict_keys(['start', 'end', 'hmmStart', 'hmmEnd', 'hmmLength', 'hmmBounds', 'evalue', 'score', 'envelopeStart', 'envelopeEnd', 'postProcessed', 'location-fragments']),\n",
       " dict_keys(['start', 'end', 'hmmLength', 'location-fragments']),\n",
       " dict_keys(['start', 'end', 'hmmStart', 'hmmEnd', 'hmmLength', 'hmmBounds', 'evalue', 'score', 'envelopeStart', 'envelopeEnd', 'postProcessed', 'location-fragments']),\n",
       " dict_keys(['start', 'end', 'location-fragments', 'sequence-feature']),\n",
       " dict_keys(['start', 'end', 'hmmStart', 'hmmEnd', 'hmmLength', 'hmmBounds', 'evalue', 'score', 'envelopeStart', 'envelopeEnd', 'postProcessed', 'location-fragments']),\n",
       " dict_keys(['start', 'end', 'hmmLength', 'location-fragments']),\n",
       " dict_keys(['start', 'end', 'hmmStart', 'hmmEnd', 'hmmLength', 'hmmBounds', 'evalue', 'score', 'envelopeStart', 'envelopeEnd', 'postProcessed', 'location-fragments']),\n",
       " dict_keys(['start', 'end', 'hmmLength', 'location-fragments']),\n",
       " dict_keys(['start', 'end', 'score', 'alignment', 'location-fragments'])]"
      ]
     },
     "execution_count": 32,
     "metadata": {},
     "output_type": "execute_result"
    }
   ],
   "source": [
    "[i['locations'][0].keys() for i in example['results'][0]['matches']]"
   ]
  }
 ],
 "metadata": {
  "kernelspec": {
   "display_name": "rdrp",
   "language": "python",
   "name": "python3"
  },
  "language_info": {
   "codemirror_mode": {
    "name": "ipython",
    "version": 3
   },
   "file_extension": ".py",
   "mimetype": "text/x-python",
   "name": "python",
   "nbconvert_exporter": "python",
   "pygments_lexer": "ipython3",
   "version": "3.11.6"
  }
 },
 "nbformat": 4,
 "nbformat_minor": 2
}
