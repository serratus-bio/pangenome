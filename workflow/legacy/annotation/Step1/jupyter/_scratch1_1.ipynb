{
 "cells": [
  {
   "cell_type": "markdown",
   "metadata": {},
   "source": [
    "fetch genbank \n",
    "\n",
    "done"
   ]
  },
  {
   "cell_type": "code",
   "execution_count": 2,
   "metadata": {},
   "outputs": [],
   "source": [
    "from Bio import SeqIO\n",
    "from pathlib import Path\n",
    "from Bio import Entrez\n",
    "Entrez.email='zfevan.deng@mail.utoronto.ca'"
   ]
  },
  {
   "cell_type": "code",
   "execution_count": 3,
   "metadata": {},
   "outputs": [],
   "source": [
    "import pandas as pd\n",
    "virus_list=pd.read_csv('VMR_MSL38_v2.csv')"
   ]
  },
  {
   "cell_type": "code",
   "execution_count": null,
   "metadata": {},
   "outputs": [],
   "source": [
    "virus_list['Virus GENBANK accession']"
   ]
  },
  {
   "cell_type": "code",
   "execution_count": 4,
   "metadata": {},
   "outputs": [],
   "source": [
    "odict={}"
   ]
  },
  {
   "cell_type": "code",
   "execution_count": 5,
   "metadata": {},
   "outputs": [
    {
     "name": "stderr",
     "output_type": "stream",
     "text": [
      "12953it [02:05, 103.55it/s] \n"
     ]
    }
   ],
   "source": [
    "import xmltodict\n",
    "import pickle as pkl\n",
    "import tqdm\n",
    "from pathlib import Path\n",
    "def fetch_parse(i:str):\n",
    "    xml_file=Entrez.efetch(db='nuccore',id=i,rettype=\"gb\", retmode=\"xml\")\n",
    "    data_dict = xmltodict.parse(xml_file.read())\n",
    "    return data_dict\n",
    "with open('efetch-1.err','w') as err:\n",
    "    for _,r in tqdm.tqdm(virus_list.iterrows()):\n",
    "        t=r['Genome composition']\n",
    "        if 'RNA' in t:\n",
    "            try:\n",
    "                name:str=r['Virus name abbreviation(s)']\n",
    "                if ';' in name:\n",
    "                    name=name.split(';')[0]\n",
    "                i:str=r['Virus GENBANK accession']\n",
    "                if isinstance(i,str):\n",
    "                    if  ';' not in i:\n",
    "                        file=f'genbank_meta/{name}--{i}.pkl'\n",
    "                        if not Path(file).is_file():\n",
    "                            data_dict=fetch_parse(i)\n",
    "                            odict[f'{name}||{i}']=data_dict\n",
    "                            with open(file,'wb') as f:\n",
    "                                pkl.dump(data_dict,f)\n",
    "                    else:\n",
    "                        holder_token=0\n",
    "                        for sub_i in i.split('; '):\n",
    "                            if \": \" in sub_i:\n",
    "                                subk,subv=sub_i.split(': ')\n",
    "                            else:\n",
    "                                subk,subv=str(holder_token),sub_i\n",
    "                                holder_token+=1\n",
    "                            file=f'genbank_meta/{name}|{subk}|{subv}.pkl'\n",
    "                            if not Path(file).is_file():\n",
    "                                data_dict=fetch_parse(subv)\n",
    "                                # import pdb;pdb.set_trace()\n",
    "                                odict[f\"{name}|{subk}|{subv}\"]=data_dict\n",
    "                                with open(file,'wb') as f:\n",
    "                                    pkl.dump(data_dict,f)\n",
    "            except:\n",
    "                err.write(f'{name}\\t{r[\"Virus GENBANK accession\"]}\\n')\n",
    "                # print(r)"
   ]
  },
  {
   "cell_type": "code",
   "execution_count": 8,
   "metadata": {},
   "outputs": [],
   "source": [
    "with open(\"sum_rna_genbank\",'wb') as f:\n",
    "    pkl.dump(odict,f)"
   ]
  },
  {
   "cell_type": "code",
   "execution_count": null,
   "metadata": {},
   "outputs": [],
   "source": [
    "for _,i in virus_list.iterrows():\n",
    "    break"
   ]
  },
  {
   "cell_type": "code",
   "execution_count": null,
   "metadata": {},
   "outputs": [],
   "source": [
    "odict['MK064563']"
   ]
  },
  {
   "cell_type": "code",
   "execution_count": 6,
   "metadata": {},
   "outputs": [
    {
     "name": "stdout",
     "output_type": "stream",
     "text": [
      "A0A059N3T7\n",
      "A0A067BCK2\n",
      "A0A067BXK8\n",
      "A0A067C1L4\n",
      "A0A069ZHU6\n",
      "A0A073KIQ9\n",
      "A0A077UGT4\n",
      "A0A077UIJ2\n",
      "A0A084SKE5\n",
      "A0A085W4R7\n",
      "A0A090ZGX0\n",
      "A0A097BEL0\n",
      "A0A099XPR7\n",
      "A0A0A1V514\n",
      "A0A0A2E1C2\n",
      "A0A0A2F684\n",
      "A0A0A2FRD4\n",
      "A0A0A2G4Z4\n",
      "A0A0A2VAN3\n",
      "A0A0A7CPT4\n"
     ]
    }
   ],
   "source": [
    "from urllib import request\n",
    "import json\n",
    "\n",
    "url = \"https://www.ebi.ac.uk/interpro/api/protein/uniprot/entry/interpro/IPR000126\"\n",
    "\n",
    "req = request.Request(url)\n",
    "response = request.urlopen(req)\n",
    "encoded_response = response.read()\n",
    "decoded_response = encoded_response.decode()\n",
    "payload = json.loads(decoded_response)\n",
    "\n",
    "for item in payload[\"results\"]:\n",
    "    print(item[\"metadata\"][\"accession\"])"
   ]
  }
 ],
 "metadata": {
  "kernelspec": {
   "display_name": "rdrp",
   "language": "python",
   "name": "python3"
  },
  "language_info": {
   "codemirror_mode": {
    "name": "ipython",
    "version": 3
   },
   "file_extension": ".py",
   "mimetype": "text/x-python",
   "name": "python",
   "nbconvert_exporter": "python",
   "pygments_lexer": "ipython3",
   "version": "3.11.6"
  }
 },
 "nbformat": 4,
 "nbformat_minor": 2
}
