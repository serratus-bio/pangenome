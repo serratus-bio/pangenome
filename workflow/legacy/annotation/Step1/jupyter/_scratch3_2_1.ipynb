{
 "cells": [
  {
   "cell_type": "markdown",
   "metadata": {},
   "source": [
    "renewed 3_2 for pylance to work"
   ]
  },
  {
   "cell_type": "code",
   "execution_count": 11,
   "metadata": {},
   "outputs": [],
   "source": [
    "from dna_features_viewer import GraphicFeature, GraphicRecord\n",
    "from foreground import get_foreground \n",
    "import matplotlib.pyplot as plt\n",
    "import matplotlib.colors as clr\n",
    "import matplotlib.patches as patches\n",
    "from matplotlib import colormaps\n",
    "from typing import List\n",
    "from matplotlib.axes import Axes\n",
    "import seaborn as sns"
   ]
  },
  {
   "cell_type": "code",
   "execution_count": 2,
   "metadata": {},
   "outputs": [],
   "source": [
    "import pandas as pd\n",
    "domains=pd.read_csv('nido-domains.csv')"
   ]
  },
  {
   "cell_type": "code",
   "execution_count": 4,
   "metadata": {},
   "outputs": [
    {
     "data": {
      "text/plain": [
       "genome_name                                      ACoV-WA3607||MK472070\n",
       "genome_length                                                    28009\n",
       "domain_accession                                               PF19217\n",
       "strand                                                           SENSE\n",
       "start                                                             7840\n",
       "end                                                               8839\n",
       "hmmStart                                                             5\n",
       "hmmEnd                                                             351\n",
       "evalue                                                             0.0\n",
       "domain_annotation    CoV_NSP4_N:Coronavirus replicase NSP4, N-terminal\n",
       "Name: 0, dtype: object"
      ]
     },
     "execution_count": 4,
     "metadata": {},
     "output_type": "execute_result"
    }
   ],
   "source": [
    "# monitor cols\n",
    "domains.loc[0]"
   ]
  },
  {
   "cell_type": "code",
   "execution_count": 6,
   "metadata": {},
   "outputs": [],
   "source": [
    "def hide_axes(ax,genome_start_pos,genome_end_pos):\n",
    "    #hack: since I don't~~~~~ didn't know how to erase axes around coordinates, draw a white box over them.\n",
    "    # is that a ugly hack? yes. does it render well? also yes\n",
    "    ax.add_patch(\n",
    "     patches.Rectangle(\n",
    "        (-100, -0.25),\n",
    "        genome_start_pos,\n",
    "        0.5,\n",
    "        fill=True,      # remove background\n",
    "        facecolor='white'\n",
    "     ) ) \n",
    "    ax.add_patch(\n",
    "     patches.Rectangle(\n",
    "        (genome_end_pos, -0.25),\n",
    "        sequence_length+100,\n",
    "        0.5,\n",
    "        fill=True,      # remove background\n",
    "        facecolor='white'\n",
    "     ) ) "
   ]
  },
  {
   "cell_type": "code",
   "execution_count": null,
   "metadata": {},
   "outputs": [],
   "source": [
    "\n",
    "domain_catalogue={}\n",
    "\n",
    "for i in domains['domain_annotation'].apply(lambda x:x.split(':')[0].split('_')[0]).unique():\n",
    "    domain_catalogue[i]=[]\n",
    "# nidopalette = sns.color_palette('YlGnBu', len(nido_exclusives))"
   ]
  },
  {
   "cell_type": "code",
   "execution_count": 24,
   "metadata": {},
   "outputs": [],
   "source": [
    "coloring = {\n",
    " 'orf1a': ['bCoV_NSP1', 'CoV_NSP2_N', 'CoV_NSP2_C',\n",
    "           'bCoV_NSP3_N', 'Macro', 'bCoV_SUD_M', 'bCoV_SUD_C', \n",
    "           'CoV_peptidase', 'bCoV_NAR',  'CoV_NSP3_C', \n",
    "           'CoV_NSP4_N', 'CoV_NSP4_C', 'Peptidase_C30', \n",
    "           'CoV_NSP6', 'CoV_NSP7', \n",
    "           'CoV_NSP8', 'CoV_NSP9', 'CoV_NSP10'],\n",
    " 'rdrp_helicase': [ 'CoV_RPol_N', 'RdRP_1', 'Viral_helicase1'  ],\n",
    " 'orf1b':         [ 'CoV_Methyltr_1',  'CoV_NSP15_N', 'CoV_NSP15_M',\n",
    "                    'CoV_NSP15_C', 'CoV_Methyltr_2'],\n",
    " '3p_orfs': [       'bCoV_S1_N', 'bCoV_S1_RBD', 'CoV_S1_C',\n",
    "                    'CoV_S2',  'bCoV_viroporin', 'CoV_E', 'CoV_M', \n",
    "                    'bCoV_NS6', 'bCoV_NS7A', 'bCoV_NS7B', 'bCoV_NS8', \n",
    "                    'bCoV_lipid_BD', 'CoV_nucleocap','bCoV_Orf14']\n",
    "}\n",
    "inv_coloring  = dict([(y,x) for x in coloring for y in coloring[x]])\n",
    "dpalette = dict()\n",
    "all_names = set([x for x in inv_coloring])\n",
    "for region in coloring:\n",
    "    #region_color = {'orf1a': 'BuPu', 'rdrp_helicase': 'Greens', 'orf1b': 'GnBu', '3p_orfs': 'Greys'}[region]\n",
    "    #palette = sns.color_palette(region_color, len(coloring[region]) + offset_color)\n",
    "    region_color, additional_length, offset_color = {'orf1a': ('cubehelix',20,10), 'rdrp_helicase': ('Greens',10,5), 'orf1b': ('BrBG',30,30), '3p_orfs': ('Greys',10,7)}[region]\n",
    "    palette = sns.color_palette(region_color, len(coloring[region]) + additional_length)\n",
    "    if region == 'orf1a': palette = palette[::-1]\n",
    "    for i,name in enumerate(coloring[region]):\n",
    "        dpalette[name] = palette[offset_color+i] \n",
    "\n",
    "# some manual palette fixes\n",
    "dpalette['Macro'] = \"#d42065\"\n",
    "dpalette['Peptidase_C30'] = \"#c2da29\"\n",
    "dpalette['RdRP_1'] = \"#23d32a\""
   ]
  },
  {
   "cell_type": "code",
   "execution_count": 31,
   "metadata": {},
   "outputs": [],
   "source": [
    "nido_exclusives=[]\n",
    "for i in domains['domain_annotation'].apply(lambda x:x.split(':')[0]).unique():\n",
    "    if i not in dpalette:\n",
    "        nido_exclusives.append(i)\n",
    "nidopalette = sns.color_palette('YlGnBu', len(nido_exclusives))"
   ]
  },
  {
   "cell_type": "code",
   "execution_count": 38,
   "metadata": {},
   "outputs": [],
   "source": [
    "# global\n",
    "sample_size=len(domains['genome_name'].unique())\n",
    "sequence_length=42000\n",
    "ref=21000"
   ]
  },
  {
   "cell_type": "code",
   "execution_count": 41,
   "metadata": {},
   "outputs": [
    {
     "name": "stdout",
     "output_type": "stream",
     "text": [
      "no rdrp warning:BlNV||MK956105\n",
      "no rdrp warning:CASV||KJ125489\n",
      "no rdrp warning:CharNV||KX883628\n",
      "no rdrp warning:DKNV||AB753015\n",
      "no rdrp warning:DiankeV||KY056254\n",
      "no rdrp warning:EToV|0|DQ310701\n",
      "no rdrp warning:EToV|1|X52506\n",
      "no rdrp warning:EToV|2|X52505\n",
      "no rdrp warning:FOaMV-1||MN714663\n",
      "no rdrp warning:KSaV||KC807171\n",
      "no rdrp warning:MrGV||MT907511\n",
      "no rdrp warning:NDV||DQ458789\n",
      "no rdrp warning:NGSAV||MG600024\n",
      "no rdrp warning:NseV||JQ957874\n",
      "no rdrp warning:PSCNV||MH933735\n",
      "no rdrp warning:YiV-HB-MLV||KY369959\n"
     ]
    }
   ],
   "source": [
    "plt.close('all')\n",
    "c=0\n",
    "fig,ax=plt.subplots(sample_size,1,sharex=True,figsize=(60,sample_size*2))\n",
    "ax:List[Axes]\n",
    "for i,idf in domains.groupby('genome_name'):\n",
    "    # sequence_length=idf.iloc[0]['genome_length']\n",
    "    \n",
    "    if (idf['domain_accession']=='PF00680').any():\n",
    "        rdrp_start=idf[idf['domain_accession']=='PF00680'].iloc[0]['start']\n",
    "        rdrp_hmm_start=idf[idf['domain_accession']=='PF00680'].iloc[0]['hmmStart']\n",
    "        del_start=ref-(rdrp_start-rdrp_hmm_start*3)\n",
    "    else:\n",
    "        del_start=ref-idf.iloc[0]['genome_length']/2\n",
    "        print(f'no rdrp warning:{i}')\n",
    "    \n",
    "    features=[]\n",
    "    for _,d in idf.iterrows():\n",
    "        strand=+1 if d['strand']=='SENSE' else -1\n",
    "        a_=d['domain_annotation'].split(':')[0]\n",
    "        if  a_ in dpalette:\n",
    "            color=dpalette[a_]\n",
    "        elif a_ in nido_exclusives:\n",
    "            color=nidopalette[nido_exclusives.index(a_)]\n",
    "        else:\n",
    "            color='red'\n",
    "        # color= 'green' if d['domain_accession']=='PF00680' else 'grey'\n",
    "        features.append(GraphicFeature(start=d['start']+del_start, end=d['end']+del_start, strand=strand, color=color,\n",
    "                    label=d['domain_accession']))\n",
    "    record = GraphicRecord(sequence_length=sequence_length, features=features)\n",
    "    record.plot(ax=ax[c],figure_width=20)\n",
    "    ax[c].set_facecolor(\"white\")\n",
    "    ax[c].tick_params(axis='x', which='both', bottom=False, top=False, labelbottom=False) # remove ticks\n",
    "    ax[c].annotate(i.split('|')[0] ,(-1000,-0), xycoords='data', annotation_clip=False, ha='left',fontsize=25) \n",
    "    hide_axes(ax[c],0+del_start,idf.iloc[0]['genome_length']+del_start)\n",
    "    c+=1\n",
    "    if c>=sample_size:\n",
    "        break\n",
    "fig.tight_layout()\n",
    "# fig.set_dpi(400)\n",
    "fig.savefig('xxxx.pdf')\n",
    "plt.close('all')\n"
   ]
  }
 ],
 "metadata": {
  "kernelspec": {
   "display_name": "rdrp",
   "language": "python",
   "name": "python3"
  },
  "language_info": {
   "codemirror_mode": {
    "name": "ipython",
    "version": 3
   },
   "file_extension": ".py",
   "mimetype": "text/x-python",
   "name": "python",
   "nbconvert_exporter": "python",
   "pygments_lexer": "ipython3",
   "version": "3.11.6"
  }
 },
 "nbformat": 4,
 "nbformat_minor": 2
}
