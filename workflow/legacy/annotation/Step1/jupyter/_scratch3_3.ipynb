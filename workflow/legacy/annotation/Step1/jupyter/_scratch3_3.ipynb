{
 "cells": [
  {
   "cell_type": "markdown",
   "metadata": {},
   "source": [
    "get_SARS-CoV-2_similarity"
   ]
  },
  {
   "cell_type": "markdown",
   "metadata": {},
   "source": [
    "## Test pairwise alignment"
   ]
  },
  {
   "cell_type": "code",
   "execution_count": 1,
   "metadata": {},
   "outputs": [],
   "source": [
    "from Bio.Seq import Seq\n",
    "from Bio.SeqRecord import SeqRecord\n",
    "from Bio.Align import MultipleSeqAlignment"
   ]
  },
  {
   "cell_type": "code",
   "execution_count": 5,
   "metadata": {},
   "outputs": [],
   "source": [
    "seq1='''LDKSAGFPFNKWGKARLYYDSMSYEDQDALFAYTKRNVIPTITQMNLKYAISAKNRARTVAGVSICSTMTNRQFHQKLLKSIAATRGATVVIGTSKFYGGWHNMLKTVYSDVENPHLMGWDYPKCDRAMPNMLRIMASLVLARKHTTCCSLSHRFYRLANECAQVLSEMVMCGGSLYVKPGGTSSGDATTAYANSVFNICQAVTANVNALLSTDGNKIADKYVRNLQHRLYECLYRNRDVDTDFVNEFYAYLRKHFSMMILSDDAVVCFNSTYASQGLVASIKNFK\n",
    "'''\n",
    "seq1=seq1.replace('\\n','')"
   ]
  },
  {
   "cell_type": "code",
   "execution_count": 6,
   "metadata": {},
   "outputs": [],
   "source": [
    "seq2='''SSLGPSHEILRALKQDEVYGVLSMEVIEDLVKLAQETPLMFTTKVSAKFALTAKARARTIAACSMFASTLFRACHKPVTANIVNKSQSADLHSLIGVSKFYGNFDSYIKRRYGSLDNFKVFGSDYTKCDRSFPLVFRGLAAAVLYELGCWDSDNYLFINELQAFMLDFVLVGDAVYQKSGGTSSGDATTAFANTIYNHVVHLYVQLVTLVTEPVGIDQSVLKAAAVKLWQTGDSDVYDLLLDEVNGFDYCFNFLSDDSFILTRRDDGLLDIFNCVNFSRRLETLLHTKVDVTKAWQSDGIHEFCSSEIKQVDGVYQYVPDKNRILAAMLITGK\n",
    "'''\n",
    "seq2=seq2.replace('\\n','')"
   ]
  },
  {
   "cell_type": "code",
   "execution_count": 7,
   "metadata": {},
   "outputs": [],
   "source": [
    "from Bio import Align\n",
    "aligner = Align.PairwiseAligner()\n",
    "alignments = aligner.align(seq1, seq2)\n",
    "alignment = alignments[0]"
   ]
  },
  {
   "cell_type": "code",
   "execution_count": 13,
   "metadata": {},
   "outputs": [
    {
     "data": {
      "text/plain": [
       "127.0"
      ]
     },
     "execution_count": 13,
     "metadata": {},
     "output_type": "execute_result"
    }
   ],
   "source": [
    "alignment.score"
   ]
  },
  {
   "cell_type": "markdown",
   "metadata": {},
   "source": [
    "./diamond blastp -dnido-rdrp-reference \\\n",
    "-q sars_rdrp_hmm.fasta \\\n",
    "-o matches.tsv \\\n",
    "--id 0 \\\n",
    "--max-target-seqs 300 \\\n",
    "--header verbose \\\n",
    "--min-score 0 \\\n",
    "--query-cover 0 \\\n",
    "--subject-cover 0 \\\n",
    "--evalue 1 "
   ]
  },
  {
   "cell_type": "code",
   "execution_count": 12,
   "metadata": {},
   "outputs": [],
   "source": [
    "print(alignment,file=open('xxxx.fasta','w'))"
   ]
  },
  {
   "cell_type": "markdown",
   "metadata": {},
   "source": [
    "## get all rdrp"
   ]
  },
  {
   "cell_type": "code",
   "execution_count": 3,
   "metadata": {},
   "outputs": [],
   "source": [
    "from typing import Generator,Tuple\n",
    "def iter_match(genome_dict:dict)->Generator[Tuple[dict,dict],None,None]:\n",
    "    for orf in genome_dict['results'][0]['openReadingFrames']:\n",
    "        for match in orf['protein']['matches']:\n",
    "            yield (orf,match)"
   ]
  },
  {
   "cell_type": "code",
   "execution_count": 33,
   "metadata": {},
   "outputs": [],
   "source": [
    "from glob import glob\n",
    "import json\n",
    "o=[]\n",
    "o_dict={}\n",
    "b=0\n",
    "for gfile in glob('nido_subset/*:genome.json'):\n",
    "    # print('\\n\\n##'+gfile.split('/')[1].replace(':genome.json',''))\n",
    "    genome_name=gfile.split('/')[1].replace(':genome.json','')\n",
    "    genome_dict=json.load(open(gfile))\n",
    "    genome_length=len(genome_dict['results'][0]['sequence'])\n",
    "    for orf,match in iter_match(genome_dict):\n",
    "        if match['signature']['accession']=='PF00680':\n",
    "            seq=orf['protein']['sequence']\n",
    "            if len(match['locations'])==1:\n",
    "                _=match['locations'][0]\n",
    "                b,e=_['start'],_['end']\n",
    "                rdrp_seq=seq[b:e]\n",
    "                rdrp_name=genome_name\n",
    "                o.append(f'>{rdrp_name}\\n{rdrp_seq}')\n",
    "                o_dict[rdrp_name]=rdrp_seq\n",
    "            else:\n",
    "                for i,_ in enumerate(match['locations']):\n",
    "                    b,e=_['start'],_['end']\n",
    "                    rdrp_seq=seq[b:e]\n",
    "                    rdrp_name=genome_name+'#'+str(i)\n",
    "                    o.append(f'>{rdrp_name}\\n{rdrp_seq}')\n",
    "                    o_dict[rdrp_name]=rdrp_seq\n",
    "            # orf_info=orf['start'],orf['end'],orf['strand']\n",
    "    "
   ]
  },
  {
   "cell_type": "code",
   "execution_count": 25,
   "metadata": {},
   "outputs": [],
   "source": [
    "print('\\n'.join(o),file=open('nido-rdrp.fasta','w'))"
   ]
  },
  {
   "cell_type": "code",
   "execution_count": 42,
   "metadata": {},
   "outputs": [],
   "source": [
    "import pandas as pd\n",
    "head_lines=open('diamond-matches.tsv','r').readlines()[2].strip().split(': ')[1]\n",
    "diamond_aligns=pd.read_csv('diamond-matches.tsv',skiprows=3,names=head_lines.split(', '),delim_whitespace=True)"
   ]
  },
  {
   "cell_type": "code",
   "execution_count": 43,
   "metadata": {},
   "outputs": [
    {
     "data": {
      "text/plain": [
       "Index(['Query ID', 'Subject ID', 'Percentage of identical matches',\n",
       "       'Alignment length', 'Number of mismatches', 'Number of gap openings',\n",
       "       'Start of alignment in query', 'End of alignment in query',\n",
       "       'Start of alignment in subject', 'End of alignment in subject',\n",
       "       'Expected value', 'Bit score'],\n",
       "      dtype='object')"
      ]
     },
     "execution_count": 43,
     "metadata": {},
     "output_type": "execute_result"
    }
   ],
   "source": [
    "diamond_aligns.columns"
   ]
  },
  {
   "cell_type": "code",
   "execution_count": 52,
   "metadata": {},
   "outputs": [],
   "source": [
    "fail_to_match=[i for i in o_dict.keys() if i not in diamond_aligns['Subject ID'].to_list()]"
   ]
  },
  {
   "cell_type": "code",
   "execution_count": 55,
   "metadata": {},
   "outputs": [],
   "source": [
    "s_dict={}\n",
    "ref_seq=o_dict['SARS-CoV-2||MN908947']\n",
    "for i in fail_to_match:    \n",
    "    query_seq=o_dict[i]\n",
    "    aligner = Align.PairwiseAligner()\n",
    "    alignments = aligner.align(query_seq, ref_seq)\n",
    "    s_dict[i]=alignments[0].score\n",
    "    \n",
    "_=[(k,v) for k,v in s_dict.items()]\n",
    "_.sort(key=lambda x:x[1],reverse=True)"
   ]
  },
  {
   "cell_type": "code",
   "execution_count": 74,
   "metadata": {},
   "outputs": [],
   "source": [
    "with open('sort-rdrp.list','w') as f:\n",
    "    f.write('id,match\\n')\n",
    "    for i,j in zip(diamond_aligns['Subject ID'],diamond_aligns['Percentage of identical matches']):\n",
    "        f.write(i+','+f'{j:.2f}'+'\\n')\n",
    "    for i in _:\n",
    "        f.write(i[0]+','+str(i[1])+'\\n')  "
   ]
  },
  {
   "cell_type": "code",
   "execution_count": null,
   "metadata": {},
   "outputs": [],
   "source": []
  },
  {
   "cell_type": "markdown",
   "metadata": {},
   "source": [
    "ref seq:\n",
    "SARS-CoV-2||MN908947"
   ]
  },
  {
   "cell_type": "code",
   "execution_count": 7,
   "metadata": {},
   "outputs": [],
   "source": [
    "from Bio.Align.Applications import ClustalwCommandline\n",
    "in_file = \"nido-rdrp.fasta\"\n",
    "clustalw_cline = ClustalwCommandline(\"/home/hugheslab1/zfdeng/miniconda3/envs/rdrp/bin/clustalw2\", infile=in_file,type='protein')\n",
    "# o=clustalw_cline()"
   ]
  },
  {
   "cell_type": "code",
   "execution_count": 24,
   "metadata": {},
   "outputs": [],
   "source": [
    "from Bio import Phylo\n",
    "from Bio.Phylo import BaseTree\n",
    "tree:BaseTree.Tree = Phylo.read(\"nido-rdrp.dnd\", \"newick\")\n"
   ]
  },
  {
   "cell_type": "code",
   "execution_count": 31,
   "metadata": {},
   "outputs": [
    {
     "name": "stdout",
     "output_type": "stream",
     "text": [
      "  __ ACoV-WA3607||MK472070\n",
      " |\n",
      " |___ HipPBCoV-CHB25||MN611525\n",
      " |\n",
      " |                                                    _______ MYBV-1||KM110938\n",
      " |                                                 __|\n",
      " |                                                |  |_______ KKCBV||KT447550\n",
      " |                                                |\n",
      " |                                                |   ________ KRTGV-1||JX473849\n",
      " |                                                | _|\n",
      " |                                                || |________ DeBMAV||KP126831\n",
      " |                                                ||\n",
      " |                                                || _________ PBJV||KR139839\n",
      " |                                             ___|||\n",
      " |                                            |   | |________ SHFV||AF180391\n",
      " |                                            |   |\n",
      " |                                            |   | __________ KRCV-1||KC787630\n",
      " |                                            |   ,|\n",
      " |                                            |   ||__________ KRCV-2||KC787658\n",
      " |                                            |   |\n",
      " |                                            |   |       ____ ZMbV-1||KT166441\n",
      " |                                            |   |      |\n",
      " |                                            |   |______|____ FSVV||KR862307\n",
      " |                                            |          |\n",
      " |                                            |          |____ SHEV||KM677927\n",
      " |                                            |\n",
      " |                                           _|           ___ RtClonAV||KU302440\n",
      " |                                          | |         ,|\n",
      " |                                          | |        _||___ RtMrufAV||KP280006\n",
      " |                                          | |       | |\n",
      " |                                          | |      _| |____ RtEiAV||KY369968\n",
      " |                                          | |     | |\n",
      " |                                          | |     | |______ RtMcAV||KY369967\n",
      " |                                          | |    ,| |\n",
      " |                                          | |    || |______ PRRSV-2||U87392\n",
      " |                                          | |   _||\n",
      " |                                          | |  | ||________ PRRSV-1||M96262\n",
      " |                                          | |__| |\n",
      " |                                          | |  | |__________ RtClanAV||KY369969\n",
      " |                                          | |  |\n",
      " |                                       ___| |  |____________ LDV||U15146\n",
      " |                                      |   | |\n",
      " |                                      |   | |_______________ APRAV||KP026921\n",
      " |                                      |   |\n",
      " |                                    __|   |__________________ EAV||X53459\n",
      " |                                   |  |   |\n",
      " |                                   |  |   |_________________ OSV-1||MF324848\n",
      " |                                 __|  |\n",
      " |                                |  |  |________________________ WPDV||JN116253\n",
      " |                               _|  |\n",
      " |                              | |  |_______________________ HOFAV||MG600022\n",
      " |                              | |\n",
      " |                           ___| |___________________________ GGGSAV||MG600023\n",
      " |                          |   |\n",
      " |                          |   |          ___________________ TSHSV-NX1||MH447987\n",
      " |                          |   |_________|\n",
      " |                          |             |_______________ CBHPTAV||MG600025\n",
      " |                          |\n",
      " |                          |                   _______ SerTV-25||MN161572\n",
      " |                          |               ___|\n",
      " |                          |           ___|   |_______ INTOV||KX883638\n",
      " |                          |          |   |\n",
      " |                          |          |   |__________ HpoToV_33749||MG600028\n",
      " |                          |          |\n",
      " |                          |         _|_________________ SerTV-K48||MN161566\n",
      " |                          |        | |\n",
      " |                          |        | |________________ BoNV||KM589359\n",
      " |                          |        | |\n",
      " |                          |        | |______________ SerTV-C18||MN161561\n",
      " |                          |        |\n",
      " |                          |        |              ___ MoVNV||MK182569\n",
      " |                         _|        |           __|\n",
      " |                        | |       _|          |  | , BPNV||KJ541759\n",
      " |                        | |      | |     _____|  |_|\n",
      " |                        | |      | |    |     |    | MVNV||MF351889\n",
      " |                        | |      | |   _|     |\n",
      " |                        | |      | |  | |     |_____ BRV||MF685025\n",
      " |                        | |      | |  | |\n",
      " |                        | |      | |  | |_____ ShNV||KX184715\n",
      " |                        | |      | |  |\n",
      " |                        | |      | |  |    __________ VCSTV-A||MT997160\n",
      " |                        | |      | |__|___|\n",
      " |                        | | _____|    |   |___ VCSTV-B||MT997159\n",
      " |                        | ||     |    |\n",
      " |                        | ||     |    | ____________ SECTOV||KX883637\n",
      " |                        | ||     |    ||\n",
      " |                        | ||     |     |____________ GRBSToV||MG600030\n",
      " |                        | ||     |\n",
      " |                        | ||     |                    , BaToV-Hrufipes2018||MW561977\n",
      " |                        | ||     |                   ,|\n",
      " |                        | ||     |   ________________||_ BRV||AY427798\n",
      " |                        | ||     |  |                |\n",
      " |                        |  |     |__|                |__ PoTV||JQ860350\n",
      " |                ________|  |        |\n",
      " |               |        |  |        |      ___________ CSV||KJ681496\n",
      " |               |        |  |        |_____|\n",
      " |               |        |  |              |     ______ FHMNV||GU002364\n",
      " |               |        |  |              |____|\n",
      " |               |        |  |                   |_______ WBV||DQ898157\n",
      " |               |        |  |\n",
      " |               |        |  |________________________________ WJHAV||MG600020\n",
      " |               |        |\n",
      " |               |        |         _____________________ ACMV||MN961271\n",
      " |               |        |        |\n",
      " |               |        |     ___|            _________ OFAV||KT966491\n",
      " |               |        |    |   |         __|\n",
      " |               |        |    |   |        |  |  __ KADV||KT966495\n",
      " |               |        |    |   |________|  |_|\n",
      " |               |        |   _|            |    |______ MenoV||JQ957873\n",
      " |               |        |  | |            |\n",
      " |              _|        |  | |            |__________ HanaV||JQ957872\n",
      " |             | |        | _| |\n",
      " |             | |        || | |______________________ InsMV-1||MN714662\n",
      " |             | |        || |\n",
      " |             | |        || |______________________________ TurrNV||KX883629\n",
      "_|             | |        ||\n",
      " |             | |        ||            _____________________ PagRV||KX883627\n",
      " |             | |         |     ______|\n",
      " |             | |         |    |      |________________________ DecNV||KX883636\n",
      " |             | |         | ___|\n",
      " |           __| |         ||   |                             , YHV-8||KX947267\n",
      " |          |  | |         ||   |                            _|\n",
      " |          |  | |         ||   |___________________________| | YHV||EU487200\n",
      " |          |  | |          |                               |\n",
      " |          |  | |          |                               |_ GAV||AF227196\n",
      " |          |  | |          |\n",
      " |          |  | |          |__________________________________ AAbV||GBBW01007738\n",
      " |         _|  | |\n",
      " |        | |  | |____________________ MLeV||GECV01031551\n",
      " |        | |  |\n",
      " |        | |  |___________________ PsNV||MK611985\n",
      " |        | |\n",
      " |        | |        _______ WiCoV_HKU20||JQ065048\n",
      " |        | |       |\n",
      " |        | |_______|______ NHCoV_HKU19||JQ065047\n",
      " |        |         |\n",
      " |        |         |      _ WECoV_HKU16||JQ065044\n",
      " |        |         |    _|\n",
      " |        |         |  ,| |_ BulCV_HKU11||FJ376619\n",
      " |        |         |  ||\n",
      " |        |         |__||___ CMCoV_HKU21||JQ065049\n",
      " |        |            |\n",
      " |        |            | __ MunCV_HKU13||FJ376622\n",
      " |        |            ||\n",
      " |        |             |__ PoCoV_HKU15||JQ065043\n",
      " |     ___|\n",
      " |    |   |      ___ BcanCoV_CB17||MK359255\n",
      " |    |   |     |\n",
      " |    |   |   __|    ___ ACoV_9203||KR902510\n",
      " |    |   |  |  | __|\n",
      " |    |   |  |  ||  | IBV||M95169\n",
      " |    |   |__|   |\n",
      " |    |   |  |   |__ DuCoV_2714||KM454473\n",
      " |    |   |  |\n",
      " |    |   |  |        , BWCoV||EU111742\n",
      " |    |   |  |________|\n",
      " |    |   |           | BdCoV_HKU22||KF793824\n",
      " |    |   |\n",
      " |    |   |          _ Ty-BatCoV-HKU4||EF065505\n",
      " |    |   |        ,|\n",
      " |    |   |       ,||_ Pi-BatCoV_HKU5||EF065509\n",
      " |    |   |       ||\n",
      " |    |   |  _____||_ MERS-CoV||JX869059\n",
      " |    |   | |     |\n",
      " |    |   | |     |__ EriCoV||KC545383\n",
      " |    |   | |\n",
      " |    |   | |        _ Ro-BatCoV_HKU9||EF065513\n",
      " |    |   | |     __|\n",
      " |    |   | | ___|  | Ro-BatCoV_GCCDC1||KU762338\n",
      " |   ,|   | ||   |\n",
      " |   ||   | ||   |__ Ei-BatCoV_C704||MG693168\n",
      " |   ||   | ||\n",
      " |   ||   | ||        , SARS-CoV||AY274119\n",
      " |   ||   | ||       ,|\n",
      " |   ||   | ||       || SARS-CoV||AY613950\n",
      " |   ||   | ||       |\n",
      " |   ||   | ||  _____| SARSr-CoV||KY352407\n",
      " |   ||   |_|| |     |\n",
      " |   ||     ||_|     | SARS-CoV-2||MN908947\n",
      " |   ||     |  |\n",
      " |   ||     |  |_____ Bat_Hp-BetaCoV||KF636752\n",
      " |   ||     |\n",
      " |   ||     |        _ HCoV_HKU1||AY597011\n",
      " |   ||     |      ,|\n",
      " |   ||     |      ||_ MHV||AY700211\n",
      " |   ||     |      |\n",
      " |   ||     |      |_ HCoV_OC43||AY585228\n",
      " |   ||     |______|\n",
      " |   ||            |__ MrufCoV_2JL14||KY370046\n",
      " |   ||            |\n",
      " |   ||            |_ ChRCoV_HKU24||KM349742\n",
      " |  _||\n",
      " | | || ____ Rh-BatCoV_HKU2||EF203064\n",
      " | | |||\n",
      " | | | |__________ Sa-CoV_T14||KY370053\n",
      " | | |\n",
      " |_| |    __ MCoV||HM245925\n",
      " | | |___|\n",
      " | | |   |_ TGEV||AJ271965\n",
      " | | |\n",
      " | | |__________ Sm-CoV_X74||KY967715\n",
      " | |\n",
      " | |_____ LRNV||KF294380\n",
      " |\n",
      " |  __ BtKYNL63||KY073745\n",
      " |,|\n",
      " |||_____ HCoV_NL63||AY567487\n",
      " ||\n",
      " ||       , HCoV_229E||JX503061\n",
      " ||_______|\n",
      " ||       | HCoV_229E||AF304460\n",
      " ||\n",
      " ||____ BtCoV-AMA-L-F||MT663548\n",
      " |\n",
      " |  _ Mi-BatCoV_1A||EU420138\n",
      " |_|\n",
      " | |_ Mi-BatCoV_HKU8||EU420139\n",
      " |\n",
      " |  _ BtNv-AlphaCoV||KJ473809\n",
      " |_|\n",
      " | |_ PK-BatCoV||MH938449\n",
      " |\n",
      " |   ____ BtRf-AlphaCoV||KJ473807\n",
      " | ,|\n",
      " |,||_ PEDV||AF353511\n",
      " |||\n",
      " ,||_ ACoV-WA1087||MK472067\n",
      " ||\n",
      " ||___ Sc-BatCoV_512||DQ648858\n",
      " |\n",
      " |  _ TyBCoV-HKU33||MK720944\n",
      " |,|\n",
      " |||_ ACoV-WA2028||MK472068\n",
      "  |\n",
      "  |____ BtMr-AlphaCoV||KJ473806\n",
      "\n"
     ]
    }
   ],
   "source": [
    "Phylo.draw_ascii(tree,column_width=100)"
   ]
  },
  {
   "cell_type": "code",
   "execution_count": 9,
   "metadata": {},
   "outputs": [
    {
     "data": {
      "text/plain": [
       "Bio.Phylo.Newick.Tree"
      ]
     },
     "execution_count": 9,
     "metadata": {},
     "output_type": "execute_result"
    }
   ],
   "source": [
    "type(tree)"
   ]
  },
  {
   "cell_type": "code",
   "execution_count": 30,
   "metadata": {},
   "outputs": [
    {
     "data": {
      "text/plain": [
       "False"
      ]
     },
     "execution_count": 30,
     "metadata": {},
     "output_type": "execute_result"
    }
   ],
   "source": [
    "tree.rooted"
   ]
  },
  {
   "cell_type": "code",
   "execution_count": 18,
   "metadata": {},
   "outputs": [],
   "source": [
    "def get_x_positions(tree:BaseTree.Tree):\n",
    "        \"\"\"Create a mapping of each clade to its horizontal position.\n",
    "\n",
    "        Dict of {clade: x-coord}\n",
    "        \"\"\"\n",
    "        depths = tree.depths()\n",
    "        # If there are no branch lengths, assume unit branch lengths\n",
    "        if not max(depths.values()):\n",
    "            depths = tree.depths(unit_branch_lengths=True)\n",
    "        return depths\n",
    "    \n",
    "def get_y_positions(tree:BaseTree.Tree):\n",
    "    \"\"\"Create a mapping of each clade to its vertical position.\n",
    "\n",
    "    Dict of {clade: y-coord}.\n",
    "    Coordinates are negative, and integers for tips.\n",
    "    \"\"\"\n",
    "    maxheight = tree.count_terminals()\n",
    "    # Rows are defined by the tips\n",
    "    heights = {\n",
    "        tip: maxheight - i for i, tip in enumerate(reversed(tree.get_terminals()))\n",
    "    }\n",
    "\n",
    "    # Internal nodes: place at midpoint of children\n",
    "    def calc_row(clade):\n",
    "        for subclade in clade:\n",
    "            if subclade not in heights:\n",
    "                calc_row(subclade)\n",
    "        # Closure over heights\n",
    "        heights[clade] = (\n",
    "            heights[clade.clades[0]] + heights[clade.clades[-1]]\n",
    "        ) / 2.0\n",
    "\n",
    "    if tree.root.clades:\n",
    "        calc_row(tree.root)\n",
    "    return heights"
   ]
  },
  {
   "cell_type": "code",
   "execution_count": 26,
   "metadata": {},
   "outputs": [],
   "source": [
    "import math\n",
    "column_width=80\n",
    "taxa = tree.get_terminals()\n",
    "    # Some constants for the drawing calculations\n",
    "max_label_width = max(len(str(taxon)) for taxon in taxa)\n",
    "drawing_width = column_width - max_label_width - 1\n",
    "def get_col_positions(tree:BaseTree.Tree):\n",
    "    \"\"\"Create a mapping of each clade to its column position.\"\"\"\n",
    "    depths = tree.depths()\n",
    "    # If there are no branch lengths, assume unit branch lengths\n",
    "    if max(depths.values()) == 0:\n",
    "        depths = tree.depths(unit_branch_lengths=True)\n",
    "    # Potential drawing overflow due to rounding -- 1 char per tree layer\n",
    "    fudge_margin = int(math.ceil(math.log(len(taxa), 2)))\n",
    "    cols_per_branch_unit = (drawing_width - fudge_margin) / max(depths.values())\n",
    "    return {\n",
    "        clade: int(blen * cols_per_branch_unit + 1.0)\n",
    "        for clade, blen in depths.items()\n",
    "    }"
   ]
  },
  {
   "cell_type": "code",
   "execution_count": 27,
   "metadata": {},
   "outputs": [
    {
     "data": {
      "text/plain": [
       "{Clade(): 1,\n",
       " Clade(branch_length=0.00344): 1,\n",
       " Clade(branch_length=0.0454, name='ACoV-WA3607||MK472070'): 3,\n",
       " Clade(branch_length=0.05138, name='HipPBCoV-CHB25||MN611525'): 3,\n",
       " Clade(branch_length=0.00394): 1,\n",
       " Clade(branch_length=0.00541): 1,\n",
       " Clade(branch_length=0.02555): 2,\n",
       " Clade(branch_length=0.0187): 3,\n",
       " Clade(branch_length=0.00299): 3,\n",
       " Clade(branch_length=0.01125): 4,\n",
       " Clade(branch_length=0.05637): 7,\n",
       " Clade(branch_length=0.02268): 8,\n",
       " Clade(branch_length=0.03857): 10,\n",
       " Clade(branch_length=0.02676): 12,\n",
       " Clade(branch_length=0.11684): 18,\n",
       " Clade(branch_length=0.03342): 20,\n",
       " Clade(branch_length=0.04776): 22,\n",
       " Clade(branch_length=0.02632): 24,\n",
       " Clade(branch_length=0.03556): 25,\n",
       " Clade(branch_length=0.04042): 28,\n",
       " Clade(branch_length=0.04908): 30,\n",
       " Clade(branch_length=0.00646): 30,\n",
       " Clade(branch_length=0.01979): 32,\n",
       " Clade(branch_length=0.05142): 34,\n",
       " Clade(branch_length=0.00848): 35,\n",
       " Clade(branch_length=0.03595): 37,\n",
       " Clade(branch_length=0.10062, name='MYBV-1||KM110938'): 42,\n",
       " Clade(branch_length=0.11069, name='KKCBV||KT447550'): 42,\n",
       " Clade(branch_length=0.01571): 36,\n",
       " Clade(branch_length=0.02204): 37,\n",
       " Clade(branch_length=0.11724, name='KRTGV-1||JX473849'): 43,\n",
       " Clade(branch_length=0.11126, name='DeBMAV||KP126831'): 43,\n",
       " Clade(branch_length=0.00405): 36,\n",
       " Clade(branch_length=0.12868, name='PBJV||KR139839'): 43,\n",
       " Clade(branch_length=0.12494, name='SHFV||AF180391'): 42,\n",
       " Clade(branch_length=0.0109): 35,\n",
       " Clade(branch_length=0.00401): 35,\n",
       " Clade(branch_length=0.14638, name='KRCV-1||KC787630'): 43,\n",
       " Clade(branch_length=0.14642, name='KRCV-2||KC787658'): 43,\n",
       " Clade(branch_length=0.08055): 39,\n",
       " Clade(branch_length=0.0054): 39,\n",
       " Clade(branch_length=0.0677, name='ZMbV-1||KT166441'): 43,\n",
       " Clade(branch_length=0.06912, name='FSVV||KR862307'): 43,\n",
       " Clade(branch_length=0.07048, name='SHEV||KM677927'): 43,\n",
       " Clade(branch_length=0.00803): 32,\n",
       " Clade(branch_length=0.04061): 34,\n",
       " Clade(branch_length=0.024): 35,\n",
       " Clade(branch_length=0.01687): 36,\n",
       " Clade(branch_length=0.02326): 37,\n",
       " Clade(branch_length=0.0222): 39,\n",
       " Clade(branch_length=0.01744): 40,\n",
       " Clade(branch_length=0.04788, name='RtClonAV||KU302440'): 42,\n",
       " Clade(branch_length=0.05335, name='RtMrufAV||KP280006'): 42,\n",
       " Clade(branch_length=0.06495, name='RtEiAV||KY369968'): 42,\n",
       " Clade(branch_length=0.00265): 38,\n",
       " Clade(branch_length=0.08938, name='RtMcAV||KY369967'): 42,\n",
       " Clade(branch_length=0.08636, name='PRRSV-2||U87392'): 42,\n",
       " Clade(branch_length=0.1143, name='PRRSV-1||M96262'): 42,\n",
       " Clade(branch_length=0.13764, name='RtClanAV||KY369969'): 43,\n",
       " Clade(branch_length=0.16637, name='LDV||U15146'): 43,\n",
       " Clade(branch_length=0.2046, name='APRAV||KP026921'): 43,\n",
       " Clade(branch_length=0.25096, name='EAV||X53459'): 44,\n",
       " Clade(branch_length=0.23624, name='OSV-1||MF324848'): 43,\n",
       " Clade(branch_length=0.32136, name='WPDV||JN116253'): 45,\n",
       " Clade(branch_length=0.32221, name='HOFAV||MG600022'): 42,\n",
       " Clade(branch_length=0.36686, name='GGGSAV||MG600023'): 43,\n",
       " Clade(branch_length=0.13561): 29,\n",
       " Clade(branch_length=0.25613, name='TSHSV-NX1||MH447987'): 43,\n",
       " Clade(branch_length=0.20866, name='CBHPTAV||MG600025'): 40,\n",
       " Clade(branch_length=0.01226): 20,\n",
       " Clade(branch_length=0.06997): 24,\n",
       " Clade(branch_length=0.03365): 26,\n",
       " Clade(branch_length=0.0173): 27,\n",
       " Clade(branch_length=0.01075): 27,\n",
       " Clade(branch_length=0.04102): 29,\n",
       " Clade(branch_length=0.05516): 32,\n",
       " Clade(branch_length=0.11228, name='SerTV-25||MN161572'): 38,\n",
       " Clade(branch_length=0.1119, name='INTOV||KX883638'): 38,\n",
       " Clade(branch_length=0.15256, name='HpoToV_33749||MG600028'): 37,\n",
       " Clade(branch_length=0.22844, name='SerTV-K48||MN161566'): 39,\n",
       " Clade(branch_length=0.00921): 27,\n",
       " Clade(branch_length=0.22322, name='BoNV||KM589359'): 39,\n",
       " Clade(branch_length=0.19262, name='SerTV-C18||MN161561'): 37,\n",
       " Clade(branch_length=0.03328): 27,\n",
       " Clade(branch_length=0.00848): 28,\n",
       " Clade(branch_length=0.01439): 29,\n",
       " Clade(branch_length=0.08838): 33,\n",
       " Clade(branch_length=0.03856): 35,\n",
       " Clade(branch_length=0.05452, name='MoVNV||MK182569'): 38,\n",
       " Clade(branch_length=0.0194): 36,\n",
       " Clade(branch_length=0.0205, name='BPNV||KJ541759'): 38,\n",
       " Clade(branch_length=0.02154, name='MVNV||MF351889'): 38,\n",
       " Clade(branch_length=0.07985, name='BRV||MF685025'): 38,\n",
       " Clade(branch_length=0.08371, name='ShNV||KX184715'): 33,\n",
       " Clade(branch_length=0.04869): 31,\n",
       " Clade(branch_length=0.13685, name='VCSTV-A||MT997160'): 38,\n",
       " Clade(branch_length=0.04858, name='VCSTV-B||MT997159'): 33,\n",
       " Clade(branch_length=0.01753): 28,\n",
       " Clade(branch_length=0.16188, name='SECTOV||KX883637'): 37,\n",
       " Clade(branch_length=0.16526, name='GRBSToV||MG600030'): 37,\n",
       " Clade(branch_length=0.048): 26,\n",
       " Clade(branch_length=0.21896): 38,\n",
       " Clade(branch_length=0.00658): 38,\n",
       " Clade(branch_length=0.01512, name='BaToV-Hrufipes2018||MW561977'): 39,\n",
       " Clade(branch_length=0.02707, name='BRV||AY427798'): 40,\n",
       " Clade(branch_length=0.03123, name='PoTV||JQ860350'): 40,\n",
       " Clade(branch_length=0.06938): 30,\n",
       " Clade(branch_length=0.16486, name='CSV||KJ681496'): 39,\n",
       " Clade(branch_length=0.06714): 34,\n",
       " Clade(branch_length=0.09838, name='FHMNV||GU002364'): 39,\n",
       " Clade(branch_length=0.113, name='WBV||DQ898157'): 40,\n",
       " Clade(branch_length=0.43114, name='WJHAV||MG600020'): 43,\n",
       " Clade(branch_length=0.01472): 19,\n",
       " Clade(branch_length=0.03262): 20,\n",
       " Clade(branch_length=0.02496): 22,\n",
       " Clade(branch_length=0.04643): 24,\n",
       " Clade(branch_length=0.28578, name='ACMV||MN961271'): 39,\n",
       " Clade(branch_length=0.12174): 31,\n",
       " Clade(branch_length=0.03587): 32,\n",
       " Clade(branch_length=0.12444, name='OFAV||KT966491'): 39,\n",
       " Clade(branch_length=0.03137): 34,\n",
       " Clade(branch_length=0.03794, name='KADV||KT966495'): 36,\n",
       " Clade(branch_length=0.08638, name='MenoV||JQ957873'): 39,\n",
       " Clade(branch_length=0.14457, name='HanaV||JQ957872'): 38,\n",
       " Clade(branch_length=0.29141, name='InsMV-1||MN714662'): 37,\n",
       " Clade(branch_length=0.39693, name='TurrNV||KX883629'): 41,\n",
       " Clade(branch_length=0.01709): 20,\n",
       " Clade(branch_length=0.05071): 22,\n",
       " Clade(branch_length=0.08378): 27,\n",
       " Clade(branch_length=0.28983, name='PagRV||KX883627'): 42,\n",
       " Clade(branch_length=0.33584, name='DecNV||KX883636'): 44,\n",
       " Clade(branch_length=0.36426): 41,\n",
       " Clade(branch_length=0.01921): 42,\n",
       " Clade(branch_length=0.01404, name='YHV-8||KX947267'): 43,\n",
       " Clade(branch_length=0.00939, name='YHV||EU487200'): 43,\n",
       " Clade(branch_length=0.02594, name='GAV||AF227196'): 43,\n",
       " Clade(branch_length=0.45887, name='AAbV||GBBW01007738'): 44,\n",
       " Clade(branch_length=0.27005, name='MLeV||GECV01031551'): 26,\n",
       " Clade(branch_length=0.26155, name='PsNV||MK611985'): 24,\n",
       " Clade(branch_length=0.10096): 14,\n",
       " Clade(branch_length=0.10609, name='WiCoV_HKU20||JQ065048'): 19,\n",
       " Clade(branch_length=0.00542): 14,\n",
       " Clade(branch_length=0.09183, name='NHCoV_HKU19||JQ065047'): 19,\n",
       " Clade(branch_length=0.04301): 16,\n",
       " Clade(branch_length=0.01342): 17,\n",
       " Clade(branch_length=0.01986): 18,\n",
       " Clade(branch_length=0.02449, name='WECoV_HKU16||JQ065044'): 19,\n",
       " Clade(branch_length=0.02429, name='BulCV_HKU11||FJ376619'): 19,\n",
       " Clade(branch_length=0.04731, name='CMCoV_HKU21||JQ065049'): 19,\n",
       " Clade(branch_length=0.01582): 17,\n",
       " Clade(branch_length=0.03687, name='MunCV_HKU13||FJ376622'): 19,\n",
       " Clade(branch_length=0.03847, name='PoCoV_HKU15||JQ065043'): 19,\n",
       " Clade(branch_length=0.00425): 7,\n",
       " Clade(branch_length=0.03557): 9,\n",
       " Clade(branch_length=0.03382): 11,\n",
       " Clade(branch_length=0.06256, name='BcanCoV_CB17||MK359255'): 14,\n",
       " Clade(branch_length=0.0189): 12,\n",
       " Clade(branch_length=0.03205): 14,\n",
       " Clade(branch_length=0.05997, name='ACoV_9203||KR902510'): 17,\n",
       " Clade(branch_length=0.02091, name='IBV||M95169'): 15,\n",
       " Clade(branch_length=0.04012, name='DuCoV_2714||KM454473'): 14,\n",
       " Clade(branch_length=0.11522): 15,\n",
       " Clade(branch_length=0.01197, name='BWCoV||EU111742'): 16,\n",
       " Clade(branch_length=0.00447, name='BdCoV_HKU22||KF793824'): 15,\n",
       " Clade(branch_length=0.0212): 8,\n",
       " Clade(branch_length=0.00391): 9,\n",
       " Clade(branch_length=0.0804): 13,\n",
       " Clade(branch_length=0.00796): 13,\n",
       " Clade(branch_length=0.00617): 14,\n",
       " Clade(branch_length=0.03071, name='Ty-BatCoV-HKU4||EF065505'): 15,\n",
       " Clade(branch_length=0.03244, name='Pi-BatCoV_HKU5||EF065509'): 15,\n",
       " Clade(branch_length=0.02904, name='MERS-CoV||JX869059'): 15,\n",
       " Clade(branch_length=0.03865, name='EriCoV||KC545383'): 15,\n",
       " Clade(branch_length=0.01159): 9,\n",
       " Clade(branch_length=0.04647): 12,\n",
       " Clade(branch_length=0.03605): 14,\n",
       " Clade(branch_length=0.03306, name='Ro-BatCoV_HKU9||EF065513'): 15,\n",
       " Clade(branch_length=0.01632, name='Ro-BatCoV_GCCDC1||KU762338'): 14,\n",
       " Clade(branch_length=0.04106, name='Ei-BatCoV_C704||MG693168'): 14,\n",
       " Clade(branch_length=0.01751): 10,\n",
       " Clade(branch_length=0.07976): 14,\n",
       " Clade(branch_length=0.00419): 15,\n",
       " Clade(branch_length=0.00718): 15,\n",
       " Clade(branch_length=0.0, name='SARS-CoV||AY274119'): 15,\n",
       " Clade(branch_length=0.0, name='SARS-CoV||AY613950'): 15,\n",
       " Clade(branch_length=0.00741, name='SARSr-CoV||KY352407'): 15,\n",
       " Clade(branch_length=0.01954, name='SARS-CoV-2||MN908947'): 15,\n",
       " Clade(branch_length=0.07844, name='Bat_Hp-BetaCoV||KF636752'): 14,\n",
       " Clade(branch_length=0.08717): 13,\n",
       " Clade(branch_length=0.00994): 14,\n",
       " Clade(branch_length=0.00878): 14,\n",
       " Clade(branch_length=0.03031, name='HCoV_HKU1||AY597011'): 16,\n",
       " Clade(branch_length=0.02955, name='MHV||AY700211'): 16,\n",
       " Clade(branch_length=0.00076): 14,\n",
       " Clade(branch_length=0.02374, name='HCoV_OC43||AY585228'): 15,\n",
       " Clade(branch_length=0.02889, name='MrufCoV_2JL14||KY370046'): 15,\n",
       " Clade(branch_length=0.03235, name='ChRCoV_HKU24||KM349742'): 15,\n",
       " Clade(branch_length=0.01926): 5,\n",
       " Clade(branch_length=0.06753, name='Rh-BatCoV_HKU2||EF203064'): 9,\n",
       " Clade(branch_length=0.14418, name='Sa-CoV_T14||KY370053'): 13,\n",
       " Clade(branch_length=0.05786): 7,\n",
       " Clade(branch_length=0.0349, name='MCoV||HM245925'): 8,\n",
       " Clade(branch_length=0.02113, name='TGEV||AJ271965'): 8,\n",
       " Clade(branch_length=0.15287, name='Sm-CoV_X74||KY967715'): 11,\n",
       " Clade(branch_length=0.07881, name='LRNV||KF294380'): 6,\n",
       " Clade(branch_length=0.00524): 1,\n",
       " Clade(branch_length=0.0114): 2,\n",
       " Clade(branch_length=0.00198): 2,\n",
       " Clade(branch_length=0.05009, name='BtKYNL63||KY073745'): 5,\n",
       " Clade(branch_length=0.07835, name='HCoV_NL63||AY567487'): 6,\n",
       " Clade(branch_length=0.10157): 7,\n",
       " Clade(branch_length=0.00757, name='HCoV_229E||JX503061'): 8,\n",
       " Clade(branch_length=0.00178, name='HCoV_229E||AF304460'): 7,\n",
       " Clade(branch_length=0.0716, name='BtCoV-AMA-L-F||MT663548'): 5,\n",
       " Clade(branch_length=0.00491): 1,\n",
       " Clade(branch_length=0.02762): 2,\n",
       " Clade(branch_length=0.02446, name='Mi-BatCoV_1A||EU420138'): 4,\n",
       " Clade(branch_length=0.02701, name='Mi-BatCoV_HKU8||EU420139'): 4,\n",
       " Clade(branch_length=0.01815): 2,\n",
       " Clade(branch_length=0.03468, name='BtNv-AlphaCoV||KJ473809'): 4,\n",
       " Clade(branch_length=0.03701, name='PK-BatCoV||MH938449'): 4,\n",
       " Clade(branch_length=0.00658): 1,\n",
       " Clade(branch_length=0.00828): 1,\n",
       " Clade(branch_length=0.0159): 2,\n",
       " Clade(branch_length=0.01801): 3,\n",
       " Clade(branch_length=0.0557, name='BtRf-AlphaCoV||KJ473807'): 6,\n",
       " Clade(branch_length=0.0229, name='PEDV||AF353511'): 4,\n",
       " Clade(branch_length=0.03203, name='ACoV-WA1087||MK472067'): 4,\n",
       " Clade(branch_length=0.05531, name='Sc-BatCoV_512||DQ648858'): 4,\n",
       " Clade(branch_length=0.01223): 1,\n",
       " Clade(branch_length=0.00738): 2,\n",
       " Clade(branch_length=0.03164, name='TyBCoV-HKU33||MK720944'): 4,\n",
       " Clade(branch_length=0.03297, name='ACoV-WA2028||MK472068'): 4,\n",
       " Clade(branch_length=0.07041, name='BtMr-AlphaCoV||KJ473806'): 5}"
      ]
     },
     "execution_count": 27,
     "metadata": {},
     "output_type": "execute_result"
    }
   ],
   "source": [
    "get_col_positions(tree)"
   ]
  },
  {
   "cell_type": "code",
   "execution_count": 21,
   "metadata": {},
   "outputs": [],
   "source": [
    "x_pos,y_pos=get_x_positions(tree),get_y_positions(tree)"
   ]
  },
  {
   "cell_type": "code",
   "execution_count": 22,
   "metadata": {},
   "outputs": [],
   "source": [
    "x,y=[],[]\n",
    "for k in x_pos.keys():\n",
    "    x.append(x_pos[k])\n",
    "    y.append(y_pos[k])"
   ]
  },
  {
   "cell_type": "code",
   "execution_count": 23,
   "metadata": {},
   "outputs": [
    {
     "data": {
      "text/plain": [
       "<Axes: >"
      ]
     },
     "execution_count": 23,
     "metadata": {},
     "output_type": "execute_result"
    },
    {
     "data": {
      "image/png": "[encoded data removed]",
      "text/plain": [
       "<Figure size 640x480 with 1 Axes>"
      ]
     },
     "metadata": {},
     "output_type": "display_data"
    }
   ],
   "source": [
    "import seaborn as sns\n",
    "sns.scatterplot(x=x,y=y)"
   ]
  }
 ],
 "metadata": {
  "kernelspec": {
   "display_name": "rdrp",
   "language": "python",
   "name": "python3"
  },
  "language_info": {
   "codemirror_mode": {
    "name": "ipython",
    "version": 3
   },
   "file_extension": ".py",
   "mimetype": "text/x-python",
   "name": "python",
   "nbconvert_exporter": "python",
   "pygments_lexer": "ipython3",
   "version": "3.11.6"
  }
 },
 "nbformat": 4,
 "nbformat_minor": 2
}
